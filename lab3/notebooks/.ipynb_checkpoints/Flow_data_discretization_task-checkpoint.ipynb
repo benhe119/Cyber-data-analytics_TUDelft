{
 "cells": [
  {
   "cell_type": "code",
   "execution_count": 1,
   "metadata": {},
   "outputs": [],
   "source": [
    "import pandas as pd\n",
    "import random\n",
    "import matplotlib.pyplot as plt\n",
    "import seaborn as sns\n",
    "import numpy as np\n",
    "sns.set()"
   ]
  },
  {
   "cell_type": "markdown",
   "metadata": {},
   "source": [
    "### Using scenario 10, as requested."
   ]
  },
  {
   "cell_type": "code",
   "execution_count": 4,
   "metadata": {},
   "outputs": [],
   "source": [
    "DATA_PATH_ORIG = r'../data/capture20110818.pcap.netflow.labeled.csv'\n",
    "DATA_PATH_NEW = r'../data/capture20110818.pcap.netflow.labeled_processed.csv'"
   ]
  },
  {
   "cell_type": "markdown",
   "metadata": {},
   "source": [
    "## IMPORTANT     \n",
    "The code below reads the file and erases the '->' characters.    \n",
    "It takes quite a few minutes, so run it only if you don't have the processed file yet :("
   ]
  },
  {
   "cell_type": "code",
   "execution_count": 5,
   "metadata": {},
   "outputs": [],
   "source": [
    "# text = open(DATA_PATH_ORIG, \"r\")\n",
    "# text = ''.join([i for i in text]) \\\n",
    "#     .replace(\"->\", \"\")\n",
    "# x = open(DATA_PATH_NEW,\"w\")\n",
    "# x.writelines(text)\n",
    "# x.close()"
   ]
  },
  {
   "cell_type": "markdown",
   "metadata": {},
   "source": [
    "Read the data"
   ]
  },
  {
   "cell_type": "code",
   "execution_count": 6,
   "metadata": {},
   "outputs": [
    {
     "data": {
      "text/html": [
       "<div>\n",
       "<style scoped>\n",
       "    .dataframe tbody tr th:only-of-type {\n",
       "        vertical-align: middle;\n",
       "    }\n",
       "\n",
       "    .dataframe tbody tr th {\n",
       "        vertical-align: top;\n",
       "    }\n",
       "\n",
       "    .dataframe thead th {\n",
       "        text-align: right;\n",
       "    }\n",
       "</style>\n",
       "<table border=\"1\" class=\"dataframe\">\n",
       "  <thead>\n",
       "    <tr style=\"text-align: right;\">\n",
       "      <th></th>\n",
       "      <th>start_date</th>\n",
       "      <th>duration</th>\n",
       "      <th>protocol</th>\n",
       "      <th>src_addr</th>\n",
       "      <th>dst_addr</th>\n",
       "      <th>flags</th>\n",
       "      <th>tos</th>\n",
       "      <th>packets</th>\n",
       "      <th>bytes</th>\n",
       "      <th>flows</th>\n",
       "      <th>label</th>\n",
       "    </tr>\n",
       "  </thead>\n",
       "  <tbody>\n",
       "    <tr>\n",
       "      <th>0</th>\n",
       "      <td>2011-08-18 10:19:13.328</td>\n",
       "      <td>0.002</td>\n",
       "      <td>TCP</td>\n",
       "      <td>147.32.86.166:33426</td>\n",
       "      <td>212.24.150.110:25443</td>\n",
       "      <td>FRPA_</td>\n",
       "      <td>0</td>\n",
       "      <td>4</td>\n",
       "      <td>321</td>\n",
       "      <td>1</td>\n",
       "      <td>Background</td>\n",
       "    </tr>\n",
       "    <tr>\n",
       "      <th>1</th>\n",
       "      <td>2011-08-18 10:19:13.328</td>\n",
       "      <td>4.995</td>\n",
       "      <td>UDP</td>\n",
       "      <td>82.39.2.249:41915</td>\n",
       "      <td>147.32.84.59:43087</td>\n",
       "      <td>INT</td>\n",
       "      <td>0</td>\n",
       "      <td>617</td>\n",
       "      <td>40095</td>\n",
       "      <td>1</td>\n",
       "      <td>Background</td>\n",
       "    </tr>\n",
       "    <tr>\n",
       "      <th>2</th>\n",
       "      <td>2011-08-18 10:19:13.329</td>\n",
       "      <td>4.996</td>\n",
       "      <td>UDP</td>\n",
       "      <td>147.32.84.59:43087</td>\n",
       "      <td>82.39.2.249:41915</td>\n",
       "      <td>INT</td>\n",
       "      <td>0</td>\n",
       "      <td>1290</td>\n",
       "      <td>1909200</td>\n",
       "      <td>1</td>\n",
       "      <td>Background</td>\n",
       "    </tr>\n",
       "    <tr>\n",
       "      <th>3</th>\n",
       "      <td>2011-08-18 10:19:13.330</td>\n",
       "      <td>0.000</td>\n",
       "      <td>TCP</td>\n",
       "      <td>147.32.86.166:42020</td>\n",
       "      <td>147.32.192.34:993</td>\n",
       "      <td>A_</td>\n",
       "      <td>0</td>\n",
       "      <td>1</td>\n",
       "      <td>66</td>\n",
       "      <td>1</td>\n",
       "      <td>Background</td>\n",
       "    </tr>\n",
       "    <tr>\n",
       "      <th>4</th>\n",
       "      <td>2011-08-18 10:19:13.330</td>\n",
       "      <td>0.000</td>\n",
       "      <td>TCP</td>\n",
       "      <td>212.24.150.110:25443</td>\n",
       "      <td>147.32.86.166:33426</td>\n",
       "      <td>FPA_</td>\n",
       "      <td>0</td>\n",
       "      <td>2</td>\n",
       "      <td>169</td>\n",
       "      <td>1</td>\n",
       "      <td>Background</td>\n",
       "    </tr>\n",
       "  </tbody>\n",
       "</table>\n",
       "</div>"
      ],
      "text/plain": [
       "               start_date  duration protocol              src_addr  \\\n",
       "0 2011-08-18 10:19:13.328     0.002      TCP   147.32.86.166:33426   \n",
       "1 2011-08-18 10:19:13.328     4.995      UDP     82.39.2.249:41915   \n",
       "2 2011-08-18 10:19:13.329     4.996      UDP    147.32.84.59:43087   \n",
       "3 2011-08-18 10:19:13.330     0.000      TCP   147.32.86.166:42020   \n",
       "4 2011-08-18 10:19:13.330     0.000      TCP  212.24.150.110:25443   \n",
       "\n",
       "               dst_addr  flags  tos  packets    bytes  flows       label  \n",
       "0  212.24.150.110:25443  FRPA_    0        4      321      1  Background  \n",
       "1    147.32.84.59:43087    INT    0      617    40095      1  Background  \n",
       "2     82.39.2.249:41915    INT    0     1290  1909200      1  Background  \n",
       "3     147.32.192.34:993     A_    0        1       66      1  Background  \n",
       "4   147.32.86.166:33426   FPA_    0        2      169      1  Background  "
      ]
     },
     "execution_count": 6,
     "metadata": {},
     "output_type": "execute_result"
    }
   ],
   "source": [
    "column_names = ['_', '_2', 'duration', 'protocol', 'src_addr', 'dst_addr', 'flags', 'tos', 'packets', 'bytes', 'flows', 'label']\n",
    "\n",
    "df = pd.read_csv(\n",
    "    DATA_PATH_NEW,\n",
    "    delimiter='\\s+',\n",
    "    skiprows=[0],\n",
    "    header=None, \n",
    "    names=column_names,\n",
    "    index_col=False,\n",
    "    parse_dates={\"start_date\": [0,1]}\n",
    ")\n",
    "df.head()"
   ]
  },
  {
   "cell_type": "markdown",
   "metadata": {},
   "source": [
    "Have a look at the labels we have"
   ]
  },
  {
   "cell_type": "code",
   "execution_count": 20,
   "metadata": {},
   "outputs": [
    {
     "data": {
      "text/plain": [
       "array(['Background', 'LEGITIMATE', 'Botnet'], dtype=object)"
      ]
     },
     "execution_count": 20,
     "metadata": {},
     "output_type": "execute_result"
    }
   ],
   "source": [
    "df['label'].unique()"
   ]
  },
  {
   "cell_type": "markdown",
   "metadata": {},
   "source": [
    "Remove all background flows from the data"
   ]
  },
  {
   "cell_type": "code",
   "execution_count": 19,
   "metadata": {},
   "outputs": [],
   "source": [
    "df_no_back = df[df['label'] != 'Background']"
   ]
  },
  {
   "cell_type": "markdown",
   "metadata": {},
   "source": [
    "We need to select one infected host and investigate the data. We select '147.32.84.165' by looking at the documentation of scenario 10."
   ]
  },
  {
   "cell_type": "code",
   "execution_count": 22,
   "metadata": {},
   "outputs": [
    {
     "name": "stdout",
     "output_type": "stream",
     "text": [
      "28343 connections with infected host '147.32.84.165' found.\n"
     ]
    }
   ],
   "source": [
    "infected_host_ip = '147.32.84.165'\n",
    "inf_data = df_no_back[(df_no_back['src_addr'] == infected_host_ip) | (df_no_back['dst_addr'] == infected_host_ip)]\n",
    "print(f\"{inf_data.shape[0]} connections with infected host '{infected_host_ip}' found.\")"
   ]
  },
  {
   "cell_type": "markdown",
   "metadata": {},
   "source": [
    "## Data investigation to find two features to use"
   ]
  },
  {
   "cell_type": "code",
   "execution_count": null,
   "metadata": {},
   "outputs": [],
   "source": []
  }
 ],
 "metadata": {
  "kernelspec": {
   "display_name": "Python 3",
   "language": "python",
   "name": "python3"
  },
  "language_info": {
   "codemirror_mode": {
    "name": "ipython",
    "version": 3
   },
   "file_extension": ".py",
   "mimetype": "text/x-python",
   "name": "python",
   "nbconvert_exporter": "python",
   "pygments_lexer": "ipython3",
   "version": "3.7.0"
  }
 },
 "nbformat": 4,
 "nbformat_minor": 2
}
