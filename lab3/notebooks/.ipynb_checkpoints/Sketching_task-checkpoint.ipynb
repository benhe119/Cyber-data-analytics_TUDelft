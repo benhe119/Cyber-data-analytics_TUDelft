{
 "cells": [
  {
   "cell_type": "code",
   "execution_count": 22,
   "metadata": {},
   "outputs": [],
   "source": [
    "import pandas as pd\n",
    "import random\n",
    "import matplotlib.pyplot as plt\n",
    "import seaborn as sns\n",
    "import numpy as np\n",
    "import math \n",
    "import mmh3 \n",
    "sns.set()"
   ]
  },
  {
   "cell_type": "code",
   "execution_count": 6,
   "metadata": {},
   "outputs": [],
   "source": [
    "DATA_PATH_ORIG = r'../data/capture20110812.pcap.netflow.labeled.csv'\n",
    "DATA_PATH_NEW = r'../data/capture20110812.pcap.netflow.labeled_processed.csv'"
   ]
  },
  {
   "cell_type": "markdown",
   "metadata": {},
   "source": [
    "## IMPORTANT     \n",
    "The code below reads the file and erases the '->' characters.    \n",
    "It takes quite a few minutes, so run it only if you don't have the processed file yet :("
   ]
  },
  {
   "cell_type": "code",
   "execution_count": 7,
   "metadata": {},
   "outputs": [],
   "source": [
    "#text = open(DATA_PATH_ORIG, \"r\")\n",
    "#text = ''.join([i for i in text]) \\\n",
    "#     .replace(\"->\", \"\")\n",
    "#x = open(DATA_PATH_NEW,\"w\")\n",
    "#x.writelines(text)\n",
    "#x.close()"
   ]
  },
  {
   "cell_type": "code",
   "execution_count": 8,
   "metadata": {
    "scrolled": true
   },
   "outputs": [
    {
     "data": {
      "text/html": [
       "<div>\n",
       "<style scoped>\n",
       "    .dataframe tbody tr th:only-of-type {\n",
       "        vertical-align: middle;\n",
       "    }\n",
       "\n",
       "    .dataframe tbody tr th {\n",
       "        vertical-align: top;\n",
       "    }\n",
       "\n",
       "    .dataframe thead th {\n",
       "        text-align: right;\n",
       "    }\n",
       "</style>\n",
       "<table border=\"1\" class=\"dataframe\">\n",
       "  <thead>\n",
       "    <tr style=\"text-align: right;\">\n",
       "      <th></th>\n",
       "      <th>start_date</th>\n",
       "      <th>duration</th>\n",
       "      <th>protocol</th>\n",
       "      <th>src_addr</th>\n",
       "      <th>dst_addr</th>\n",
       "      <th>flags</th>\n",
       "      <th>tos</th>\n",
       "      <th>packets</th>\n",
       "      <th>bytes</th>\n",
       "      <th>flows</th>\n",
       "      <th>label</th>\n",
       "    </tr>\n",
       "  </thead>\n",
       "  <tbody>\n",
       "    <tr>\n",
       "      <th>0</th>\n",
       "      <td>2011-08-12 15:24:01.105</td>\n",
       "      <td>4.677</td>\n",
       "      <td>TCP</td>\n",
       "      <td>74.125.108.243:80</td>\n",
       "      <td>147.32.86.187:55707</td>\n",
       "      <td>PA_</td>\n",
       "      <td>0</td>\n",
       "      <td>452</td>\n",
       "      <td>682688</td>\n",
       "      <td>1</td>\n",
       "      <td>Background</td>\n",
       "    </tr>\n",
       "    <tr>\n",
       "      <th>1</th>\n",
       "      <td>2011-08-12 15:24:01.105</td>\n",
       "      <td>3.110</td>\n",
       "      <td>TCP</td>\n",
       "      <td>147.32.84.164:22</td>\n",
       "      <td>83.208.193.123:15173</td>\n",
       "      <td>PA_</td>\n",
       "      <td>0</td>\n",
       "      <td>5</td>\n",
       "      <td>506</td>\n",
       "      <td>1</td>\n",
       "      <td>LEGITIMATE</td>\n",
       "    </tr>\n",
       "    <tr>\n",
       "      <th>2</th>\n",
       "      <td>2011-08-12 15:24:01.105</td>\n",
       "      <td>4.678</td>\n",
       "      <td>TCP</td>\n",
       "      <td>147.32.86.187:55707</td>\n",
       "      <td>74.125.108.243:80</td>\n",
       "      <td>A_</td>\n",
       "      <td>0</td>\n",
       "      <td>106</td>\n",
       "      <td>6510</td>\n",
       "      <td>1</td>\n",
       "      <td>LEGITIMATE</td>\n",
       "    </tr>\n",
       "    <tr>\n",
       "      <th>3</th>\n",
       "      <td>2011-08-12 15:24:01.106</td>\n",
       "      <td>4.989</td>\n",
       "      <td>TCP</td>\n",
       "      <td>217.168.211.184:3953</td>\n",
       "      <td>147.32.84.14:22</td>\n",
       "      <td>PA_</td>\n",
       "      <td>0</td>\n",
       "      <td>1393</td>\n",
       "      <td>95812</td>\n",
       "      <td>1</td>\n",
       "      <td>Background</td>\n",
       "    </tr>\n",
       "    <tr>\n",
       "      <th>4</th>\n",
       "      <td>2011-08-12 15:24:01.113</td>\n",
       "      <td>4.988</td>\n",
       "      <td>UDP</td>\n",
       "      <td>173.9.132.155:54369</td>\n",
       "      <td>147.32.84.59:15046</td>\n",
       "      <td>INT</td>\n",
       "      <td>0</td>\n",
       "      <td>811</td>\n",
       "      <td>680898</td>\n",
       "      <td>1</td>\n",
       "      <td>Background</td>\n",
       "    </tr>\n",
       "  </tbody>\n",
       "</table>\n",
       "</div>"
      ],
      "text/plain": [
       "               start_date  duration protocol              src_addr  \\\n",
       "0 2011-08-12 15:24:01.105     4.677      TCP     74.125.108.243:80   \n",
       "1 2011-08-12 15:24:01.105     3.110      TCP      147.32.84.164:22   \n",
       "2 2011-08-12 15:24:01.105     4.678      TCP   147.32.86.187:55707   \n",
       "3 2011-08-12 15:24:01.106     4.989      TCP  217.168.211.184:3953   \n",
       "4 2011-08-12 15:24:01.113     4.988      UDP   173.9.132.155:54369   \n",
       "\n",
       "               dst_addr flags  tos  packets   bytes  flows       label  \n",
       "0   147.32.86.187:55707   PA_    0      452  682688      1  Background  \n",
       "1  83.208.193.123:15173   PA_    0        5     506      1  LEGITIMATE  \n",
       "2     74.125.108.243:80    A_    0      106    6510      1  LEGITIMATE  \n",
       "3       147.32.84.14:22   PA_    0     1393   95812      1  Background  \n",
       "4    147.32.84.59:15046   INT    0      811  680898      1  Background  "
      ]
     },
     "execution_count": 8,
     "metadata": {},
     "output_type": "execute_result"
    }
   ],
   "source": [
    "column_names = ['_', '_2', 'duration', 'protocol', 'src_addr', 'dst_addr', 'flags', 'tos', 'packets', 'bytes', 'flows', 'label']\n",
    "\n",
    "df = pd.read_csv(\n",
    "    DATA_PATH_NEW,\n",
    "    delimiter='\\s+',\n",
    "    skiprows=[0],\n",
    "    header=None, \n",
    "    names=column_names,\n",
    "    index_col=False,\n",
    "    parse_dates={\"start_date\": [0,1]}\n",
    ")\n",
    "df.head()"
   ]
  },
  {
   "cell_type": "markdown",
   "metadata": {},
   "source": [
    "We obtained the IP of the infected host from the documentation of the scenario 44."
   ]
  },
  {
   "cell_type": "code",
   "execution_count": 9,
   "metadata": {},
   "outputs": [],
   "source": [
    "host_ip = \"147.32.84.165\" # IP obtained from documentation"
   ]
  },
  {
   "cell_type": "markdown",
   "metadata": {},
   "source": [
    "Let's keep all the other IPs the host connects with"
   ]
  },
  {
   "cell_type": "code",
   "execution_count": 10,
   "metadata": {},
   "outputs": [
    {
     "name": "stdout",
     "output_type": "stream",
     "text": [
      "3652 connections with the host found.\n"
     ]
    }
   ],
   "source": [
    "# let's build an iterable with all the other IPs this guy connects with\n",
    "connections = df[(df['src_addr'] == host_ip) | (df['dst_addr'] == host_ip)][['src_addr', 'dst_addr']]\n",
    "\n",
    "other_ips = connections.apply(lambda row: row['dst_addr'] if row['src_addr'] == host_ip else row['src_addr'], axis=1)\n",
    "print(f\"{other_ips.size} connections with the host found.\")"
   ]
  },
  {
   "cell_type": "markdown",
   "metadata": {},
   "source": [
    "Just a sanity check to assert that we do not have our host_ip somewhere in the list of IPs"
   ]
  },
  {
   "cell_type": "code",
   "execution_count": 11,
   "metadata": {},
   "outputs": [
    {
     "name": "stdout",
     "output_type": "stream",
     "text": [
      "3652\n",
      "3652\n"
     ]
    }
   ],
   "source": [
    "print(len([ip for ip in other_ips if ip != host_ip]))\n",
    "print(len(other_ips))"
   ]
  },
  {
   "cell_type": "markdown",
   "metadata": {},
   "source": [
    "# Count Min Sketch"
   ]
  },
  {
   "cell_type": "markdown",
   "metadata": {},
   "source": [
    "Resource: https://olivif.github.io/2017/count-min-sketch/\n",
    "\n",
    "Resource for independent hash functions: https://www.geeksforgeeks.org/bloom-filters-introduction-and-python-implementation/"
   ]
  },
  {
   "cell_type": "markdown",
   "metadata": {},
   "source": [
    "Let's starts by implementing the function that computes the INDEPEDENT hashings."
   ]
  },
  {
   "cell_type": "code",
   "execution_count": 19,
   "metadata": {},
   "outputs": [],
   "source": [
    "def get_hash_indexes(item, hash_count, bit_array_size):\n",
    "    digests = [] \n",
    "    for i in range(hash_count):  \n",
    "        digest = mmh3.hash(item,i) % bit_array_size \n",
    "        digests.append(digest) \n",
    "  \n",
    "    return digests\n",
    "    "
   ]
  },
  {
   "cell_type": "code",
   "execution_count": 26,
   "metadata": {},
   "outputs": [
    {
     "name": "stdout",
     "output_type": "stream",
     "text": [
      "[[ 14.  21.  36.  24.  21.  23.  18.  28.  16.  31.  34.  22.   8.  23.\n",
      "   12.  38.  67.  20. 107.  23.  22.  21.  25.  21.  37.  33.  24. 747.\n",
      "   34.  18.  25.  34.  24.  56.  25.  15.  27.  15.  15.  23.  34.  26.\n",
      "   19.  18.  20.  33.  65.  27.  23.  30.  25.  26.  36. 209.  31.  24.\n",
      "   28.  23.  16.  28.  35.  26.  25.  21.  30.  21.  17.  23.  21.  37.\n",
      "   19.  23.  37.  24.  11.  25.  25.  27.  15. 103.  21.  31.  33.  16.\n",
      "   19.  22.  34.  27.  21.  27.  14.  59.  18.  28.  25.  27.  20.  37.\n",
      "   21.  19.]\n",
      " [ 35.  28.  37.  21.  22.  21.  28.  16.  28.  15.  20.  40.  25.  32.\n",
      "   41.  21.  17.  28.  11.  27.  23.  13.  34.  12.  22.  68.  21.  26.\n",
      "   33.  17.   8.  33.  16.  19.  22.  22.  19.  24.  21.  19.  14.  22.\n",
      "   28.  15.  25.  22.  10.  24.   9.  56.  30.  19.  32. 103.  11.  16.\n",
      "   25.  31.  27.  16.  19.  19.  41.  16.  26.  13.  27. 212.  28.  16.\n",
      "  770.  36.  16.  18.  22.  24.  22.  24.  29.  27.  30.  46.  25.  12.\n",
      "   76.  33.  24.  40.  25.  23.  17.  30. 112.  31.  27.  50.  26.  40.\n",
      "   38.  22.]\n",
      " [ 26.  29.  30.  33. 110.   8.  37.  13.  77.  15.  21.  34.  17.  18.\n",
      "   46.  16.  32.  92.  30.  28.  27.  71.  39.  24.  35.  28.  25.  33.\n",
      "   12.  25.  41. 738.  37.  26.  20.  25.  31.   7.  37.  22.  27.  32.\n",
      "   20. 192.  20.  13.  17.  28.  42.  25.  45.  18.  35.  39.  13.  20.\n",
      "   24.  21.  33.  20.  27.  15.  13.  22.  37.  21.  24.  23.  17.  22.\n",
      "   34.  27.  18.  19.  43.  22.  16.  23.  24.  25.  15.  24.  34.  17.\n",
      "   11.  18.  28.  17.  27.  15.  34.  30.  18.  25.  32.  18.  39.  23.\n",
      "   34.  22.]\n",
      " [ 31.  19.  27.  28.  26.  22.  21.  28.  20.  13.  29.  30. 123.  25.\n",
      "   27.  39.  33.  55.  22.  10.  34.  22.  31.  22.  13.  23.  23. 105.\n",
      "   40.  25.  22.  15.  20.  18.  18.  23.  31.  19.  21.  31.  25.  24.\n",
      "    3.  30.  29.  15.  74.  18.  19.  18.  18.  29.  43.  35.  24.  14.\n",
      "   42.  14.  24.  32.  26.  25.  25.  20.  19.  75.  18.  19.  37.  34.\n",
      "   18.  22.  13.  17.  17.  29.  20.  26.  34.  11.  26.  23. 755.  21.\n",
      "  208.  23.  20.  15.  33.  27.  16.  15.  18.  41.  27.  14.  26.  24.\n",
      "   51.  50.]\n",
      " [ 34.  13.  38.  31. 739.  28.  38.  23.  30.  25.  40.  25.  16.  32.\n",
      "   22. 103.  61.   9.  23.  29.  21.  27.  28.  29.  21.  29.  29.  19.\n",
      "   31.  24. 100.  40. 204.  24.  66.  25.  30.  18.  20.  20.  14.  31.\n",
      "   15.  33.  25.  32.  20.  17.  22.  38.  12.  30.  31.  16.  19.  21.\n",
      "   26.  24.  36.  14.  48.  28.  23.  31.  17.  20.  30.  18.  28.  27.\n",
      "   15.  22.  23.  30.  20.  14.  27.  17.  19.  21.  19.  29.  21.  22.\n",
      "   67.  30.  29.  19.  34.  20.  29.  19.  16.  30.  29.  23.  30.  21.\n",
      "   30.  17.]\n",
      " [ 36.  16.  31.  24.  27.  36.  15.  20.  38.  27.  27.  35.  22.  19.\n",
      "  789.  20.  10.  28.  14.  25.  33.  16.  14.  33.  28.  36.  19.  19.\n",
      "  101.  25.  16.  22.  27.  39.  21.  17.  29.  32.  18.  17.  35.  13.\n",
      "   32.  12. 201.  33.  20.  15.  13.  22.  37.  20.  15.  16.  15.  30.\n",
      "   31.  58.  28.  14.  36.  61.  41.  35.  27.  21.  20.  23.  14.  35.\n",
      "   18.  26.  13.  13.  28.  35.  19.  17.  24.  33.  25.  42. 102.  26.\n",
      "   19.  23.  31.  18.  32.  32.  26.  27.  19.  24.  20.  64.  22.  32.\n",
      "   20.  28.]\n",
      " [ 27.  31.  30.  19. 112.  19.  27.  26.  25.  42.  28.  16.  24.  17.\n",
      "   31.  27.  18.  13.  38.  20.  13.  19.  44.  23.  17.  13.  30.  23.\n",
      "   21.  17.  19.  30.  38.  15. 208.  48.  13.  30.  27.  23.  19.  69.\n",
      "   68.  90.  17.  23.  30.  20.  32.  24.  23.  25.  26.  38.  18.  29.\n",
      "   21.  38.  29.  21.  27.  20.  14. 745.  10.  21.  24.  13.  33.  22.\n",
      "   25.  19.   9.  16.  31.  24.  21.  29.  38.  36.  40.  22.  16.  17.\n",
      "   24.  45.  27.  24.  25.  23.  87.  18.  32.  23.  33.  25.  16.  24.\n",
      "   12.  21.]]\n"
     ]
    }
   ],
   "source": [
    "height = 7\n",
    "width = 100 \n",
    "buckets = np.zeros((height, width))\n",
    "unique_ips = set()\n",
    "\n",
    "for ip in other_ips:\n",
    "    digests = get_hash_indexes(ip, height, width)\n",
    "    unique_ips.add(ip)\n",
    "    \n",
    "    for id_height, id_width in enumerate(digests):\n",
    "        buckets[id_height, id_width] += 1\n",
    "  \n",
    "print(buckets)\n",
    "\n",
    "\n",
    "#Loop over the unique ips, hash them again, get the counts from the indexes and choose the min one as frequency\n",
    "\n",
    "    "
   ]
  },
  {
   "cell_type": "code",
   "execution_count": null,
   "metadata": {},
   "outputs": [],
   "source": []
  }
 ],
 "metadata": {
  "kernelspec": {
   "display_name": "Python 3",
   "language": "python",
   "name": "python3"
  },
  "language_info": {
   "codemirror_mode": {
    "name": "ipython",
    "version": 3
   },
   "file_extension": ".py",
   "mimetype": "text/x-python",
   "name": "python",
   "nbconvert_exporter": "python",
   "pygments_lexer": "ipython3",
   "version": "3.7.3"
  }
 },
 "nbformat": 4,
 "nbformat_minor": 2
}
