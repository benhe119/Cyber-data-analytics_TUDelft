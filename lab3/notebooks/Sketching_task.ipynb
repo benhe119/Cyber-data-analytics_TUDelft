{
 "cells": [
  {
   "cell_type": "code",
   "execution_count": 1,
   "metadata": {},
   "outputs": [],
   "source": [
    "import pandas as pd\n",
    "import random\n",
    "import matplotlib.pyplot as plt\n",
    "import seaborn as sns\n",
    "sns.set()"
   ]
  },
  {
   "cell_type": "code",
   "execution_count": 2,
   "metadata": {},
   "outputs": [],
   "source": [
    "DATA_PATH_ORIG = r'../data/capture20110812.pcap.netflow.labeled.csv'\n",
    "DATA_PATH_NEW = r'../data/capture20110812.pcap.netflow.labeled_processed.csv'"
   ]
  },
  {
   "cell_type": "markdown",
   "metadata": {},
   "source": [
    "## IMPORTANT     \n",
    "The code below reads the file and erases the '->' characters.    \n",
    "It takes quite a few minutes, so run it only if you don't have the processed file yet :("
   ]
  },
  {
   "cell_type": "code",
   "execution_count": 3,
   "metadata": {},
   "outputs": [],
   "source": [
    "# text = open(DATA_PATH, \"r\")\n",
    "# text = ''.join([i for i in text]) \\\n",
    "#     .replace(\"->\", \"\")\n",
    "# x = open(DATA_PATH_NEW,\"w\")\n",
    "# x.writelines(text)\n",
    "# x.close()"
   ]
  },
  {
   "cell_type": "code",
   "execution_count": 5,
   "metadata": {},
   "outputs": [
    {
     "data": {
      "text/html": [
       "<div>\n",
       "<style scoped>\n",
       "    .dataframe tbody tr th:only-of-type {\n",
       "        vertical-align: middle;\n",
       "    }\n",
       "\n",
       "    .dataframe tbody tr th {\n",
       "        vertical-align: top;\n",
       "    }\n",
       "\n",
       "    .dataframe thead th {\n",
       "        text-align: right;\n",
       "    }\n",
       "</style>\n",
       "<table border=\"1\" class=\"dataframe\">\n",
       "  <thead>\n",
       "    <tr style=\"text-align: right;\">\n",
       "      <th></th>\n",
       "      <th>start_date</th>\n",
       "      <th>duration</th>\n",
       "      <th>protocol</th>\n",
       "      <th>src_addr</th>\n",
       "      <th>dst_addr</th>\n",
       "      <th>flags</th>\n",
       "      <th>tos</th>\n",
       "      <th>packets</th>\n",
       "      <th>bytes</th>\n",
       "      <th>flows</th>\n",
       "      <th>label</th>\n",
       "    </tr>\n",
       "  </thead>\n",
       "  <tbody>\n",
       "    <tr>\n",
       "      <th>0</th>\n",
       "      <td>2011-08-12 15:24:01.105</td>\n",
       "      <td>4.677</td>\n",
       "      <td>TCP</td>\n",
       "      <td>74.125.108.243:80</td>\n",
       "      <td>147.32.86.187:55707</td>\n",
       "      <td>PA_</td>\n",
       "      <td>0</td>\n",
       "      <td>452</td>\n",
       "      <td>682688</td>\n",
       "      <td>1</td>\n",
       "      <td>Background</td>\n",
       "    </tr>\n",
       "    <tr>\n",
       "      <th>1</th>\n",
       "      <td>2011-08-12 15:24:01.105</td>\n",
       "      <td>3.110</td>\n",
       "      <td>TCP</td>\n",
       "      <td>147.32.84.164:22</td>\n",
       "      <td>83.208.193.123:15173</td>\n",
       "      <td>PA_</td>\n",
       "      <td>0</td>\n",
       "      <td>5</td>\n",
       "      <td>506</td>\n",
       "      <td>1</td>\n",
       "      <td>LEGITIMATE</td>\n",
       "    </tr>\n",
       "    <tr>\n",
       "      <th>2</th>\n",
       "      <td>2011-08-12 15:24:01.105</td>\n",
       "      <td>4.678</td>\n",
       "      <td>TCP</td>\n",
       "      <td>147.32.86.187:55707</td>\n",
       "      <td>74.125.108.243:80</td>\n",
       "      <td>A_</td>\n",
       "      <td>0</td>\n",
       "      <td>106</td>\n",
       "      <td>6510</td>\n",
       "      <td>1</td>\n",
       "      <td>LEGITIMATE</td>\n",
       "    </tr>\n",
       "    <tr>\n",
       "      <th>3</th>\n",
       "      <td>2011-08-12 15:24:01.106</td>\n",
       "      <td>4.989</td>\n",
       "      <td>TCP</td>\n",
       "      <td>217.168.211.184:3953</td>\n",
       "      <td>147.32.84.14:22</td>\n",
       "      <td>PA_</td>\n",
       "      <td>0</td>\n",
       "      <td>1393</td>\n",
       "      <td>95812</td>\n",
       "      <td>1</td>\n",
       "      <td>Background</td>\n",
       "    </tr>\n",
       "    <tr>\n",
       "      <th>4</th>\n",
       "      <td>2011-08-12 15:24:01.113</td>\n",
       "      <td>4.988</td>\n",
       "      <td>UDP</td>\n",
       "      <td>173.9.132.155:54369</td>\n",
       "      <td>147.32.84.59:15046</td>\n",
       "      <td>INT</td>\n",
       "      <td>0</td>\n",
       "      <td>811</td>\n",
       "      <td>680898</td>\n",
       "      <td>1</td>\n",
       "      <td>Background</td>\n",
       "    </tr>\n",
       "  </tbody>\n",
       "</table>\n",
       "</div>"
      ],
      "text/plain": [
       "               start_date  duration protocol              src_addr  \\\n",
       "0 2011-08-12 15:24:01.105     4.677      TCP     74.125.108.243:80   \n",
       "1 2011-08-12 15:24:01.105     3.110      TCP      147.32.84.164:22   \n",
       "2 2011-08-12 15:24:01.105     4.678      TCP   147.32.86.187:55707   \n",
       "3 2011-08-12 15:24:01.106     4.989      TCP  217.168.211.184:3953   \n",
       "4 2011-08-12 15:24:01.113     4.988      UDP   173.9.132.155:54369   \n",
       "\n",
       "               dst_addr flags  tos  packets   bytes  flows       label  \n",
       "0   147.32.86.187:55707   PA_    0      452  682688      1  Background  \n",
       "1  83.208.193.123:15173   PA_    0        5     506      1  LEGITIMATE  \n",
       "2     74.125.108.243:80    A_    0      106    6510      1  LEGITIMATE  \n",
       "3       147.32.84.14:22   PA_    0     1393   95812      1  Background  \n",
       "4    147.32.84.59:15046   INT    0      811  680898      1  Background  "
      ]
     },
     "execution_count": 5,
     "metadata": {},
     "output_type": "execute_result"
    }
   ],
   "source": [
    "column_names = ['_', '_2', 'duration', 'protocol', 'src_addr', 'dst_addr', 'flags', 'tos', 'packets', 'bytes', 'flows', 'label']\n",
    "\n",
    "df = pd.read_csv(\n",
    "    DATA_PATH_NEW,\n",
    "    delimiter='\\s+',\n",
    "    skiprows=[0],\n",
    "    header=None, \n",
    "    names=column_names,\n",
    "    index_col=False,\n",
    "    parse_dates={\"start_date\": [0,1]}\n",
    ")\n",
    "df.head()"
   ]
  },
  {
   "cell_type": "code",
   "execution_count": null,
   "metadata": {},
   "outputs": [],
   "source": []
  }
 ],
 "metadata": {
  "kernelspec": {
   "display_name": "Python 3",
   "language": "python",
   "name": "python3"
  },
  "language_info": {
   "codemirror_mode": {
    "name": "ipython",
    "version": 3
   },
   "file_extension": ".py",
   "mimetype": "text/x-python",
   "name": "python",
   "nbconvert_exporter": "python",
   "pygments_lexer": "ipython3",
   "version": "3.7.0"
  }
 },
 "nbformat": 4,
 "nbformat_minor": 2
}
