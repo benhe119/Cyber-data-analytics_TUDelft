{
 "cells": [
  {
   "cell_type": "code",
   "execution_count": 3,
   "metadata": {},
   "outputs": [],
   "source": [
    "import pandas as pd\n",
    "import random\n",
    "import matplotlib.pyplot as plt\n",
    "import seaborn as sns\n",
    "import numpy as np\n",
    "import math \n",
    "import mmh3 \n",
    "sns.set()"
   ]
  },
  {
   "cell_type": "code",
   "execution_count": 4,
   "metadata": {},
   "outputs": [],
   "source": [
    "DATA_PATH_ORIG = r'../data/capture20110812.pcap.netflow.labeled.csv'\n",
    "DATA_PATH_NEW = r'../data/capture20110812.pcap.netflow.labeled_processed.csv'"
   ]
  },
  {
   "cell_type": "markdown",
   "metadata": {},
   "source": [
    "## IMPORTANT     \n",
    "The code below reads the file and erases the '->' characters.    \n",
    "It takes quite a few minutes, so run it only if you don't have the processed file yet :("
   ]
  },
  {
   "cell_type": "code",
   "execution_count": 5,
   "metadata": {},
   "outputs": [],
   "source": [
    "#text = open(DATA_PATH_ORIG, \"r\")\n",
    "#text = ''.join([i for i in text]) \\\n",
    "#     .replace(\"->\", \"\")\n",
    "#x = open(DATA_PATH_NEW,\"w\")\n",
    "#x.writelines(text)\n",
    "#x.close()"
   ]
  },
  {
   "cell_type": "code",
   "execution_count": 6,
   "metadata": {
    "scrolled": true
   },
   "outputs": [
    {
     "data": {
      "text/html": [
       "<div>\n",
       "<style scoped>\n",
       "    .dataframe tbody tr th:only-of-type {\n",
       "        vertical-align: middle;\n",
       "    }\n",
       "\n",
       "    .dataframe tbody tr th {\n",
       "        vertical-align: top;\n",
       "    }\n",
       "\n",
       "    .dataframe thead th {\n",
       "        text-align: right;\n",
       "    }\n",
       "</style>\n",
       "<table border=\"1\" class=\"dataframe\">\n",
       "  <thead>\n",
       "    <tr style=\"text-align: right;\">\n",
       "      <th></th>\n",
       "      <th>start_date</th>\n",
       "      <th>duration</th>\n",
       "      <th>protocol</th>\n",
       "      <th>src_addr</th>\n",
       "      <th>dst_addr</th>\n",
       "      <th>flags</th>\n",
       "      <th>tos</th>\n",
       "      <th>packets</th>\n",
       "      <th>bytes</th>\n",
       "      <th>flows</th>\n",
       "      <th>label</th>\n",
       "    </tr>\n",
       "  </thead>\n",
       "  <tbody>\n",
       "    <tr>\n",
       "      <th>0</th>\n",
       "      <td>2011-08-12 15:24:01.105</td>\n",
       "      <td>4.677</td>\n",
       "      <td>TCP</td>\n",
       "      <td>74.125.108.243:80</td>\n",
       "      <td>147.32.86.187:55707</td>\n",
       "      <td>PA_</td>\n",
       "      <td>0</td>\n",
       "      <td>452</td>\n",
       "      <td>682688</td>\n",
       "      <td>1</td>\n",
       "      <td>Background</td>\n",
       "    </tr>\n",
       "    <tr>\n",
       "      <th>1</th>\n",
       "      <td>2011-08-12 15:24:01.105</td>\n",
       "      <td>3.110</td>\n",
       "      <td>TCP</td>\n",
       "      <td>147.32.84.164:22</td>\n",
       "      <td>83.208.193.123:15173</td>\n",
       "      <td>PA_</td>\n",
       "      <td>0</td>\n",
       "      <td>5</td>\n",
       "      <td>506</td>\n",
       "      <td>1</td>\n",
       "      <td>LEGITIMATE</td>\n",
       "    </tr>\n",
       "    <tr>\n",
       "      <th>2</th>\n",
       "      <td>2011-08-12 15:24:01.105</td>\n",
       "      <td>4.678</td>\n",
       "      <td>TCP</td>\n",
       "      <td>147.32.86.187:55707</td>\n",
       "      <td>74.125.108.243:80</td>\n",
       "      <td>A_</td>\n",
       "      <td>0</td>\n",
       "      <td>106</td>\n",
       "      <td>6510</td>\n",
       "      <td>1</td>\n",
       "      <td>LEGITIMATE</td>\n",
       "    </tr>\n",
       "    <tr>\n",
       "      <th>3</th>\n",
       "      <td>2011-08-12 15:24:01.106</td>\n",
       "      <td>4.989</td>\n",
       "      <td>TCP</td>\n",
       "      <td>217.168.211.184:3953</td>\n",
       "      <td>147.32.84.14:22</td>\n",
       "      <td>PA_</td>\n",
       "      <td>0</td>\n",
       "      <td>1393</td>\n",
       "      <td>95812</td>\n",
       "      <td>1</td>\n",
       "      <td>Background</td>\n",
       "    </tr>\n",
       "    <tr>\n",
       "      <th>4</th>\n",
       "      <td>2011-08-12 15:24:01.113</td>\n",
       "      <td>4.988</td>\n",
       "      <td>UDP</td>\n",
       "      <td>173.9.132.155:54369</td>\n",
       "      <td>147.32.84.59:15046</td>\n",
       "      <td>INT</td>\n",
       "      <td>0</td>\n",
       "      <td>811</td>\n",
       "      <td>680898</td>\n",
       "      <td>1</td>\n",
       "      <td>Background</td>\n",
       "    </tr>\n",
       "  </tbody>\n",
       "</table>\n",
       "</div>"
      ],
      "text/plain": [
       "               start_date  duration protocol              src_addr  \\\n",
       "0 2011-08-12 15:24:01.105     4.677      TCP     74.125.108.243:80   \n",
       "1 2011-08-12 15:24:01.105     3.110      TCP      147.32.84.164:22   \n",
       "2 2011-08-12 15:24:01.105     4.678      TCP   147.32.86.187:55707   \n",
       "3 2011-08-12 15:24:01.106     4.989      TCP  217.168.211.184:3953   \n",
       "4 2011-08-12 15:24:01.113     4.988      UDP   173.9.132.155:54369   \n",
       "\n",
       "               dst_addr flags  tos  packets   bytes  flows       label  \n",
       "0   147.32.86.187:55707   PA_    0      452  682688      1  Background  \n",
       "1  83.208.193.123:15173   PA_    0        5     506      1  LEGITIMATE  \n",
       "2     74.125.108.243:80    A_    0      106    6510      1  LEGITIMATE  \n",
       "3       147.32.84.14:22   PA_    0     1393   95812      1  Background  \n",
       "4    147.32.84.59:15046   INT    0      811  680898      1  Background  "
      ]
     },
     "execution_count": 6,
     "metadata": {},
     "output_type": "execute_result"
    }
   ],
   "source": [
    "column_names = ['_', '_2', 'duration', 'protocol', 'src_addr', 'dst_addr', 'flags', 'tos', 'packets', 'bytes', 'flows', 'label']\n",
    "\n",
    "df = pd.read_csv(\n",
    "    DATA_PATH_NEW,\n",
    "    delimiter='\\s+',\n",
    "    skiprows=[0],\n",
    "    header=None, \n",
    "    names=column_names,\n",
    "    index_col=False,\n",
    "    parse_dates={\"start_date\": [0,1]}\n",
    ")\n",
    "df.head()"
   ]
  },
  {
   "cell_type": "markdown",
   "metadata": {},
   "source": [
    "We obtained the IP of the infected host from the documentation of the scenario 44."
   ]
  },
  {
   "cell_type": "code",
   "execution_count": 7,
   "metadata": {},
   "outputs": [],
   "source": [
    "host_ip = \"147.32.84.165\" # IP obtained from documentation"
   ]
  },
  {
   "cell_type": "markdown",
   "metadata": {},
   "source": [
    "Let's keep all the other IPs the host connects with"
   ]
  },
  {
   "cell_type": "code",
   "execution_count": 8,
   "metadata": {},
   "outputs": [
    {
     "name": "stdout",
     "output_type": "stream",
     "text": [
      "3652 connections with the host found.\n"
     ]
    }
   ],
   "source": [
    "# let's build an iterable with all the other IPs this guy connects with\n",
    "connections = df[(df['src_addr'] == host_ip) | (df['dst_addr'] == host_ip)][['src_addr', 'dst_addr']]\n",
    "\n",
    "other_ips = connections.apply(lambda row: row['dst_addr'] if row['src_addr'] == host_ip else row['src_addr'], axis=1)\n",
    "print(f\"{other_ips.size} connections with the host found.\")"
   ]
  },
  {
   "cell_type": "markdown",
   "metadata": {},
   "source": [
    "Just a sanity check to assert that we do not have our host_ip somewhere in the list of IPs"
   ]
  },
  {
   "cell_type": "code",
   "execution_count": 9,
   "metadata": {},
   "outputs": [
    {
     "name": "stdout",
     "output_type": "stream",
     "text": [
      "3652\n",
      "3652\n"
     ]
    }
   ],
   "source": [
    "print(len([ip for ip in other_ips if ip != host_ip]))\n",
    "print(len(other_ips))"
   ]
  },
  {
   "cell_type": "markdown",
   "metadata": {},
   "source": [
    "# Count Min Sketch"
   ]
  },
  {
   "cell_type": "markdown",
   "metadata": {},
   "source": [
    "Resource: https://olivif.github.io/2017/count-min-sketch/\n",
    "\n",
    "Resource for independent hash functions: https://www.geeksforgeeks.org/bloom-filters-introduction-and-python-implementation/"
   ]
  },
  {
   "cell_type": "markdown",
   "metadata": {},
   "source": [
    "Let's starts by implementing the function that computes the INDEPEDENT hashings."
   ]
  },
  {
   "cell_type": "code",
   "execution_count": 10,
   "metadata": {},
   "outputs": [],
   "source": [
    "def get_hash_indexes(item, hash_count, bit_array_size):\n",
    "    digests = [] \n",
    "    for i in range(hash_count):  \n",
    "        digest = mmh3.hash(item,i) % bit_array_size \n",
    "        digests.append(digest) \n",
    "  \n",
    "    return digests\n",
    "    "
   ]
  },
  {
   "cell_type": "code",
   "execution_count": 27,
   "metadata": {
    "scrolled": true
   },
   "outputs": [],
   "source": [
    "def get_count_min_sketch_buckets(original, height, width):\n",
    "    buckets = np.zeros((height, width))\n",
    "    unique_ips = set()\n",
    "\n",
    "    for ip in original:\n",
    "        digests = get_hash_indexes(ip, height, width)\n",
    "        unique_ips.add(ip)\n",
    "\n",
    "        for id_height, id_width in enumerate(digests):\n",
    "            buckets[id_height, id_width] += 1\n",
    "            \n",
    "    return unique_ips, buckets\n"
   ]
  },
  {
   "cell_type": "code",
   "execution_count": 36,
   "metadata": {},
   "outputs": [],
   "source": [
    "#Loop over the unique ips, hash them again, get the counts from the indexes and choose the min one as frequency\n",
    "def get_frequencies(unique_ips, buckets, height, width):\n",
    "    frequencies = []\n",
    "    for ip in unique_ips:\n",
    "        hash_ip = get_hash_indexes(ip, height, width)\n",
    "\n",
    "        bucket_values = []\n",
    "\n",
    "        for id_height, id_width in enumerate(hash_ip):\n",
    "            bucket_values.append( buckets[id_height, id_width])\n",
    "\n",
    "        frequencies.append(np.min(bucket_values)/len(other_ips))\n",
    "\n",
    "    freq_series = pd.Series(frequencies, index = unique_ips)\n",
    "    freq_series = freq_series.sort_values(ascending=False)\n",
    "\n",
    "    return freq_series"
   ]
  },
  {
   "cell_type": "code",
   "execution_count": 39,
   "metadata": {},
   "outputs": [],
   "source": [
    "def compute_count_min_sketch_error(original, sampled_freq, n_of_ips):\n",
    "    original = original.value_counts().sort_values(ascending=False)\n",
    "    \n",
    "    top_n_to_find = original[:n_of_ips].index\n",
    "    top_n_found = sampled_freq[:n_of_ips].index\n",
    "        \n",
    "    retrieved = set.intersection(set(top_n_to_find), set(top_n_found))\n",
    "    return len(retrieved)"
   ]
  },
  {
   "cell_type": "code",
   "execution_count": 54,
   "metadata": {},
   "outputs": [],
   "source": [
    "height = np.arange(2, 10, 1)\n",
    "width =  np.arange(50, len(other_ips), 25)\n",
    "\n",
    "results = np.zeros((len(height), len(width)))\n",
    "\n",
    "for i, h in enumerate(height):\n",
    "    for j, w in enumerate(width):\n",
    "        \n",
    "        #print(f\"Height {h} and width {w}\")\n",
    "        unique_ips, buckets = get_count_min_sketch_buckets(other_ips, h, w)\n",
    "        freq = get_frequencies(unique_ips, buckets, h, w)\n",
    "        error = compute_count_min_sketch_error(other_ips, freq, 10)\n",
    "        \n",
    "        results[i,j] = error"
   ]
  },
  {
   "cell_type": "code",
   "execution_count": 55,
   "metadata": {},
   "outputs": [
    {
     "data": {
      "text/plain": [
       "<matplotlib.axes._subplots.AxesSubplot at 0x128bf7f9400>"
      ]
     },
     "execution_count": 55,
     "metadata": {},
     "output_type": "execute_result"
    },
    {
     "data": {
      "image/png": "[encoded data removed]",
      "text/plain": [
       "<Figure size 432x288 with 2 Axes>"
      ]
     },
     "metadata": {},
     "output_type": "display_data"
    }
   ],
   "source": [
    "results_df =pd.DataFrame(results, index = height, columns=width)\n",
    "sns.heatmap(results_df)"
   ]
  },
  {
   "cell_type": "markdown",
   "metadata": {},
   "source": [
    "Based on the plot above, we see that above half the total number pf ips the error is very high, so let's only look until halfway."
   ]
  },
  {
   "cell_type": "code",
   "execution_count": 56,
   "metadata": {
    "scrolled": true
   },
   "outputs": [
    {
     "data": {
      "text/plain": [
       "<matplotlib.axes._subplots.AxesSubplot at 0x128b4413f98>"
      ]
     },
     "execution_count": 56,
     "metadata": {},
     "output_type": "execute_result"
    },
    {
     "data": {
      "image/png": "[encoded data removed]",
      "text/plain": [
       "<Figure size 432x288 with 2 Axes>"
      ]
     },
     "metadata": {},
     "output_type": "display_data"
    }
   ],
   "source": [
    "results_df_half = results_df[results_df.columns[:int(len(results_df.columns)/2)]]\n",
    "results_df_half.head()\n",
    "\n",
    "sns.heatmap(results_df_half)"
   ]
  },
  {
   "cell_type": "code",
   "execution_count": 57,
   "metadata": {},
   "outputs": [
    {
     "data": {
      "text/plain": [
       "1269"
      ]
     },
     "execution_count": 57,
     "metadata": {},
     "output_type": "execute_result"
    }
   ],
   "source": [
    "len(unique_ips)"
   ]
  },
  {
   "cell_type": "markdown",
   "metadata": {},
   "source": [
    "For reservoir, we get to 10 successfully retrieved IPs around 2500 reservoir size. However, as we can observe in the case of Count Min Sketching, we can achieve this with lower size. We get steady around height of 5 and width of 300 (so total size 5 * 300 = 1500) as we can observe in the heatmap above. \n",
    "\n",
    "However, considering that for Count Min Sketch we also need to store the unique ips for retrieving the minimum bucket size, overall we do need to store more items in memory than in the case of reservoir sampling."
   ]
  },
  {
   "cell_type": "markdown",
   "metadata": {},
   "source": [
    "Accuracy wise, both methods are accurate given high enough values for the parameters (i.e. reservoir size and height and width for the 'buckets' matrix for Count Min Sketch). "
   ]
  },
  {
   "cell_type": "code",
   "execution_count": null,
   "metadata": {},
   "outputs": [],
   "source": []
  }
 ],
 "metadata": {
  "kernelspec": {
   "display_name": "Python 3",
   "language": "python",
   "name": "python3"
  },
  "language_info": {
   "codemirror_mode": {
    "name": "ipython",
    "version": 3
   },
   "file_extension": ".py",
   "mimetype": "text/x-python",
   "name": "python",
   "nbconvert_exporter": "python",
   "pygments_lexer": "ipython3",
   "version": "3.7.3"
  }
 },
 "nbformat": 4,
 "nbformat_minor": 2
}
