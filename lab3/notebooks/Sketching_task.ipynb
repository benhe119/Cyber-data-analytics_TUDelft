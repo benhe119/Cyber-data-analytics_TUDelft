{
 "cells": [
  {
   "cell_type": "code",
   "execution_count": 1,
   "metadata": {},
   "outputs": [],
   "source": [
    "import pandas as pd\n",
    "import random\n",
    "import matplotlib.pyplot as plt\n",
    "import seaborn as sns\n",
    "import numpy as np\n",
    "import math \n",
    "import mmh3 \n",
    "sns.set()"
   ]
  },
  {
   "cell_type": "markdown",
   "metadata": {},
   "source": [
    "### Using scenario 3 (Dataset 44 on the CTU website)     \n",
    "Please note that these files have been processed using the \"Data_processing\" notebook, which takes in the original file from the website, preprocesses it, and saves it again in csv file."
   ]
  },
  {
   "cell_type": "code",
   "execution_count": 2,
   "metadata": {},
   "outputs": [],
   "source": [
    "DATA_PATH_ORIG = r'../data/scenario_3.csv'"
   ]
  },
  {
   "cell_type": "code",
   "execution_count": 3,
   "metadata": {
    "scrolled": true
   },
   "outputs": [
    {
     "data": {
      "text/html": [
       "<div>\n",
       "<style scoped>\n",
       "    .dataframe tbody tr th:only-of-type {\n",
       "        vertical-align: middle;\n",
       "    }\n",
       "\n",
       "    .dataframe tbody tr th {\n",
       "        vertical-align: top;\n",
       "    }\n",
       "\n",
       "    .dataframe thead th {\n",
       "        text-align: right;\n",
       "    }\n",
       "</style>\n",
       "<table border=\"1\" class=\"dataframe\">\n",
       "  <thead>\n",
       "    <tr style=\"text-align: right;\">\n",
       "      <th></th>\n",
       "      <th>start_date</th>\n",
       "      <th>duration</th>\n",
       "      <th>protocol</th>\n",
       "      <th>src_addr</th>\n",
       "      <th>dst_addr</th>\n",
       "      <th>flags</th>\n",
       "      <th>tos</th>\n",
       "      <th>packets</th>\n",
       "      <th>bytes</th>\n",
       "      <th>flows</th>\n",
       "      <th>label</th>\n",
       "      <th>src_port</th>\n",
       "      <th>dst_port</th>\n",
       "    </tr>\n",
       "  </thead>\n",
       "  <tbody>\n",
       "    <tr>\n",
       "      <th>0</th>\n",
       "      <td>2011-08-12 15:24:01.105</td>\n",
       "      <td>4.677</td>\n",
       "      <td>TCP</td>\n",
       "      <td>74.125.108.243</td>\n",
       "      <td>147.32.86.187</td>\n",
       "      <td>PA_</td>\n",
       "      <td>0</td>\n",
       "      <td>452</td>\n",
       "      <td>682688</td>\n",
       "      <td>1</td>\n",
       "      <td>Background</td>\n",
       "      <td>80</td>\n",
       "      <td>55707</td>\n",
       "    </tr>\n",
       "    <tr>\n",
       "      <th>1</th>\n",
       "      <td>2011-08-12 15:24:01.105</td>\n",
       "      <td>3.110</td>\n",
       "      <td>TCP</td>\n",
       "      <td>147.32.84.164</td>\n",
       "      <td>83.208.193.123</td>\n",
       "      <td>PA_</td>\n",
       "      <td>0</td>\n",
       "      <td>5</td>\n",
       "      <td>506</td>\n",
       "      <td>1</td>\n",
       "      <td>LEGITIMATE</td>\n",
       "      <td>22</td>\n",
       "      <td>15173</td>\n",
       "    </tr>\n",
       "    <tr>\n",
       "      <th>2</th>\n",
       "      <td>2011-08-12 15:24:01.105</td>\n",
       "      <td>4.678</td>\n",
       "      <td>TCP</td>\n",
       "      <td>147.32.86.187</td>\n",
       "      <td>74.125.108.243</td>\n",
       "      <td>A_</td>\n",
       "      <td>0</td>\n",
       "      <td>106</td>\n",
       "      <td>6510</td>\n",
       "      <td>1</td>\n",
       "      <td>LEGITIMATE</td>\n",
       "      <td>55707</td>\n",
       "      <td>80</td>\n",
       "    </tr>\n",
       "    <tr>\n",
       "      <th>3</th>\n",
       "      <td>2011-08-12 15:24:01.106</td>\n",
       "      <td>4.989</td>\n",
       "      <td>TCP</td>\n",
       "      <td>217.168.211.184</td>\n",
       "      <td>147.32.84.14</td>\n",
       "      <td>PA_</td>\n",
       "      <td>0</td>\n",
       "      <td>1393</td>\n",
       "      <td>95812</td>\n",
       "      <td>1</td>\n",
       "      <td>Background</td>\n",
       "      <td>3953</td>\n",
       "      <td>22</td>\n",
       "    </tr>\n",
       "    <tr>\n",
       "      <th>4</th>\n",
       "      <td>2011-08-12 15:24:01.113</td>\n",
       "      <td>4.988</td>\n",
       "      <td>UDP</td>\n",
       "      <td>173.9.132.155</td>\n",
       "      <td>147.32.84.59</td>\n",
       "      <td>INT</td>\n",
       "      <td>0</td>\n",
       "      <td>811</td>\n",
       "      <td>680898</td>\n",
       "      <td>1</td>\n",
       "      <td>Background</td>\n",
       "      <td>54369</td>\n",
       "      <td>15046</td>\n",
       "    </tr>\n",
       "  </tbody>\n",
       "</table>\n",
       "</div>"
      ],
      "text/plain": [
       "               start_date  duration protocol         src_addr        dst_addr  \\\n",
       "0 2011-08-12 15:24:01.105     4.677      TCP   74.125.108.243   147.32.86.187   \n",
       "1 2011-08-12 15:24:01.105     3.110      TCP    147.32.84.164  83.208.193.123   \n",
       "2 2011-08-12 15:24:01.105     4.678      TCP    147.32.86.187  74.125.108.243   \n",
       "3 2011-08-12 15:24:01.106     4.989      TCP  217.168.211.184    147.32.84.14   \n",
       "4 2011-08-12 15:24:01.113     4.988      UDP    173.9.132.155    147.32.84.59   \n",
       "\n",
       "  flags  tos  packets   bytes  flows       label  src_port  dst_port  \n",
       "0   PA_    0      452  682688      1  Background        80     55707  \n",
       "1   PA_    0        5     506      1  LEGITIMATE        22     15173  \n",
       "2    A_    0      106    6510      1  LEGITIMATE     55707        80  \n",
       "3   PA_    0     1393   95812      1  Background      3953        22  \n",
       "4   INT    0      811  680898      1  Background     54369     15046  "
      ]
     },
     "execution_count": 3,
     "metadata": {},
     "output_type": "execute_result"
    }
   ],
   "source": [
    "df = pd.read_csv(DATA_PATH_ORIG, parse_dates=['start_date'])\n",
    "df.head()"
   ]
  },
  {
   "cell_type": "code",
   "execution_count": 4,
   "metadata": {},
   "outputs": [
    {
     "data": {
      "text/plain": [
       "(15202060, 13)"
      ]
     },
     "execution_count": 4,
     "metadata": {},
     "output_type": "execute_result"
    }
   ],
   "source": [
    "df.shape"
   ]
  },
  {
   "cell_type": "code",
   "execution_count": 5,
   "metadata": {},
   "outputs": [
    {
     "data": {
      "text/plain": [
       "array(['Background', 'LEGITIMATE', 'Botnet'], dtype=object)"
      ]
     },
     "execution_count": 5,
     "metadata": {},
     "output_type": "execute_result"
    }
   ],
   "source": [
    "df['label'].unique()"
   ]
  },
  {
   "cell_type": "markdown",
   "metadata": {},
   "source": [
    "As we discussed in Mattermost, we are interested in the connections between the **infected** host (it is only one in this dataset) and the other IPs "
   ]
  },
  {
   "cell_type": "markdown",
   "metadata": {},
   "source": [
    "### From website: infected host --> 147.32.84.165"
   ]
  },
  {
   "cell_type": "code",
   "execution_count": 6,
   "metadata": {},
   "outputs": [],
   "source": [
    "host_ip = \"147.32.84.165\""
   ]
  },
  {
   "cell_type": "markdown",
   "metadata": {},
   "source": [
    "Let's keep all the other IPs the host connects with"
   ]
  },
  {
   "cell_type": "code",
   "execution_count": 7,
   "metadata": {},
   "outputs": [
    {
     "name": "stdout",
     "output_type": "stream",
     "text": [
      "75891 connections with the host found.\n"
     ]
    }
   ],
   "source": [
    "connections = df[(df['src_addr'] == host_ip) | (df['dst_addr'] == host_ip)][['src_addr', 'dst_addr']]\n",
    "\n",
    "other_ips = connections.apply(lambda row: row['dst_addr'] if row['src_addr'] == host_ip else row['src_addr'], axis=1)\n",
    "print(f\"{other_ips.size} connections with the host found.\")"
   ]
  },
  {
   "cell_type": "markdown",
   "metadata": {},
   "source": [
    "Just a sanity check to assert that we do not have our host_ip somewhere in the list of IPs"
   ]
  },
  {
   "cell_type": "code",
   "execution_count": 43,
   "metadata": {},
   "outputs": [
    {
     "name": "stdout",
     "output_type": "stream",
     "text": [
      "75891\n",
      "75891\n"
     ]
    }
   ],
   "source": [
    "print(len([ip for ip in other_ips if ip != host_ip]))\n",
    "print(len(other_ips))"
   ]
  },
  {
   "cell_type": "markdown",
   "metadata": {},
   "source": [
    "Let's compute the real frequencies of other IPs, and let's retain the top 10, as requested"
   ]
  },
  {
   "cell_type": "code",
   "execution_count": 44,
   "metadata": {},
   "outputs": [
    {
     "data": {
      "text/plain": [
       "178.77.71.27      12424\n",
       "38.229.70.20       3828\n",
       "147.32.96.45       1218\n",
       "195.113.235.89      723\n",
       "109.74.55.27        397\n",
       "64.31.13.148        282\n",
       "208.86.166.68       282\n",
       "210.139.61.102      181\n",
       "208.100.127.34       90\n",
       "210.139.61.70        72\n",
       "dtype: int64"
      ]
     },
     "execution_count": 44,
     "metadata": {},
     "output_type": "execute_result"
    }
   ],
   "source": [
    "benchmark_counts = other_ips.value_counts().sort_values(ascending=False)\n",
    "benchmark_counts[:10]"
   ]
  },
  {
   "cell_type": "markdown",
   "metadata": {},
   "source": [
    "# Count Min Sketch"
   ]
  },
  {
   "cell_type": "markdown",
   "metadata": {},
   "source": [
    "Resource: https://olivif.github.io/2017/count-min-sketch/\n",
    "\n",
    "Resource for independent hash functions: https://www.geeksforgeeks.org/bloom-filters-introduction-and-python-implementation/"
   ]
  },
  {
   "cell_type": "markdown",
   "metadata": {},
   "source": [
    "Let's starts by implementing the function that computes the **INDEPENDENT** hashings."
   ]
  },
  {
   "cell_type": "code",
   "execution_count": 9,
   "metadata": {},
   "outputs": [],
   "source": [
    "def get_hash_indexes(item, hash_count, bit_array_size):\n",
    "    digests = [] \n",
    "    for i in range(hash_count):  \n",
    "        # we use the index as a seed for the hashing function\n",
    "        digest = mmh3.hash(item,i) % bit_array_size \n",
    "        digests.append(digest) \n",
    "  \n",
    "    return digests"
   ]
  },
  {
   "cell_type": "markdown",
   "metadata": {},
   "source": [
    "Let's implement the function that implements the count-min sketch algorithm:    \n",
    "- given an IP address, we hash it with the independent hashing functions defined above\n",
    "- we increment the count of all the locations identified by the result of the hashings"
   ]
  },
  {
   "cell_type": "code",
   "execution_count": 10,
   "metadata": {
    "scrolled": true
   },
   "outputs": [],
   "source": [
    "def get_count_min_sketch_buckets(original, height, width):\n",
    "    buckets = np.zeros((height, width))\n",
    "    unique_ips = set()\n",
    "\n",
    "    for ip in original:\n",
    "        digests = get_hash_indexes(ip, height, width)\n",
    "        unique_ips.add(ip)\n",
    "\n",
    "        for id_height, id_width in enumerate(digests):\n",
    "            buckets[id_height, id_width] += 1\n",
    "            \n",
    "    return unique_ips, buckets"
   ]
  },
  {
   "cell_type": "markdown",
   "metadata": {},
   "source": [
    "Let's implement the function that retrieves the count of a certain IP address, after the stream has been processed:     \n",
    "- given an IP address, we hash it with the independent hashing functions\n",
    "- we obtain the locations of the different buckets for such IP address\n",
    "- we take the minimum count among the identified locations, as it is the most reliable"
   ]
  },
  {
   "cell_type": "code",
   "execution_count": 11,
   "metadata": {},
   "outputs": [],
   "source": [
    "def get_frequencies(unique_ips, buckets, height, width):\n",
    "    frequencies = []\n",
    "    for ip in unique_ips:\n",
    "        hash_ip = get_hash_indexes(ip, height, width)\n",
    "\n",
    "        bucket_values = []\n",
    "\n",
    "        for id_height, id_width in enumerate(hash_ip):\n",
    "            bucket_values.append( buckets[id_height, id_width])\n",
    "\n",
    "        frequencies.append(np.min(bucket_values)/len(other_ips))\n",
    "\n",
    "    freq_series = pd.Series(frequencies, index = unique_ips)\n",
    "    freq_series = freq_series.sort_values(ascending=False)\n",
    "\n",
    "    return freq_series"
   ]
  },
  {
   "cell_type": "markdown",
   "metadata": {},
   "source": [
    "As we did for reservoir sampling, we evaluate the algorithm using recall at the top 10 most frequent IP addresses the monitored host connects with"
   ]
  },
  {
   "cell_type": "code",
   "execution_count": 63,
   "metadata": {},
   "outputs": [],
   "source": [
    "def compute_count_min_sketch_error(original, sampled_freq, n_of_ips):\n",
    "    n_ips_original = original.size\n",
    "    original = original.value_counts().sort_values(ascending=False)\n",
    "    \n",
    "    top_n_to_find = original[:n_of_ips].index\n",
    "    top_n_found = sampled_freq[:n_of_ips].index\n",
    "        \n",
    "    errors = []\n",
    "    for ip in top_n_found:\n",
    "        real_freq = original[ip]/n_ips_original\n",
    "        estimated_freq = sampled_freq[ip]\n",
    "        errors.append(abs(real_freq-estimated_freq))\n",
    "    mean_error = np.mean(errors)\n",
    "        \n",
    "    retrieved = set.intersection(set(top_n_to_find), set(top_n_found))\n",
    "    return len(retrieved), mean_error"
   ]
  },
  {
   "cell_type": "markdown",
   "metadata": {},
   "source": [
    "### As requested in the assignment, we perform count-min sketch with different heights and widths    \n",
    "Intuitively, the wider the matrix, the more buckets we have, and therefore we are less likely to increase the wrong bucket.  Also, the more hashing functions we use (the heigth), the more likely we are to avoid collisions in some of the rows of the matrix, thus retrieving the correct count when we select the minimum count."
   ]
  },
  {
   "cell_type": "code",
   "execution_count": 71,
   "metadata": {},
   "outputs": [],
   "source": [
    "height = np.arange(2, 15, 1)\n",
    "width =  np.arange(50, 1000, 25)\n",
    "\n",
    "recalls = np.zeros((len(height), len(width)))\n",
    "mean_errors = np.zeros((len(height), len(width)))\n",
    "\n",
    "for i, h in enumerate(height):\n",
    "    for j, w in enumerate(width):\n",
    "        \n",
    "        unique_ips, buckets = get_count_min_sketch_buckets(other_ips, h, w)\n",
    "        freq = get_frequencies(unique_ips, buckets, h, w)\n",
    "        recall, mean_error = compute_count_min_sketch_error(other_ips, freq, 10)\n",
    "        \n",
    "        recalls[i,j] = recall\n",
    "        mean_errors[i,j] = mean_error"
   ]
  },
  {
   "cell_type": "markdown",
   "metadata": {},
   "source": [
    "Let's visualize the results on a heatmap (heatmaps are cool :D)"
   ]
  },
  {
   "cell_type": "code",
   "execution_count": 76,
   "metadata": {},
   "outputs": [
    {
     "data": {
      "image/png": "[encoded data removed]",
      "text/plain": [
       "<Figure size 1224x432 with 2 Axes>"
      ]
     },
     "metadata": {
      "needs_background": "light"
     },
     "output_type": "display_data"
    }
   ],
   "source": [
    "results_df =pd.DataFrame(recalls/10, index = height, columns=width)\n",
    "\n",
    "plt.figure(figsize=(17, 6))\n",
    "plt.title(\"Count-min sketch - Recall top 10 frequent IPs\")\n",
    "sns.heatmap(results_df)\n",
    "plt.ylabel(\"Height\")\n",
    "plt.xlabel(\"Width\")\n",
    "plt.show()"
   ]
  },
  {
   "cell_type": "code",
   "execution_count": 75,
   "metadata": {},
   "outputs": [
    {
     "data": {
      "image/png": "[encoded data removed]",
      "text/plain": [
       "<Figure size 1224x432 with 2 Axes>"
      ]
     },
     "metadata": {
      "needs_background": "light"
     },
     "output_type": "display_data"
    }
   ],
   "source": [
    "from matplotlib.colors import LogNorm\n",
    "\n",
    "results_df =pd.DataFrame(mean_errors, index = height, columns=width)\n",
    "\n",
    "plt.figure(figsize=(17, 6))\n",
    "plt.title(\"Count-min sketch - Mean frequency estimation error among top 10 frequent IPs\")\n",
    "sns.heatmap(results_df, norm=LogNorm(vmin=mean_errors.min(), vmax=mean_errors.max()))\n",
    "plt.ylabel(\"Height\")\n",
    "plt.xlabel(\"Width\")\n",
    "plt.show()"
   ]
  },
  {
   "cell_type": "markdown",
   "metadata": {},
   "source": [
    "Let's look at the frequencies when we use width = 150 and height = 9"
   ]
  },
  {
   "cell_type": "code",
   "execution_count": 37,
   "metadata": {},
   "outputs": [],
   "source": [
    "w = 150\n",
    "h = 9\n",
    "unique_ips, buckets = get_count_min_sketch_buckets(other_ips, h, w)"
   ]
  },
  {
   "cell_type": "code",
   "execution_count": 42,
   "metadata": {},
   "outputs": [
    {
     "data": {
      "text/plain": [
       "178.77.71.27      0.168149\n",
       "38.229.70.20      0.054552\n",
       "147.32.96.45      0.019936\n",
       "195.113.235.89    0.014099\n",
       "109.74.55.27      0.010001\n",
       "64.31.13.148      0.008499\n",
       "208.86.166.68     0.007498\n",
       "210.139.61.102    0.006747\n",
       "208.100.127.34    0.005640\n",
       "210.139.61.70     0.005244\n",
       "dtype: float64"
      ]
     },
     "execution_count": 42,
     "metadata": {},
     "output_type": "execute_result"
    }
   ],
   "source": [
    "get_frequencies(unique_ips, buckets, h, w)[:10]"
   ]
  },
  {
   "cell_type": "code",
   "execution_count": 45,
   "metadata": {},
   "outputs": [
    {
     "data": {
      "text/plain": [
       "178.77.71.27      0.163708\n",
       "38.229.70.20      0.050441\n",
       "147.32.96.45      0.016049\n",
       "195.113.235.89    0.009527\n",
       "109.74.55.27      0.005231\n",
       "64.31.13.148      0.003716\n",
       "208.86.166.68     0.003716\n",
       "210.139.61.102    0.002385\n",
       "208.100.127.34    0.001186\n",
       "210.139.61.70     0.000949\n",
       "dtype: float64"
      ]
     },
     "execution_count": 45,
     "metadata": {},
     "output_type": "execute_result"
    }
   ],
   "source": [
    "real_result = other_ips.value_counts().sort_values(ascending=False)\n",
    "real_result = real_result / other_ips.shape[0]\n",
    "\n",
    "real_result[:10]"
   ]
  },
  {
   "cell_type": "markdown",
   "metadata": {},
   "source": [
    "But how much did we need to store to achieve this result?\n",
    "- the list of uniques ips, as we need to re-hash them again after the stream is done, to retrieve the frequencies (strings)\n",
    "- the matrix with width 150 and height 9 (integers)"
   ]
  },
  {
   "cell_type": "code",
   "execution_count": 49,
   "metadata": {},
   "outputs": [
    {
     "name": "stdout",
     "output_type": "stream",
     "text": [
      "Number of strings saved: 27935\n",
      "Number of integers saved: 1350\n"
     ]
    }
   ],
   "source": [
    "print(f\"Number of strings saved: {len(unique_ips)}\")\n",
    "print(f\"Number of integers saved: {h * w}\")"
   ]
  },
  {
   "cell_type": "markdown",
   "metadata": {},
   "source": [
    "For reservoir, we get to 10 successfully retrieved IPs around 10000 reservoir size. However, as we can observe in the case of Count Min Sketching, we can achieve this with lower size. We get steady around height of 5 and width of 300 (so total size 5 * 300 = 1500) as we can observe in the heatmap above. \n",
    "\n",
    "However, considering that for Count Min Sketch we also need to store the unique ips for retrieving the minimum bucket size, overall we do need to store more items in memory than in the case of reservoir sampling."
   ]
  },
  {
   "cell_type": "markdown",
   "metadata": {},
   "source": [
    "Accuracy wise, both methods are accurate given high enough values for the parameters (i.e. reservoir size and height and width for the 'buckets' matrix for Count Min Sketch). "
   ]
  }
 ],
 "metadata": {
  "kernelspec": {
   "display_name": "Python 3",
   "language": "python",
   "name": "python3"
  },
  "language_info": {
   "codemirror_mode": {
    "name": "ipython",
    "version": 3
   },
   "file_extension": ".py",
   "mimetype": "text/x-python",
   "name": "python",
   "nbconvert_exporter": "python",
   "pygments_lexer": "ipython3",
   "version": "3.7.0"
  }
 },
 "nbformat": 4,
 "nbformat_minor": 2
}
