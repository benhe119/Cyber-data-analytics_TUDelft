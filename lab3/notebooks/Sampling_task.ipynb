{
 "cells": [
  {
   "cell_type": "code",
   "execution_count": null,
   "metadata": {},
   "outputs": [],
   "source": [
    "import pandas as pd\n",
    "import random\n",
    "import matplotlib.pyplot as plt\n",
    "import seaborn as sns\n",
    "sns.set()"
   ]
  },
  {
   "cell_type": "code",
   "execution_count": null,
   "metadata": {},
   "outputs": [],
   "source": [
    "DATA_PATH_ORIG = r'../data/capture20110812.pcap.netflow.labeled.csv'\n",
    "DATA_PATH_NEW = r'../data/capture20110812.pcap.netflow.labeled_processed.csv'"
   ]
  },
  {
   "cell_type": "code",
   "execution_count": null,
   "metadata": {},
   "outputs": [],
   "source": [
    "# read the file and erase the '->'\n",
    "# it takes quite a few minutes :(\n",
    "\n",
    "# text = open(DATA_PATH, \"r\")\n",
    "# text = ''.join([i for i in text]) \\\n",
    "#     .replace(\"->\", \"\")\n",
    "# x = open(DATA_PATH_NEW,\"w\")\n",
    "# x.writelines(text)\n",
    "# x.close()"
   ]
  },
  {
   "cell_type": "code",
   "execution_count": null,
   "metadata": {},
   "outputs": [],
   "source": [
    "column_names = [\n",
    "    '_',\n",
    "    '_2',\n",
    "    'duration',\n",
    "    'protocol',\n",
    "    'src_addr',\n",
    "    'dst_addr',\n",
    "    'flags',\n",
    "    'tos',\n",
    "    'packets',\n",
    "    'bytes',\n",
    "    'flows',\n",
    "    'label'\n",
    "]"
   ]
  },
  {
   "cell_type": "code",
   "execution_count": null,
   "metadata": {},
   "outputs": [],
   "source": [
    "df = pd.read_csv(\n",
    "    DATA_PATH_NEW,\n",
    "    delimiter='\\s+',\n",
    "    skiprows=[0],\n",
    "    header=None, \n",
    "    names=column_names,\n",
    "    index_col=False,\n",
    "    parse_dates={\"start_date\": [0,1]}\n",
    ")\n",
    "df.head()"
   ]
  },
  {
   "cell_type": "code",
   "execution_count": 90,
   "metadata": {},
   "outputs": [],
   "source": [
    "working_df = df[:]\n",
    "# print(working_df.groupby('src_addr').src_addr.count().sort_values(ascending=False)[:10])\n",
    "# print(working_df.groupby('dst_addr').dst_addr.count().sort_values(ascending=False)[:10])"
   ]
  },
  {
   "cell_type": "code",
   "execution_count": 91,
   "metadata": {},
   "outputs": [
    {
     "data": {
      "text/plain": [
       "array(['Background', 'LEGITIMATE', 'Botnet'], dtype=object)"
      ]
     },
     "execution_count": 91,
     "metadata": {},
     "output_type": "execute_result"
    }
   ],
   "source": [
    "working_df['label'].unique()"
   ]
  },
  {
   "cell_type": "code",
   "execution_count": null,
   "metadata": {},
   "outputs": [],
   "source": [
    "host_ip = \"147.32.80.9:53\" # this we believe is the host we are monitoring"
   ]
  },
  {
   "cell_type": "code",
   "execution_count": 92,
   "metadata": {},
   "outputs": [
    {
     "data": {
      "text/plain": [
       "147.32.87.23:32865     2210\n",
       "147.32.86.98:32797     1954\n",
       "147.32.85.101:1027     1828\n",
       "147.32.87.27:33003     1400\n",
       "147.32.84.15:32846     1340\n",
       "147.32.84.15:32849     1202\n",
       "147.32.87.23:32868      498\n",
       "147.32.86.193:3862      472\n",
       "147.32.85.109:32831     348\n",
       "147.32.84.59:49158      280\n",
       "dtype: int64"
      ]
     },
     "execution_count": 92,
     "metadata": {},
     "output_type": "execute_result"
    }
   ],
   "source": [
    "# let's build an iterable with all the other IPs this guy connects with\n",
    "connections = working_df[(working_df['src_addr'] == host_ip) | (working_df['dst_addr'] == host_ip)][['src_addr', 'dst_addr']]\n",
    "\n",
    "other_ips = connections.apply(lambda row: row['dst_addr'] if row['src_addr'] == host_ip else row['src_addr'], axis=1)\n",
    "\n",
    "counts = other_ips.value_counts().sort_values(ascending=False)\n",
    "counts.head(10)"
   ]
  },
  {
   "cell_type": "code",
   "execution_count": 11,
   "metadata": {},
   "outputs": [],
   "source": [
    "# sns.distplot(counts, hist=False)"
   ]
  },
  {
   "cell_type": "markdown",
   "metadata": {},
   "source": [
    "# Reservoir\n",
    "https://stackoverflow.com/questions/12732982/design-a-storage-algorithm/12733515#12733515     \n",
    "https://stackoverflow.com/questions/2612648/reservoir-sampling       \n",
    "http://web.archive.org/web/20141026071430/http://propersubset.com:80/2010/04/choosing-random-elements.html"
   ]
  },
  {
   "cell_type": "markdown",
   "metadata": {},
   "source": [
    "### assignment says: \"Use a range of reservoir sizes\""
   ]
  },
  {
   "cell_type": "code",
   "execution_count": 232,
   "metadata": {
    "scrolled": false
   },
   "outputs": [
    {
     "name": "stdout",
     "output_type": "stream",
     "text": [
      "50000\n"
     ]
    }
   ],
   "source": [
    "# one pass\n",
    "reservoir_size = 50000\n",
    "ips = other_ips\n",
    "stored_ips = []\n",
    "           \n",
    "for N, ip in enumerate(ips):\n",
    "    if N < reservoir_size:\n",
    "        # as long as we have space, the probability of storing is 100%\n",
    "        stored_ips.append(ip)\n",
    "    else:\n",
    "        # when N = i+1 we have i IPs stored (i > reservoir_size) \n",
    "        # In such a case, we want probability i/i+1 of storing the new IP, substituting one of the stored ones.        \n",
    "        m = random.randint(0,N)\n",
    "        if m < reservoir_size:\n",
    "            stored_ips[m] = ip"
   ]
  },
  {
   "cell_type": "code",
   "execution_count": 208,
   "metadata": {},
   "outputs": [
    {
     "name": "stdout",
     "output_type": "stream",
     "text": [
      "482299\n",
      "50000\n"
     ]
    },
    {
     "data": {
      "text/plain": [
       "3"
      ]
     },
     "execution_count": 208,
     "metadata": {},
     "output_type": "execute_result"
    }
   ],
   "source": [
    "print(len(counts))\n",
    "print(reservoir_size)"
   ]
  },
  {
   "cell_type": "code",
   "execution_count": 103,
   "metadata": {},
   "outputs": [
    {
     "data": {
      "text/plain": [
       "147.32.87.23:32865     2210\n",
       "147.32.86.98:32797     1954\n",
       "147.32.85.101:1027     1828\n",
       "147.32.87.27:33003     1400\n",
       "147.32.84.15:32846     1340\n",
       "147.32.84.15:32849     1202\n",
       "147.32.87.23:32868      498\n",
       "147.32.86.193:3862      472\n",
       "147.32.85.109:32831     348\n",
       "147.32.84.59:49158      280\n",
       "dtype: int64"
      ]
     },
     "execution_count": 103,
     "metadata": {},
     "output_type": "execute_result"
    }
   ],
   "source": [
    "counts.head(10)"
   ]
  },
  {
   "cell_type": "code",
   "execution_count": 230,
   "metadata": {},
   "outputs": [
    {
     "data": {
      "text/plain": [
       "147.32.86.98:32797     21\n",
       "147.32.84.15:32846     19\n",
       "147.32.87.23:32865     18\n",
       "147.32.87.27:33003     16\n",
       "147.32.85.101:1027     16\n",
       "147.32.84.15:32849     12\n",
       "147.32.86.20:64744      6\n",
       "147.32.86.20:65249      6\n",
       "147.32.84.138:54505     6\n",
       "147.32.84.138:39368     6\n",
       "dtype: int64"
      ]
     },
     "execution_count": 230,
     "metadata": {},
     "output_type": "execute_result"
    }
   ],
   "source": [
    "pd.Series(stored_ips).value_counts().sort_values(ascending=False).head(10)"
   ]
  }
 ],
 "metadata": {
  "kernelspec": {
   "display_name": "Python 3",
   "language": "python",
   "name": "python3"
  },
  "language_info": {
   "codemirror_mode": {
    "name": "ipython",
    "version": 3
   },
   "file_extension": ".py",
   "mimetype": "text/x-python",
   "name": "python",
   "nbconvert_exporter": "python",
   "pygments_lexer": "ipython3",
   "version": "3.7.0"
  }
 },
 "nbformat": 4,
 "nbformat_minor": 2
}
