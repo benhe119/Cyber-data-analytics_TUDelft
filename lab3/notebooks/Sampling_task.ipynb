{
 "cells": [
  {
   "cell_type": "code",
   "execution_count": 1,
   "metadata": {},
   "outputs": [],
   "source": [
    "import pandas as pd\n",
    "import random\n",
    "import matplotlib.pyplot as plt\n",
    "import seaborn as sns\n",
    "import numpy as np\n",
    "sns.set()"
   ]
  },
  {
   "cell_type": "markdown",
   "metadata": {},
   "source": [
    "### Using scenario 3 (Dataset 44 on the CTU website)     \n",
    "Please note that these files have been processed using the \"Data_processing\" notebook, which takes in the original file from the website, preprocesses it, and saves it again in csv file."
   ]
  },
  {
   "cell_type": "code",
   "execution_count": 2,
   "metadata": {},
   "outputs": [],
   "source": [
    "DATA_PATH_ORIG = r'../data/scenario_3.csv'"
   ]
  },
  {
   "cell_type": "markdown",
   "metadata": {},
   "source": [
    "Read the data"
   ]
  },
  {
   "cell_type": "code",
   "execution_count": 3,
   "metadata": {},
   "outputs": [
    {
     "data": {
      "text/html": [
       "<div>\n",
       "<style scoped>\n",
       "    .dataframe tbody tr th:only-of-type {\n",
       "        vertical-align: middle;\n",
       "    }\n",
       "\n",
       "    .dataframe tbody tr th {\n",
       "        vertical-align: top;\n",
       "    }\n",
       "\n",
       "    .dataframe thead th {\n",
       "        text-align: right;\n",
       "    }\n",
       "</style>\n",
       "<table border=\"1\" class=\"dataframe\">\n",
       "  <thead>\n",
       "    <tr style=\"text-align: right;\">\n",
       "      <th></th>\n",
       "      <th>start_date</th>\n",
       "      <th>duration</th>\n",
       "      <th>protocol</th>\n",
       "      <th>src_addr</th>\n",
       "      <th>dst_addr</th>\n",
       "      <th>flags</th>\n",
       "      <th>tos</th>\n",
       "      <th>packets</th>\n",
       "      <th>bytes</th>\n",
       "      <th>flows</th>\n",
       "      <th>label</th>\n",
       "      <th>src_port</th>\n",
       "      <th>dst_port</th>\n",
       "    </tr>\n",
       "  </thead>\n",
       "  <tbody>\n",
       "    <tr>\n",
       "      <th>0</th>\n",
       "      <td>2011-08-12 15:24:01.105</td>\n",
       "      <td>4.677</td>\n",
       "      <td>TCP</td>\n",
       "      <td>74.125.108.243</td>\n",
       "      <td>147.32.86.187</td>\n",
       "      <td>PA_</td>\n",
       "      <td>0</td>\n",
       "      <td>452</td>\n",
       "      <td>682688</td>\n",
       "      <td>1</td>\n",
       "      <td>Background</td>\n",
       "      <td>80</td>\n",
       "      <td>55707</td>\n",
       "    </tr>\n",
       "    <tr>\n",
       "      <th>1</th>\n",
       "      <td>2011-08-12 15:24:01.105</td>\n",
       "      <td>3.110</td>\n",
       "      <td>TCP</td>\n",
       "      <td>147.32.84.164</td>\n",
       "      <td>83.208.193.123</td>\n",
       "      <td>PA_</td>\n",
       "      <td>0</td>\n",
       "      <td>5</td>\n",
       "      <td>506</td>\n",
       "      <td>1</td>\n",
       "      <td>LEGITIMATE</td>\n",
       "      <td>22</td>\n",
       "      <td>15173</td>\n",
       "    </tr>\n",
       "    <tr>\n",
       "      <th>2</th>\n",
       "      <td>2011-08-12 15:24:01.105</td>\n",
       "      <td>4.678</td>\n",
       "      <td>TCP</td>\n",
       "      <td>147.32.86.187</td>\n",
       "      <td>74.125.108.243</td>\n",
       "      <td>A_</td>\n",
       "      <td>0</td>\n",
       "      <td>106</td>\n",
       "      <td>6510</td>\n",
       "      <td>1</td>\n",
       "      <td>LEGITIMATE</td>\n",
       "      <td>55707</td>\n",
       "      <td>80</td>\n",
       "    </tr>\n",
       "    <tr>\n",
       "      <th>3</th>\n",
       "      <td>2011-08-12 15:24:01.106</td>\n",
       "      <td>4.989</td>\n",
       "      <td>TCP</td>\n",
       "      <td>217.168.211.184</td>\n",
       "      <td>147.32.84.14</td>\n",
       "      <td>PA_</td>\n",
       "      <td>0</td>\n",
       "      <td>1393</td>\n",
       "      <td>95812</td>\n",
       "      <td>1</td>\n",
       "      <td>Background</td>\n",
       "      <td>3953</td>\n",
       "      <td>22</td>\n",
       "    </tr>\n",
       "    <tr>\n",
       "      <th>4</th>\n",
       "      <td>2011-08-12 15:24:01.113</td>\n",
       "      <td>4.988</td>\n",
       "      <td>UDP</td>\n",
       "      <td>173.9.132.155</td>\n",
       "      <td>147.32.84.59</td>\n",
       "      <td>INT</td>\n",
       "      <td>0</td>\n",
       "      <td>811</td>\n",
       "      <td>680898</td>\n",
       "      <td>1</td>\n",
       "      <td>Background</td>\n",
       "      <td>54369</td>\n",
       "      <td>15046</td>\n",
       "    </tr>\n",
       "  </tbody>\n",
       "</table>\n",
       "</div>"
      ],
      "text/plain": [
       "               start_date  duration protocol         src_addr        dst_addr  \\\n",
       "0 2011-08-12 15:24:01.105     4.677      TCP   74.125.108.243   147.32.86.187   \n",
       "1 2011-08-12 15:24:01.105     3.110      TCP    147.32.84.164  83.208.193.123   \n",
       "2 2011-08-12 15:24:01.105     4.678      TCP    147.32.86.187  74.125.108.243   \n",
       "3 2011-08-12 15:24:01.106     4.989      TCP  217.168.211.184    147.32.84.14   \n",
       "4 2011-08-12 15:24:01.113     4.988      UDP    173.9.132.155    147.32.84.59   \n",
       "\n",
       "  flags  tos  packets   bytes  flows       label  src_port  dst_port  \n",
       "0   PA_    0      452  682688      1  Background        80     55707  \n",
       "1   PA_    0        5     506      1  LEGITIMATE        22     15173  \n",
       "2    A_    0      106    6510      1  LEGITIMATE     55707        80  \n",
       "3   PA_    0     1393   95812      1  Background      3953        22  \n",
       "4   INT    0      811  680898      1  Background     54369     15046  "
      ]
     },
     "execution_count": 3,
     "metadata": {},
     "output_type": "execute_result"
    }
   ],
   "source": [
    "df = pd.read_csv(DATA_PATH_ORIG, parse_dates=['start_date'])\n",
    "df.head()"
   ]
  },
  {
   "cell_type": "code",
   "execution_count": 4,
   "metadata": {},
   "outputs": [
    {
     "data": {
      "text/plain": [
       "(15202060, 13)"
      ]
     },
     "execution_count": 4,
     "metadata": {},
     "output_type": "execute_result"
    }
   ],
   "source": [
    "df.shape"
   ]
  },
  {
   "cell_type": "markdown",
   "metadata": {},
   "source": [
    "Have a look at the labels we have"
   ]
  },
  {
   "cell_type": "code",
   "execution_count": 5,
   "metadata": {},
   "outputs": [
    {
     "data": {
      "text/plain": [
       "array(['Background', 'LEGITIMATE', 'Botnet'], dtype=object)"
      ]
     },
     "execution_count": 5,
     "metadata": {},
     "output_type": "execute_result"
    }
   ],
   "source": [
    "df['label'].unique()"
   ]
  },
  {
   "cell_type": "markdown",
   "metadata": {},
   "source": [
    "As we discussed in Mattermost, we are interested in the connections between the **infected** host (it is only one in this dataset) and the other IPs "
   ]
  },
  {
   "cell_type": "markdown",
   "metadata": {},
   "source": [
    "### From website: infected host --> 147.32.84.165"
   ]
  },
  {
   "cell_type": "code",
   "execution_count": 6,
   "metadata": {},
   "outputs": [],
   "source": [
    "host_ip = \"147.32.84.165\""
   ]
  },
  {
   "cell_type": "markdown",
   "metadata": {},
   "source": [
    "## Real distribution of IP addresses\n",
    "This works as a benchmark, as we stored all the data and compute the frequencies. After this, we will do it with reservoir sampling and compare the obtained results."
   ]
  },
  {
   "cell_type": "markdown",
   "metadata": {},
   "source": [
    "Let's keep all the other IPs the host connects with"
   ]
  },
  {
   "cell_type": "code",
   "execution_count": 7,
   "metadata": {},
   "outputs": [
    {
     "name": "stdout",
     "output_type": "stream",
     "text": [
      "75891 flows with other IPs found.\n"
     ]
    }
   ],
   "source": [
    "connections = df[(df['src_addr'] == host_ip) | (df['dst_addr'] == host_ip)][['src_addr', 'dst_addr']]\n",
    "\n",
    "# the host can be either 'source' or 'destination'\n",
    "# we want to keep only the other IP address\n",
    "other_ips = connections.apply(lambda row: row['dst_addr'] if row['src_addr'] == host_ip else row['src_addr'], axis=1)\n",
    "print(f\"{other_ips.size} flows with other IPs found.\")"
   ]
  },
  {
   "cell_type": "markdown",
   "metadata": {},
   "source": [
    "Just a sanity check to assert that we do not have our host_ip somewhere in the list of IPs"
   ]
  },
  {
   "cell_type": "code",
   "execution_count": 8,
   "metadata": {},
   "outputs": [
    {
     "name": "stdout",
     "output_type": "stream",
     "text": [
      "75891\n",
      "75891\n"
     ]
    }
   ],
   "source": [
    "print(len([ip for ip in other_ips if ip != host_ip]))\n",
    "print(len(other_ips))"
   ]
  },
  {
   "cell_type": "markdown",
   "metadata": {},
   "source": [
    "Let's compute the real frequencies of other IPs, and let's retain the top 10, as requested"
   ]
  },
  {
   "cell_type": "code",
   "execution_count": 9,
   "metadata": {},
   "outputs": [
    {
     "data": {
      "text/plain": [
       "178.77.71.27      12424\n",
       "38.229.70.20       3828\n",
       "147.32.96.45       1218\n",
       "195.113.235.89      723\n",
       "109.74.55.27        397\n",
       "64.31.13.148        282\n",
       "208.86.166.68       282\n",
       "210.139.61.102      181\n",
       "208.100.127.34       90\n",
       "210.139.61.70        72\n",
       "dtype: int64"
      ]
     },
     "execution_count": 9,
     "metadata": {},
     "output_type": "execute_result"
    }
   ],
   "source": [
    "benchmark_counts = other_ips.value_counts().sort_values(ascending=False)\n",
    "benchmark_counts[:10]"
   ]
  },
  {
   "cell_type": "markdown",
   "metadata": {},
   "source": [
    "# Reservoir sampling (in one pass)\n",
    "Below are some resources which we found useful when developing the reservoir sampling:\n",
    "- https://stackoverflow.com/questions/12732982/design-a-storage-algorithm/12733515#12733515     \n",
    "- https://stackoverflow.com/questions/2612648/reservoir-sampling       \n",
    "- http://web.archive.org/web/20141026071430/http://propersubset.com:80/2010/04/choosing-random-elements.html"
   ]
  },
  {
   "cell_type": "markdown",
   "metadata": {},
   "source": [
    "### We are going to test the reservoir sampling using a range of values for the reservoir size   \n",
    "Intuitively, the higher the size, the better the estimation. However, it requires more memory to store the data    \n",
    "\n",
    "We are streaming the data, so we just loop ONCE over the dataset. Each row has the 'src' and 'dst' IP.\n",
    "- If the IP we are monitoring is in the flow, we apply the reservoir sampling.\n",
    "- If it's not, we discard such flow because it's not of interest for the purpose.\n",
    "\n",
    "However, if we actually stream the data with 15 million flows, it takes way too much to process it all, especially if we need to try different sizes.\n",
    "\n",
    "Therefore, since we know we are only interested in the flows which contain the IP of the host (either as 'src' or 'dst') we can filter out all the other flows beforehand, without compromising the reservoir sampling approach.\n",
    "\n",
    "After that, we perform **one pass** on all the remaining IPs, applying reservoir sampling"
   ]
  },
  {
   "cell_type": "code",
   "execution_count": 10,
   "metadata": {},
   "outputs": [
    {
     "data": {
      "text/plain": [
       "(15202060, 13)"
      ]
     },
     "execution_count": 10,
     "metadata": {},
     "output_type": "execute_result"
    }
   ],
   "source": [
    "df.shape"
   ]
  },
  {
   "cell_type": "markdown",
   "metadata": {},
   "source": [
    "Keep only flows of interest"
   ]
  },
  {
   "cell_type": "code",
   "execution_count": 11,
   "metadata": {},
   "outputs": [
    {
     "data": {
      "text/plain": [
       "(75891,)"
      ]
     },
     "execution_count": 11,
     "metadata": {},
     "output_type": "execute_result"
    }
   ],
   "source": [
    "connections = df[(df['src_addr'] == host_ip) | (df['dst_addr'] == host_ip)][['src_addr', 'dst_addr']]\n",
    "other_ips = connections.apply(lambda row: row['dst_addr'] if row['src_addr'] == host_ip else row['src_addr'], axis=1)\n",
    "other_ips.shape"
   ]
  },
  {
   "cell_type": "markdown",
   "metadata": {},
   "source": [
    "'other_ips' contains the stream of all the flows of interest (where the host ip appears either as 'src' or 'dst').    \n",
    "We can now apply reservoir sampling"
   ]
  },
  {
   "cell_type": "code",
   "execution_count": 12,
   "metadata": {},
   "outputs": [],
   "source": [
    "def reservoir_sampling(stream, reservoir_size):\n",
    "    stored_items = []\n",
    "    for N, stream_item in enumerate(stream):\n",
    "        if N < reservoir_size:\n",
    "            # as long as we have room, the probability of storing is 100%\n",
    "            stored_items.append(stream_item)\n",
    "        else:\n",
    "            # when N = i+1 we have i IPs stored (i > reservoir_size) \n",
    "            # In such a case, we want probability i/i+1 of storing the new IP, substituting one of the stored ones.        \n",
    "            m = random.randint(0,N)\n",
    "            if m < reservoir_size:\n",
    "                stored_items[m] = stream_item\n",
    "    return pd.Series(stored_items)"
   ]
  },
  {
   "cell_type": "markdown",
   "metadata": {},
   "source": [
    "For the results, we adopt the recall at the top 10 frequent IPs"
   ]
  },
  {
   "cell_type": "code",
   "execution_count": 13,
   "metadata": {},
   "outputs": [],
   "source": [
    "def compute_reservoir_error(original, sampled, n_of_ips, verbose=False):\n",
    "    if verbose:\n",
    "        print(f\"Size of stream: {original.size}. Size of reservoir: {sampled.size}\")\n",
    "    \n",
    "    original = original.value_counts().sort_values(ascending=False)\n",
    "    sampled = sampled.value_counts().sort_values(ascending=False)\n",
    "    \n",
    "    top_n_to_find = original[:10].index\n",
    "    top_n_found = sampled[:10].index\n",
    "        \n",
    "    retrieved = set.intersection(set(top_n_to_find), set(top_n_found))\n",
    "    if verbose:\n",
    "        print(len(retrieved))\n",
    "    return len(retrieved)"
   ]
  },
  {
   "cell_type": "code",
   "execution_count": 30,
   "metadata": {
    "scrolled": true
   },
   "outputs": [],
   "source": [
    "result_list = []\n",
    "sizes = list(set(np.logspace(1,4.3,num=1000,base=10,dtype='int')))\n",
    "for reservoir_size in sorted(sizes):\n",
    "    results = reservoir_sampling(other_ips, reservoir_size)\n",
    "    res = compute_reservoir_error(other_ips, results, 10)\n",
    "    result_list.append(res)"
   ]
  },
  {
   "cell_type": "code",
   "execution_count": 40,
   "metadata": {},
   "outputs": [
    {
     "data": {
      "image/png": "[encoded data removed]",
      "text/plain": [
       "<Figure size 1224x432 with 1 Axes>"
      ]
     },
     "metadata": {
      "needs_background": "light"
     },
     "output_type": "display_data"
    }
   ],
   "source": [
    "plt.figure(figsize=(17, 6))\n",
    "plt.plot(sorted(sizes), np.array(result_list)/10, drawstyle='steps')\n",
    "plt.title(\"Recall on top 10 most frequent IPs\")\n",
    "plt.xlabel(\"Reservoir size\")\n",
    "plt.ylabel(\"Recall top 10 frequent IPs\")\n",
    "plt.show()"
   ]
  },
  {
   "cell_type": "markdown",
   "metadata": {},
   "source": [
    "## Frequencies with and without reservoir sampling"
   ]
  },
  {
   "cell_type": "code",
   "execution_count": 93,
   "metadata": {},
   "outputs": [
    {
     "data": {
      "text/plain": [
       "178.77.71.27      0.1634\n",
       "38.229.70.20      0.0513\n",
       "147.32.96.45      0.0154\n",
       "195.113.235.89    0.0087\n",
       "109.74.55.27      0.0064\n",
       "64.31.13.148      0.0039\n",
       "210.139.61.102    0.0030\n",
       "208.86.166.68     0.0028\n",
       "210.139.61.70     0.0012\n",
       "208.100.127.34    0.0007\n",
       "dtype: float64"
      ]
     },
     "execution_count": 93,
     "metadata": {},
     "output_type": "execute_result"
    }
   ],
   "source": [
    "test_res = reservoir_sampling(other_ips, 10000)\n",
    "n_rows = test_res.shape[0]\n",
    "(test_res.value_counts().sort_values(ascending=False)/n_rows)[:10]"
   ]
  },
  {
   "cell_type": "code",
   "execution_count": 89,
   "metadata": {},
   "outputs": [
    {
     "data": {
      "text/plain": [
       "178.77.71.27      0.163708\n",
       "38.229.70.20      0.050441\n",
       "147.32.96.45      0.016049\n",
       "195.113.235.89    0.009527\n",
       "109.74.55.27      0.005231\n",
       "64.31.13.148      0.003716\n",
       "208.86.166.68     0.003716\n",
       "210.139.61.102    0.002385\n",
       "208.100.127.34    0.001186\n",
       "210.139.61.70     0.000949\n",
       "dtype: float64"
      ]
     },
     "execution_count": 89,
     "metadata": {},
     "output_type": "execute_result"
    }
   ],
   "source": [
    "real_result = other_ips.value_counts().sort_values(ascending=False)\n",
    "real_result = real_result / other_ips.shape[0]\n",
    "\n",
    "real_result[:10]"
   ]
  },
  {
   "cell_type": "markdown",
   "metadata": {},
   "source": [
    "We can see that, with reservoir size 10000 (instead of 75891 which is the size we would need to STORE the whole stream of other IPs) we obtain recall 1. This is a nice shot for reservoir sampling :)"
   ]
  }
 ],
 "metadata": {
  "kernelspec": {
   "display_name": "Python 3",
   "language": "python",
   "name": "python3"
  },
  "language_info": {
   "codemirror_mode": {
    "name": "ipython",
    "version": 3
   },
   "file_extension": ".py",
   "mimetype": "text/x-python",
   "name": "python",
   "nbconvert_exporter": "python",
   "pygments_lexer": "ipython3",
   "version": "3.7.0"
  }
 },
 "nbformat": 4,
 "nbformat_minor": 2
}
