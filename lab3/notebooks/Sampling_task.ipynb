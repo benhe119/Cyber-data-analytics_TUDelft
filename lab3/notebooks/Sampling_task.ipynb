{
 "cells": [
  {
   "cell_type": "code",
   "execution_count": 87,
   "metadata": {},
   "outputs": [],
   "source": [
    "import pandas as pd\n",
    "import random\n",
    "import matplotlib.pyplot as plt\n",
    "import seaborn as sns\n",
    "import numpy as np\n",
    "sns.set()"
   ]
  },
  {
   "cell_type": "code",
   "execution_count": 2,
   "metadata": {},
   "outputs": [],
   "source": [
    "DATA_PATH_ORIG = r'../data/capture20110812.pcap.netflow.labeled.csv'\n",
    "DATA_PATH_NEW = r'../data/capture20110812.pcap.netflow.labeled_processed.csv'"
   ]
  },
  {
   "cell_type": "markdown",
   "metadata": {},
   "source": [
    "## IMPORTANT     \n",
    "The code below reads the file and erases the '->' characters.    \n",
    "It takes quite a few minutes, so run it only if you don't have the processed file yet :("
   ]
  },
  {
   "cell_type": "code",
   "execution_count": null,
   "metadata": {},
   "outputs": [],
   "source": [
    "# text = open(DATA_PATH, \"r\")\n",
    "# text = ''.join([i for i in text]) \\\n",
    "#     .replace(\"->\", \"\")\n",
    "# x = open(DATA_PATH_NEW,\"w\")\n",
    "# x.writelines(text)\n",
    "# x.close()"
   ]
  },
  {
   "cell_type": "markdown",
   "metadata": {},
   "source": [
    "Read the data"
   ]
  },
  {
   "cell_type": "code",
   "execution_count": 3,
   "metadata": {},
   "outputs": [
    {
     "data": {
      "text/html": [
       "<div>\n",
       "<style scoped>\n",
       "    .dataframe tbody tr th:only-of-type {\n",
       "        vertical-align: middle;\n",
       "    }\n",
       "\n",
       "    .dataframe tbody tr th {\n",
       "        vertical-align: top;\n",
       "    }\n",
       "\n",
       "    .dataframe thead th {\n",
       "        text-align: right;\n",
       "    }\n",
       "</style>\n",
       "<table border=\"1\" class=\"dataframe\">\n",
       "  <thead>\n",
       "    <tr style=\"text-align: right;\">\n",
       "      <th></th>\n",
       "      <th>start_date</th>\n",
       "      <th>duration</th>\n",
       "      <th>protocol</th>\n",
       "      <th>src_addr</th>\n",
       "      <th>dst_addr</th>\n",
       "      <th>flags</th>\n",
       "      <th>tos</th>\n",
       "      <th>packets</th>\n",
       "      <th>bytes</th>\n",
       "      <th>flows</th>\n",
       "      <th>label</th>\n",
       "    </tr>\n",
       "  </thead>\n",
       "  <tbody>\n",
       "    <tr>\n",
       "      <th>0</th>\n",
       "      <td>2011-08-12 15:24:01.105</td>\n",
       "      <td>4.677</td>\n",
       "      <td>TCP</td>\n",
       "      <td>74.125.108.243:80</td>\n",
       "      <td>147.32.86.187:55707</td>\n",
       "      <td>PA_</td>\n",
       "      <td>0</td>\n",
       "      <td>452</td>\n",
       "      <td>682688</td>\n",
       "      <td>1</td>\n",
       "      <td>Background</td>\n",
       "    </tr>\n",
       "    <tr>\n",
       "      <th>1</th>\n",
       "      <td>2011-08-12 15:24:01.105</td>\n",
       "      <td>3.110</td>\n",
       "      <td>TCP</td>\n",
       "      <td>147.32.84.164:22</td>\n",
       "      <td>83.208.193.123:15173</td>\n",
       "      <td>PA_</td>\n",
       "      <td>0</td>\n",
       "      <td>5</td>\n",
       "      <td>506</td>\n",
       "      <td>1</td>\n",
       "      <td>LEGITIMATE</td>\n",
       "    </tr>\n",
       "    <tr>\n",
       "      <th>2</th>\n",
       "      <td>2011-08-12 15:24:01.105</td>\n",
       "      <td>4.678</td>\n",
       "      <td>TCP</td>\n",
       "      <td>147.32.86.187:55707</td>\n",
       "      <td>74.125.108.243:80</td>\n",
       "      <td>A_</td>\n",
       "      <td>0</td>\n",
       "      <td>106</td>\n",
       "      <td>6510</td>\n",
       "      <td>1</td>\n",
       "      <td>LEGITIMATE</td>\n",
       "    </tr>\n",
       "    <tr>\n",
       "      <th>3</th>\n",
       "      <td>2011-08-12 15:24:01.106</td>\n",
       "      <td>4.989</td>\n",
       "      <td>TCP</td>\n",
       "      <td>217.168.211.184:3953</td>\n",
       "      <td>147.32.84.14:22</td>\n",
       "      <td>PA_</td>\n",
       "      <td>0</td>\n",
       "      <td>1393</td>\n",
       "      <td>95812</td>\n",
       "      <td>1</td>\n",
       "      <td>Background</td>\n",
       "    </tr>\n",
       "    <tr>\n",
       "      <th>4</th>\n",
       "      <td>2011-08-12 15:24:01.113</td>\n",
       "      <td>4.988</td>\n",
       "      <td>UDP</td>\n",
       "      <td>173.9.132.155:54369</td>\n",
       "      <td>147.32.84.59:15046</td>\n",
       "      <td>INT</td>\n",
       "      <td>0</td>\n",
       "      <td>811</td>\n",
       "      <td>680898</td>\n",
       "      <td>1</td>\n",
       "      <td>Background</td>\n",
       "    </tr>\n",
       "  </tbody>\n",
       "</table>\n",
       "</div>"
      ],
      "text/plain": [
       "               start_date  duration protocol              src_addr  \\\n",
       "0 2011-08-12 15:24:01.105     4.677      TCP     74.125.108.243:80   \n",
       "1 2011-08-12 15:24:01.105     3.110      TCP      147.32.84.164:22   \n",
       "2 2011-08-12 15:24:01.105     4.678      TCP   147.32.86.187:55707   \n",
       "3 2011-08-12 15:24:01.106     4.989      TCP  217.168.211.184:3953   \n",
       "4 2011-08-12 15:24:01.113     4.988      UDP   173.9.132.155:54369   \n",
       "\n",
       "               dst_addr flags  tos  packets   bytes  flows       label  \n",
       "0   147.32.86.187:55707   PA_    0      452  682688      1  Background  \n",
       "1  83.208.193.123:15173   PA_    0        5     506      1  LEGITIMATE  \n",
       "2     74.125.108.243:80    A_    0      106    6510      1  LEGITIMATE  \n",
       "3       147.32.84.14:22   PA_    0     1393   95812      1  Background  \n",
       "4    147.32.84.59:15046   INT    0      811  680898      1  Background  "
      ]
     },
     "execution_count": 3,
     "metadata": {},
     "output_type": "execute_result"
    }
   ],
   "source": [
    "column_names = ['_', '_2', 'duration', 'protocol', 'src_addr', 'dst_addr', 'flags', 'tos', 'packets', 'bytes', 'flows', 'label']\n",
    "\n",
    "df = pd.read_csv(\n",
    "    DATA_PATH_NEW,\n",
    "    delimiter='\\s+',\n",
    "    skiprows=[0],\n",
    "    header=None, \n",
    "    names=column_names,\n",
    "    index_col=False,\n",
    "    parse_dates={\"start_date\": [0,1]}\n",
    ")\n",
    "df.head()"
   ]
  },
  {
   "cell_type": "markdown",
   "metadata": {},
   "source": [
    "Have a look at the labels we have"
   ]
  },
  {
   "cell_type": "code",
   "execution_count": 17,
   "metadata": {},
   "outputs": [
    {
     "data": {
      "text/plain": [
       "array(['Background', 'LEGITIMATE', 'Botnet'], dtype=object)"
      ]
     },
     "execution_count": 17,
     "metadata": {},
     "output_type": "execute_result"
    }
   ],
   "source": [
    "df['label'].unique()"
   ]
  },
  {
   "cell_type": "markdown",
   "metadata": {},
   "source": [
    "We obtained the IP of the infected host from the documentation of the scenario 44."
   ]
  },
  {
   "cell_type": "code",
   "execution_count": 6,
   "metadata": {},
   "outputs": [],
   "source": [
    "host_ip = \"147.32.84.165\" # IP obtained from documentation"
   ]
  },
  {
   "cell_type": "markdown",
   "metadata": {},
   "source": [
    "Let's keep all the other IPs the host connects with"
   ]
  },
  {
   "cell_type": "code",
   "execution_count": 21,
   "metadata": {},
   "outputs": [
    {
     "name": "stdout",
     "output_type": "stream",
     "text": [
      "3652 connections with the host found.\n"
     ]
    }
   ],
   "source": [
    "# let's build an iterable with all the other IPs this guy connects with\n",
    "connections = df[(df['src_addr'] == host_ip) | (df['dst_addr'] == host_ip)][['src_addr', 'dst_addr']]\n",
    "\n",
    "other_ips = connections.apply(lambda row: row['dst_addr'] if row['src_addr'] == host_ip else row['src_addr'], axis=1)\n",
    "print(f\"{other_ips.size} connections with the host found.\")"
   ]
  },
  {
   "cell_type": "markdown",
   "metadata": {},
   "source": [
    "Just a sanity check to assert that we do not have our host_ip somewhere in the list of IPs"
   ]
  },
  {
   "cell_type": "code",
   "execution_count": 19,
   "metadata": {},
   "outputs": [
    {
     "name": "stdout",
     "output_type": "stream",
     "text": [
      "3652\n",
      "3652\n"
     ]
    }
   ],
   "source": [
    "print(len([ip for ip in other_ips if ip != host_ip]))\n",
    "print(len(other_ips))"
   ]
  },
  {
   "cell_type": "markdown",
   "metadata": {},
   "source": [
    "# Reservoir\n",
    "https://stackoverflow.com/questions/12732982/design-a-storage-algorithm/12733515#12733515     \n",
    "https://stackoverflow.com/questions/2612648/reservoir-sampling       \n",
    "http://web.archive.org/web/20141026071430/http://propersubset.com:80/2010/04/choosing-random-elements.html"
   ]
  },
  {
   "cell_type": "code",
   "execution_count": 68,
   "metadata": {},
   "outputs": [],
   "source": [
    "def reservoir_sampling(stream, reservoir_size):\n",
    "    stored_items = []\n",
    "    for N, stream_item in enumerate(stream):\n",
    "        if N < reservoir_size:\n",
    "            # as long as we have space, the probability of storing is 100%\n",
    "            stored_items.append(stream_item)\n",
    "        else:\n",
    "            # when N = i+1 we have i IPs stored (i > reservoir_size) \n",
    "            # In such a case, we want probability i/i+1 of storing the new IP, substituting one of the stored ones.        \n",
    "            m = random.randint(0,N)\n",
    "            if m < reservoir_size:\n",
    "                stored_items[m] = stream_item\n",
    "    return pd.Series(stored_items)"
   ]
  },
  {
   "cell_type": "code",
   "execution_count": 83,
   "metadata": {},
   "outputs": [],
   "source": [
    "def compute_reservoir_error(original, sampled, n_of_ips, verbose=False):\n",
    "    if verbose:\n",
    "        print(f\"Size of stream: {original.size}. Size of reservoir: {sampled.size}\")\n",
    "    \n",
    "    original = original.value_counts().sort_values(ascending=False)\n",
    "    sampled = sampled.value_counts().sort_values(ascending=False)\n",
    "    \n",
    "    top_n_to_find = original[:10].index\n",
    "    top_n_found = sampled[:10].index\n",
    "    \n",
    "    retrieved = set.intersection(set(top_n_to_find), set(top_n_found))\n",
    "    if verbose:\n",
    "        print(len(retrieved))\n",
    "    return len(retrieved)"
   ]
  },
  {
   "cell_type": "markdown",
   "metadata": {},
   "source": [
    "### assignment says: \"Use a range of reservoir sizes\""
   ]
  },
  {
   "cell_type": "code",
   "execution_count": 89,
   "metadata": {
    "scrolled": false
   },
   "outputs": [
    {
     "data": {
      "image/png": "[encoded data removed]",
      "text/plain": [
       "<Figure size 432x288 with 1 Axes>"
      ]
     },
     "metadata": {},
     "output_type": "display_data"
    }
   ],
   "source": [
    "# one pass\n",
    "result_list = []\n",
    "sizes = np.arange(100, len(other_ips), 10)\n",
    "for reservoir_size in sizes:\n",
    "    results = reservoir_sampling(other_ips, reservoir_size)\n",
    "    res = compute_reservoir_error(other_ips, results, 10)\n",
    "    result_list.append(res)\n",
    "    \n",
    "plt.plot(sizes, result_list)\n",
    "plt.show()"
   ]
  }
 ],
 "metadata": {
  "kernelspec": {
   "display_name": "Python 3",
   "language": "python",
   "name": "python3"
  },
  "language_info": {
   "codemirror_mode": {
    "name": "ipython",
    "version": 3
   },
   "file_extension": ".py",
   "mimetype": "text/x-python",
   "name": "python",
   "nbconvert_exporter": "python",
   "pygments_lexer": "ipython3",
   "version": "3.7.0"
  }
 },
 "nbformat": 4,
 "nbformat_minor": 2
}
