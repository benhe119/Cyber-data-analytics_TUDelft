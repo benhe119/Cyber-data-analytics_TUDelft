{
 "cells": [
  {
   "cell_type": "markdown",
   "metadata": {},
   "source": [
    "# Fraud detection lab"
   ]
  },
  {
   "cell_type": "markdown",
   "metadata": {},
   "source": [
    "## Visualisation (Part 1)"
   ]
  },
  {
   "cell_type": "code",
   "execution_count": 1,
   "metadata": {},
   "outputs": [],
   "source": [
    "# insert code here"
   ]
  },
  {
   "cell_type": "code",
   "execution_count": 2,
   "metadata": {},
   "outputs": [],
   "source": [
    "# we don't need any of the defined variables of this section. Therefore, we clean the workspace.\n",
    "%reset -f"
   ]
  },
  {
   "cell_type": "markdown",
   "metadata": {},
   "source": [
    "## Part 2"
   ]
  },
  {
   "cell_type": "markdown",
   "metadata": {},
   "source": [
    "### Preprocessing"
   ]
  },
  {
   "cell_type": "code",
   "execution_count": 22,
   "metadata": {},
   "outputs": [
    {
     "name": "stdout",
     "output_type": "stream",
     "text": [
      "Looking in indexes: https://pypi.python.org/simple/\n",
      "Requirement already satisfied: sklearn in c:\\users\\gabri\\anaconda3\\lib\\site-packages (0.0)\n",
      "Requirement already satisfied: pandas in c:\\users\\gabri\\anaconda3\\lib\\site-packages (0.24.2)\n",
      "Requirement already satisfied: imblearn in c:\\users\\gabri\\anaconda3\\lib\\site-packages (0.0)\n",
      "Requirement already satisfied: scikit-learn in c:\\users\\gabri\\anaconda3\\lib\\site-packages (from sklearn) (0.20.3)\n",
      "Requirement already satisfied: numpy>=1.12.0 in c:\\users\\gabri\\anaconda3\\lib\\site-packages (from pandas) (1.16.2)\n",
      "Requirement already satisfied: pytz>=2011k in c:\\users\\gabri\\anaconda3\\lib\\site-packages (from pandas) (2018.5)\n",
      "Requirement already satisfied: python-dateutil>=2.5.0 in c:\\users\\gabri\\anaconda3\\lib\\site-packages (from pandas) (2.7.3)\n",
      "Requirement already satisfied: imbalanced-learn in c:\\users\\gabri\\anaconda3\\lib\\site-packages (from imblearn) (0.4.3)\n",
      "Requirement already satisfied: scipy>=0.13.3 in c:\\users\\gabri\\anaconda3\\lib\\site-packages (from scikit-learn->sklearn) (1.2.1)\n",
      "Requirement already satisfied: six>=1.5 in c:\\users\\gabri\\anaconda3\\lib\\site-packages (from python-dateutil>=2.5.0->pandas) (1.12.0)\n"
     ]
    }
   ],
   "source": [
    "import sys\n",
    "!{sys.executable} -m pip install sklearn pandas"
   ]
  },
  {
   "cell_type": "code",
   "execution_count": 4,
   "metadata": {},
   "outputs": [],
   "source": [
    "import time\n",
    "import pandas as pd\n",
    "import datetime\n",
    "from sklearn.preprocessing import StandardScaler"
   ]
  },
  {
   "cell_type": "code",
   "execution_count": 5,
   "metadata": {},
   "outputs": [
    {
     "name": "stdout",
     "output_type": "stream",
     "text": [
      "(290382, 17)\n"
     ]
    }
   ],
   "source": [
    "CSV_PATH = r\"..\\data\\data_for_student_case.csv\"\n",
    "data_df = pd.read_csv(CSV_PATH)\n",
    "print(data_df.shape)"
   ]
  },
  {
   "cell_type": "markdown",
   "metadata": {},
   "source": [
    "Remove all the rows in which 'simple_journal' == 'Refused' --> not meaningful datapoints"
   ]
  },
  {
   "cell_type": "code",
   "execution_count": 6,
   "metadata": {},
   "outputs": [
    {
     "name": "stdout",
     "output_type": "stream",
     "text": [
      "(237036, 17)\n"
     ]
    }
   ],
   "source": [
    "data_df = data_df[data_df['simple_journal'] != 'Refused']\n",
    "print(data_df.shape)"
   ]
  },
  {
   "cell_type": "markdown",
   "metadata": {},
   "source": [
    "Transform some of the variables and investigate for NA values"
   ]
  },
  {
   "cell_type": "code",
   "execution_count": 7,
   "metadata": {},
   "outputs": [
    {
     "name": "stdout",
     "output_type": "stream",
     "text": [
      "(223842, 17)\n"
     ]
    }
   ],
   "source": [
    "data_df['cvcresponsecode'] = data_df['cvcresponsecode'].apply(lambda cvc: 3 if cvc >= 3 else cvc)\n",
    "\n",
    "data_df = data_df.loc[~data_df['cardverificationcodesupplied'].isna()]\n",
    "print(data_df.shape)\n",
    "\n",
    "# transform labels into 0 and 1\n",
    "data_df['label'] = data_df['simple_journal'].apply(lambda label: 1 if label == 'Chargeback' else 0)\n",
    "data_df = data_df.drop(columns = ['simple_journal'])"
   ]
  },
  {
   "cell_type": "code",
   "execution_count": 8,
   "metadata": {},
   "outputs": [
    {
     "name": "stdout",
     "output_type": "stream",
     "text": [
      "[23, 4, 14, 7, 18]\n",
      "[2, 3, 3, 4, 2]\n",
      "[7, 7, 7, 7, 7]\n"
     ]
    }
   ],
   "source": [
    "#Extract day of the week and hour from the 'creationdate'\n",
    "hours = []\n",
    "day_week = []\n",
    "month = []\n",
    "for index, row in data_df.iterrows():\n",
    "    hours.append(datetime.datetime.strptime(row['creationdate'].split()[1], '%H:%M:%S').hour)\n",
    "    day_week.append(datetime.datetime.strptime(row['creationdate'].split()[0], '%Y-%m-%d').strftime('%A'))\n",
    "    month.append(datetime.datetime.strptime(row['creationdate'].split()[0], '%Y-%m-%d').month)\n",
    "\n",
    "for i in range(len(day_week)):\n",
    "    if day_week[i] == 'Monday':\n",
    "        day_week[i] = 0\n",
    "    elif day_week[i] == 'Tuesday':\n",
    "        day_week[i] = 1\n",
    "    elif day_week[i] == 'Wednesday':\n",
    "        day_week[i] = 2\n",
    "    elif day_week[i] == 'Thursday':\n",
    "        day_week[i] = 3\n",
    "    elif day_week[i] == 'Friday':\n",
    "        day_week[i] = 4\n",
    "    elif day_week[i] == 'Saturday':\n",
    "        day_week[i] = 5\n",
    "    elif day_week[i] == 'Sunday':\n",
    "        day_week[i] = 6\n",
    "\n",
    "print(hours[:5])\n",
    "print(day_week[:5])\n",
    "print(month[:5])\n",
    "\n",
    "data_df['hourtransaction'] = hours\n",
    "data_df['daytransaction'] = day_week\n",
    "data_df['monthtransaction'] = month"
   ]
  },
  {
   "cell_type": "code",
   "execution_count": 9,
   "metadata": {},
   "outputs": [
    {
     "data": {
      "text/plain": [
       "['txid',\n",
       " 'bookingdate',\n",
       " 'issuercountrycode',\n",
       " 'txvariantcode',\n",
       " 'bin',\n",
       " 'amount',\n",
       " 'currencycode',\n",
       " 'shoppercountrycode',\n",
       " 'shopperinteraction',\n",
       " 'cardverificationcodesupplied',\n",
       " 'cvcresponsecode',\n",
       " 'creationdate',\n",
       " 'accountcode',\n",
       " 'mail_id',\n",
       " 'ip_id',\n",
       " 'card_id',\n",
       " 'label',\n",
       " 'hourtransaction',\n",
       " 'daytransaction',\n",
       " 'monthtransaction']"
      ]
     },
     "execution_count": 9,
     "metadata": {},
     "output_type": "execute_result"
    }
   ],
   "source": [
    "list(data_df.columns)"
   ]
  },
  {
   "cell_type": "code",
   "execution_count": 10,
   "metadata": {},
   "outputs": [
    {
     "data": {
      "text/html": [
       "<div>\n",
       "<style scoped>\n",
       "    .dataframe tbody tr th:only-of-type {\n",
       "        vertical-align: middle;\n",
       "    }\n",
       "\n",
       "    .dataframe tbody tr th {\n",
       "        vertical-align: top;\n",
       "    }\n",
       "\n",
       "    .dataframe thead th {\n",
       "        text-align: right;\n",
       "    }\n",
       "</style>\n",
       "<table border=\"1\" class=\"dataframe\">\n",
       "  <thead>\n",
       "    <tr style=\"text-align: right;\">\n",
       "      <th></th>\n",
       "      <th>txid</th>\n",
       "      <th>bookingdate</th>\n",
       "      <th>issuercountrycode</th>\n",
       "      <th>txvariantcode</th>\n",
       "      <th>bin</th>\n",
       "      <th>amount</th>\n",
       "      <th>currencycode</th>\n",
       "      <th>shoppercountrycode</th>\n",
       "      <th>shopperinteraction</th>\n",
       "      <th>cardverificationcodesupplied</th>\n",
       "      <th>cvcresponsecode</th>\n",
       "      <th>creationdate</th>\n",
       "      <th>accountcode</th>\n",
       "      <th>mail_id</th>\n",
       "      <th>ip_id</th>\n",
       "      <th>card_id</th>\n",
       "      <th>label</th>\n",
       "      <th>hourtransaction</th>\n",
       "      <th>daytransaction</th>\n",
       "      <th>monthtransaction</th>\n",
       "    </tr>\n",
       "  </thead>\n",
       "  <tbody>\n",
       "    <tr>\n",
       "      <th>0</th>\n",
       "      <td>1</td>\n",
       "      <td>2015-11-09 14:26:51</td>\n",
       "      <td>MX</td>\n",
       "      <td>mccredit</td>\n",
       "      <td>530056.0</td>\n",
       "      <td>3032.29008</td>\n",
       "      <td>MXN</td>\n",
       "      <td>MX</td>\n",
       "      <td>Ecommerce</td>\n",
       "      <td>True</td>\n",
       "      <td>0</td>\n",
       "      <td>2015-07-01 23:03:11</td>\n",
       "      <td>MexicoAccount</td>\n",
       "      <td>email68370</td>\n",
       "      <td>ip111778</td>\n",
       "      <td>card184798</td>\n",
       "      <td>1</td>\n",
       "      <td>23</td>\n",
       "      <td>2</td>\n",
       "      <td>7</td>\n",
       "    </tr>\n",
       "    <tr>\n",
       "      <th>1</th>\n",
       "      <td>2</td>\n",
       "      <td>2015-11-09 14:27:38</td>\n",
       "      <td>MX</td>\n",
       "      <td>mccredit</td>\n",
       "      <td>547046.0</td>\n",
       "      <td>2101.07754</td>\n",
       "      <td>MXN</td>\n",
       "      <td>MX</td>\n",
       "      <td>Ecommerce</td>\n",
       "      <td>True</td>\n",
       "      <td>0</td>\n",
       "      <td>2015-07-02 04:50:55</td>\n",
       "      <td>MexicoAccount</td>\n",
       "      <td>email101299</td>\n",
       "      <td>ip78749</td>\n",
       "      <td>card151595</td>\n",
       "      <td>1</td>\n",
       "      <td>4</td>\n",
       "      <td>3</td>\n",
       "      <td>7</td>\n",
       "    </tr>\n",
       "    <tr>\n",
       "      <th>2</th>\n",
       "      <td>3</td>\n",
       "      <td>2015-11-23 16:34:16</td>\n",
       "      <td>MX</td>\n",
       "      <td>mccredit</td>\n",
       "      <td>528843.0</td>\n",
       "      <td>7014.51054</td>\n",
       "      <td>MXN</td>\n",
       "      <td>MX</td>\n",
       "      <td>Ecommerce</td>\n",
       "      <td>True</td>\n",
       "      <td>0</td>\n",
       "      <td>2015-07-02 14:30:28</td>\n",
       "      <td>MexicoAccount</td>\n",
       "      <td>email278604</td>\n",
       "      <td>ip70594</td>\n",
       "      <td>card242142</td>\n",
       "      <td>1</td>\n",
       "      <td>14</td>\n",
       "      <td>3</td>\n",
       "      <td>7</td>\n",
       "    </tr>\n",
       "    <tr>\n",
       "      <th>3</th>\n",
       "      <td>4</td>\n",
       "      <td>2015-11-23 16:34:51</td>\n",
       "      <td>MX</td>\n",
       "      <td>mccredit</td>\n",
       "      <td>547146.0</td>\n",
       "      <td>5142.72654</td>\n",
       "      <td>MXN</td>\n",
       "      <td>MX</td>\n",
       "      <td>Ecommerce</td>\n",
       "      <td>True</td>\n",
       "      <td>0</td>\n",
       "      <td>2015-07-03 07:53:37</td>\n",
       "      <td>MexicoAccount</td>\n",
       "      <td>email47409</td>\n",
       "      <td>ip113648</td>\n",
       "      <td>card181744</td>\n",
       "      <td>1</td>\n",
       "      <td>7</td>\n",
       "      <td>4</td>\n",
       "      <td>7</td>\n",
       "    </tr>\n",
       "    <tr>\n",
       "      <th>4</th>\n",
       "      <td>5</td>\n",
       "      <td>2015-11-09 14:26:08</td>\n",
       "      <td>MX</td>\n",
       "      <td>visaclassic</td>\n",
       "      <td>477291.0</td>\n",
       "      <td>4206.83454</td>\n",
       "      <td>MXN</td>\n",
       "      <td>MX</td>\n",
       "      <td>Ecommerce</td>\n",
       "      <td>True</td>\n",
       "      <td>0</td>\n",
       "      <td>2015-07-08 18:35:35</td>\n",
       "      <td>MexicoAccount</td>\n",
       "      <td>email205501</td>\n",
       "      <td>ip83553</td>\n",
       "      <td>card97271</td>\n",
       "      <td>1</td>\n",
       "      <td>18</td>\n",
       "      <td>2</td>\n",
       "      <td>7</td>\n",
       "    </tr>\n",
       "  </tbody>\n",
       "</table>\n",
       "</div>"
      ],
      "text/plain": [
       "   txid          bookingdate issuercountrycode txvariantcode       bin  \\\n",
       "0     1  2015-11-09 14:26:51                MX      mccredit  530056.0   \n",
       "1     2  2015-11-09 14:27:38                MX      mccredit  547046.0   \n",
       "2     3  2015-11-23 16:34:16                MX      mccredit  528843.0   \n",
       "3     4  2015-11-23 16:34:51                MX      mccredit  547146.0   \n",
       "4     5  2015-11-09 14:26:08                MX   visaclassic  477291.0   \n",
       "\n",
       "       amount currencycode shoppercountrycode shopperinteraction  \\\n",
       "0  3032.29008          MXN                 MX          Ecommerce   \n",
       "1  2101.07754          MXN                 MX          Ecommerce   \n",
       "2  7014.51054          MXN                 MX          Ecommerce   \n",
       "3  5142.72654          MXN                 MX          Ecommerce   \n",
       "4  4206.83454          MXN                 MX          Ecommerce   \n",
       "\n",
       "  cardverificationcodesupplied  cvcresponsecode         creationdate  \\\n",
       "0                         True                0  2015-07-01 23:03:11   \n",
       "1                         True                0  2015-07-02 04:50:55   \n",
       "2                         True                0  2015-07-02 14:30:28   \n",
       "3                         True                0  2015-07-03 07:53:37   \n",
       "4                         True                0  2015-07-08 18:35:35   \n",
       "\n",
       "     accountcode      mail_id     ip_id     card_id  label  hourtransaction  \\\n",
       "0  MexicoAccount   email68370  ip111778  card184798      1               23   \n",
       "1  MexicoAccount  email101299   ip78749  card151595      1                4   \n",
       "2  MexicoAccount  email278604   ip70594  card242142      1               14   \n",
       "3  MexicoAccount   email47409  ip113648  card181744      1                7   \n",
       "4  MexicoAccount  email205501   ip83553   card97271      1               18   \n",
       "\n",
       "   daytransaction  monthtransaction  \n",
       "0               2                 7  \n",
       "1               3                 7  \n",
       "2               3                 7  \n",
       "3               4                 7  \n",
       "4               2                 7  "
      ]
     },
     "execution_count": 10,
     "metadata": {},
     "output_type": "execute_result"
    }
   ],
   "source": [
    "# convert amounts\n",
    "conversion_rate = {\"AUD\": 0.626093,\n",
    "                    \"NZD\": 0.591501,\n",
    "                    \"SEK\": 0.0935468,\n",
    "                    \"GBP\": 1.16536,\n",
    "                    \"MXN\": 0.0467946}\n",
    "\n",
    "data_df['amount'] = data_df[['amount', 'currencycode']].apply(lambda row: row['amount']*conversion_rate[row['currencycode']], axis=1)\n",
    "\n",
    "data_df.head()"
   ]
  },
  {
   "cell_type": "code",
   "execution_count": 11,
   "metadata": {},
   "outputs": [
    {
     "data": {
      "text/html": [
       "<div>\n",
       "<style scoped>\n",
       "    .dataframe tbody tr th:only-of-type {\n",
       "        vertical-align: middle;\n",
       "    }\n",
       "\n",
       "    .dataframe tbody tr th {\n",
       "        vertical-align: top;\n",
       "    }\n",
       "\n",
       "    .dataframe thead th {\n",
       "        text-align: right;\n",
       "    }\n",
       "</style>\n",
       "<table border=\"1\" class=\"dataframe\">\n",
       "  <thead>\n",
       "    <tr style=\"text-align: right;\">\n",
       "      <th></th>\n",
       "      <th>txid</th>\n",
       "      <th>bookingdate</th>\n",
       "      <th>issuercountrycode</th>\n",
       "      <th>txvariantcode</th>\n",
       "      <th>bin</th>\n",
       "      <th>amount</th>\n",
       "      <th>currencycode</th>\n",
       "      <th>shoppercountrycode</th>\n",
       "      <th>shopperinteraction</th>\n",
       "      <th>cardverificationcodesupplied</th>\n",
       "      <th>cvcresponsecode</th>\n",
       "      <th>creationdate</th>\n",
       "      <th>accountcode</th>\n",
       "      <th>mail_id</th>\n",
       "      <th>ip_id</th>\n",
       "      <th>card_id</th>\n",
       "      <th>label</th>\n",
       "      <th>hourtransaction</th>\n",
       "      <th>daytransaction</th>\n",
       "      <th>monthtransaction</th>\n",
       "    </tr>\n",
       "  </thead>\n",
       "  <tbody>\n",
       "    <tr>\n",
       "      <th>0</th>\n",
       "      <td>1</td>\n",
       "      <td>2015-11-09 14:26:51</td>\n",
       "      <td>0</td>\n",
       "      <td>0</td>\n",
       "      <td>530056.0</td>\n",
       "      <td>3032.29008</td>\n",
       "      <td>0</td>\n",
       "      <td>0</td>\n",
       "      <td>0</td>\n",
       "      <td>True</td>\n",
       "      <td>0</td>\n",
       "      <td>2015-07-01 23:03:11</td>\n",
       "      <td>0</td>\n",
       "      <td>email68370</td>\n",
       "      <td>ip111778</td>\n",
       "      <td>card184798</td>\n",
       "      <td>1</td>\n",
       "      <td>23</td>\n",
       "      <td>2</td>\n",
       "      <td>7</td>\n",
       "    </tr>\n",
       "    <tr>\n",
       "      <th>1</th>\n",
       "      <td>2</td>\n",
       "      <td>2015-11-09 14:27:38</td>\n",
       "      <td>0</td>\n",
       "      <td>0</td>\n",
       "      <td>547046.0</td>\n",
       "      <td>2101.07754</td>\n",
       "      <td>0</td>\n",
       "      <td>0</td>\n",
       "      <td>0</td>\n",
       "      <td>True</td>\n",
       "      <td>0</td>\n",
       "      <td>2015-07-02 04:50:55</td>\n",
       "      <td>0</td>\n",
       "      <td>email101299</td>\n",
       "      <td>ip78749</td>\n",
       "      <td>card151595</td>\n",
       "      <td>1</td>\n",
       "      <td>4</td>\n",
       "      <td>3</td>\n",
       "      <td>7</td>\n",
       "    </tr>\n",
       "    <tr>\n",
       "      <th>2</th>\n",
       "      <td>3</td>\n",
       "      <td>2015-11-23 16:34:16</td>\n",
       "      <td>0</td>\n",
       "      <td>0</td>\n",
       "      <td>528843.0</td>\n",
       "      <td>7014.51054</td>\n",
       "      <td>0</td>\n",
       "      <td>0</td>\n",
       "      <td>0</td>\n",
       "      <td>True</td>\n",
       "      <td>0</td>\n",
       "      <td>2015-07-02 14:30:28</td>\n",
       "      <td>0</td>\n",
       "      <td>email278604</td>\n",
       "      <td>ip70594</td>\n",
       "      <td>card242142</td>\n",
       "      <td>1</td>\n",
       "      <td>14</td>\n",
       "      <td>3</td>\n",
       "      <td>7</td>\n",
       "    </tr>\n",
       "    <tr>\n",
       "      <th>3</th>\n",
       "      <td>4</td>\n",
       "      <td>2015-11-23 16:34:51</td>\n",
       "      <td>0</td>\n",
       "      <td>0</td>\n",
       "      <td>547146.0</td>\n",
       "      <td>5142.72654</td>\n",
       "      <td>0</td>\n",
       "      <td>0</td>\n",
       "      <td>0</td>\n",
       "      <td>True</td>\n",
       "      <td>0</td>\n",
       "      <td>2015-07-03 07:53:37</td>\n",
       "      <td>0</td>\n",
       "      <td>email47409</td>\n",
       "      <td>ip113648</td>\n",
       "      <td>card181744</td>\n",
       "      <td>1</td>\n",
       "      <td>7</td>\n",
       "      <td>4</td>\n",
       "      <td>7</td>\n",
       "    </tr>\n",
       "    <tr>\n",
       "      <th>4</th>\n",
       "      <td>5</td>\n",
       "      <td>2015-11-09 14:26:08</td>\n",
       "      <td>0</td>\n",
       "      <td>1</td>\n",
       "      <td>477291.0</td>\n",
       "      <td>4206.83454</td>\n",
       "      <td>0</td>\n",
       "      <td>0</td>\n",
       "      <td>0</td>\n",
       "      <td>True</td>\n",
       "      <td>0</td>\n",
       "      <td>2015-07-08 18:35:35</td>\n",
       "      <td>0</td>\n",
       "      <td>email205501</td>\n",
       "      <td>ip83553</td>\n",
       "      <td>card97271</td>\n",
       "      <td>1</td>\n",
       "      <td>18</td>\n",
       "      <td>2</td>\n",
       "      <td>7</td>\n",
       "    </tr>\n",
       "  </tbody>\n",
       "</table>\n",
       "</div>"
      ],
      "text/plain": [
       "   txid          bookingdate  issuercountrycode  txvariantcode       bin  \\\n",
       "0     1  2015-11-09 14:26:51                  0              0  530056.0   \n",
       "1     2  2015-11-09 14:27:38                  0              0  547046.0   \n",
       "2     3  2015-11-23 16:34:16                  0              0  528843.0   \n",
       "3     4  2015-11-23 16:34:51                  0              0  547146.0   \n",
       "4     5  2015-11-09 14:26:08                  0              1  477291.0   \n",
       "\n",
       "       amount  currencycode  shoppercountrycode  shopperinteraction  \\\n",
       "0  3032.29008             0                   0                   0   \n",
       "1  2101.07754             0                   0                   0   \n",
       "2  7014.51054             0                   0                   0   \n",
       "3  5142.72654             0                   0                   0   \n",
       "4  4206.83454             0                   0                   0   \n",
       "\n",
       "  cardverificationcodesupplied  cvcresponsecode         creationdate  \\\n",
       "0                         True                0  2015-07-01 23:03:11   \n",
       "1                         True                0  2015-07-02 04:50:55   \n",
       "2                         True                0  2015-07-02 14:30:28   \n",
       "3                         True                0  2015-07-03 07:53:37   \n",
       "4                         True                0  2015-07-08 18:35:35   \n",
       "\n",
       "   accountcode      mail_id     ip_id     card_id  label  hourtransaction  \\\n",
       "0            0   email68370  ip111778  card184798      1               23   \n",
       "1            0  email101299   ip78749  card151595      1                4   \n",
       "2            0  email278604   ip70594  card242142      1               14   \n",
       "3            0   email47409  ip113648  card181744      1                7   \n",
       "4            0  email205501   ip83553   card97271      1               18   \n",
       "\n",
       "   daytransaction  monthtransaction  \n",
       "0               2                 7  \n",
       "1               3                 7  \n",
       "2               3                 7  \n",
       "3               4                 7  \n",
       "4               2                 7  "
      ]
     },
     "execution_count": 11,
     "metadata": {},
     "output_type": "execute_result"
    }
   ],
   "source": [
    "# encode variables\n",
    "for col_name in ['issuercountrycode', 'txvariantcode', 'currencycode', 'shoppercountrycode', 'shopperinteraction', 'accountcode']:\n",
    "    unique_values = data_df[col_name].unique()\n",
    "    mapped_values = dict(zip(unique_values, range(len(unique_values))))\n",
    "    data_df[col_name] = data_df[col_name].apply(lambda old_value: mapped_values[old_value])\n",
    "\n",
    "data_df.head()"
   ]
  },
  {
   "cell_type": "code",
   "execution_count": 12,
   "metadata": {},
   "outputs": [
    {
     "data": {
      "text/html": [
       "<div>\n",
       "<style scoped>\n",
       "    .dataframe tbody tr th:only-of-type {\n",
       "        vertical-align: middle;\n",
       "    }\n",
       "\n",
       "    .dataframe tbody tr th {\n",
       "        vertical-align: top;\n",
       "    }\n",
       "\n",
       "    .dataframe thead th {\n",
       "        text-align: right;\n",
       "    }\n",
       "</style>\n",
       "<table border=\"1\" class=\"dataframe\">\n",
       "  <thead>\n",
       "    <tr style=\"text-align: right;\">\n",
       "      <th></th>\n",
       "      <th>issuercountrycode</th>\n",
       "      <th>currencycode</th>\n",
       "      <th>shoppercountrycode</th>\n",
       "      <th>accountcode</th>\n",
       "    </tr>\n",
       "  </thead>\n",
       "  <tbody>\n",
       "    <tr>\n",
       "      <th>issuercountrycode</th>\n",
       "      <td>1.000000</td>\n",
       "      <td>0.684937</td>\n",
       "      <td>0.614083</td>\n",
       "      <td>0.664023</td>\n",
       "    </tr>\n",
       "    <tr>\n",
       "      <th>currencycode</th>\n",
       "      <td>0.684937</td>\n",
       "      <td>1.000000</td>\n",
       "      <td>0.643947</td>\n",
       "      <td>0.973466</td>\n",
       "    </tr>\n",
       "    <tr>\n",
       "      <th>shoppercountrycode</th>\n",
       "      <td>0.614083</td>\n",
       "      <td>0.643947</td>\n",
       "      <td>1.000000</td>\n",
       "      <td>0.683598</td>\n",
       "    </tr>\n",
       "    <tr>\n",
       "      <th>accountcode</th>\n",
       "      <td>0.664023</td>\n",
       "      <td>0.973466</td>\n",
       "      <td>0.683598</td>\n",
       "      <td>1.000000</td>\n",
       "    </tr>\n",
       "  </tbody>\n",
       "</table>\n",
       "</div>"
      ],
      "text/plain": [
       "                    issuercountrycode  currencycode  shoppercountrycode  \\\n",
       "issuercountrycode            1.000000      0.684937            0.614083   \n",
       "currencycode                 0.684937      1.000000            0.643947   \n",
       "shoppercountrycode           0.614083      0.643947            1.000000   \n",
       "accountcode                  0.664023      0.973466            0.683598   \n",
       "\n",
       "                    accountcode  \n",
       "issuercountrycode      0.664023  \n",
       "currencycode           0.973466  \n",
       "shoppercountrycode     0.683598  \n",
       "accountcode            1.000000  "
      ]
     },
     "execution_count": 12,
     "metadata": {},
     "output_type": "execute_result"
    }
   ],
   "source": [
    "# Check correlation between 'issuercountrycode', 'currencycode', 'shoppercountrycode', 'accountcode'\n",
    "\n",
    "col_names = ['issuercountrycode', 'currencycode', 'shoppercountrycode', 'accountcode']\n",
    "temp_df = data_df[col_names]\n",
    "\n",
    "temp_df.corr()"
   ]
  },
  {
   "cell_type": "code",
   "execution_count": 13,
   "metadata": {},
   "outputs": [
    {
     "name": "stdout",
     "output_type": "stream",
     "text": [
      "(223842, 19)\n"
     ]
    }
   ],
   "source": [
    "#'currencycode' and 'accountcode' are strongly correlate: 0.973469 so we only keep one -> 'accountcode'\n",
    "\n",
    "data_df = data_df.drop(columns = ['currencycode'])\n",
    "print(data_df.shape)"
   ]
  },
  {
   "cell_type": "code",
   "execution_count": 14,
   "metadata": {},
   "outputs": [
    {
     "name": "stdout",
     "output_type": "stream",
     "text": [
      "(223842, 12)\n"
     ]
    }
   ],
   "source": [
    "# drop columns which are not used\n",
    "data_df = data_df.drop(columns=['txid', 'bookingdate', 'creationdate', 'mail_id', 'card_id', 'ip_id', 'bin'])\n",
    "print(data_df.shape)"
   ]
  },
  {
   "cell_type": "code",
   "execution_count": 15,
   "metadata": {},
   "outputs": [
    {
     "data": {
      "text/html": [
       "<div>\n",
       "<style scoped>\n",
       "    .dataframe tbody tr th:only-of-type {\n",
       "        vertical-align: middle;\n",
       "    }\n",
       "\n",
       "    .dataframe tbody tr th {\n",
       "        vertical-align: top;\n",
       "    }\n",
       "\n",
       "    .dataframe thead th {\n",
       "        text-align: right;\n",
       "    }\n",
       "</style>\n",
       "<table border=\"1\" class=\"dataframe\">\n",
       "  <thead>\n",
       "    <tr style=\"text-align: right;\">\n",
       "      <th></th>\n",
       "      <th>issuercountrycode</th>\n",
       "      <th>txvariantcode</th>\n",
       "      <th>shoppercountrycode</th>\n",
       "      <th>shopperinteraction</th>\n",
       "      <th>cardverificationcodesupplied</th>\n",
       "      <th>cvcresponsecode</th>\n",
       "      <th>accountcode</th>\n",
       "      <th>label</th>\n",
       "      <th>hourtransaction</th>\n",
       "      <th>daytransaction</th>\n",
       "      <th>monthtransaction</th>\n",
       "      <th>amount_normalized</th>\n",
       "    </tr>\n",
       "  </thead>\n",
       "  <tbody>\n",
       "    <tr>\n",
       "      <th>0</th>\n",
       "      <td>0</td>\n",
       "      <td>0</td>\n",
       "      <td>0</td>\n",
       "      <td>0</td>\n",
       "      <td>True</td>\n",
       "      <td>0</td>\n",
       "      <td>0</td>\n",
       "      <td>1</td>\n",
       "      <td>23</td>\n",
       "      <td>2</td>\n",
       "      <td>7</td>\n",
       "      <td>-0.695624</td>\n",
       "    </tr>\n",
       "    <tr>\n",
       "      <th>1</th>\n",
       "      <td>0</td>\n",
       "      <td>0</td>\n",
       "      <td>0</td>\n",
       "      <td>0</td>\n",
       "      <td>True</td>\n",
       "      <td>0</td>\n",
       "      <td>0</td>\n",
       "      <td>1</td>\n",
       "      <td>4</td>\n",
       "      <td>3</td>\n",
       "      <td>7</td>\n",
       "      <td>-0.832027</td>\n",
       "    </tr>\n",
       "    <tr>\n",
       "      <th>2</th>\n",
       "      <td>0</td>\n",
       "      <td>0</td>\n",
       "      <td>0</td>\n",
       "      <td>0</td>\n",
       "      <td>True</td>\n",
       "      <td>0</td>\n",
       "      <td>0</td>\n",
       "      <td>1</td>\n",
       "      <td>14</td>\n",
       "      <td>3</td>\n",
       "      <td>7</td>\n",
       "      <td>-0.112313</td>\n",
       "    </tr>\n",
       "    <tr>\n",
       "      <th>3</th>\n",
       "      <td>0</td>\n",
       "      <td>0</td>\n",
       "      <td>0</td>\n",
       "      <td>0</td>\n",
       "      <td>True</td>\n",
       "      <td>0</td>\n",
       "      <td>0</td>\n",
       "      <td>1</td>\n",
       "      <td>7</td>\n",
       "      <td>4</td>\n",
       "      <td>7</td>\n",
       "      <td>-0.386489</td>\n",
       "    </tr>\n",
       "    <tr>\n",
       "      <th>4</th>\n",
       "      <td>0</td>\n",
       "      <td>1</td>\n",
       "      <td>0</td>\n",
       "      <td>0</td>\n",
       "      <td>True</td>\n",
       "      <td>0</td>\n",
       "      <td>0</td>\n",
       "      <td>1</td>\n",
       "      <td>18</td>\n",
       "      <td>2</td>\n",
       "      <td>7</td>\n",
       "      <td>-0.523578</td>\n",
       "    </tr>\n",
       "  </tbody>\n",
       "</table>\n",
       "</div>"
      ],
      "text/plain": [
       "   issuercountrycode  txvariantcode  shoppercountrycode  shopperinteraction  \\\n",
       "0                  0              0                   0                   0   \n",
       "1                  0              0                   0                   0   \n",
       "2                  0              0                   0                   0   \n",
       "3                  0              0                   0                   0   \n",
       "4                  0              1                   0                   0   \n",
       "\n",
       "  cardverificationcodesupplied  cvcresponsecode  accountcode  label  \\\n",
       "0                         True                0            0      1   \n",
       "1                         True                0            0      1   \n",
       "2                         True                0            0      1   \n",
       "3                         True                0            0      1   \n",
       "4                         True                0            0      1   \n",
       "\n",
       "   hourtransaction  daytransaction  monthtransaction  amount_normalized  \n",
       "0               23               2                 7          -0.695624  \n",
       "1                4               3                 7          -0.832027  \n",
       "2               14               3                 7          -0.112313  \n",
       "3                7               4                 7          -0.386489  \n",
       "4               18               2                 7          -0.523578  "
      ]
     },
     "execution_count": 15,
     "metadata": {},
     "output_type": "execute_result"
    }
   ],
   "source": [
    "# Normalize 'amount'\n",
    "data_df['amount_normalized'] = StandardScaler().fit_transform(data_df['amount'].values.reshape(-1, 1))\n",
    "data_df = data_df.drop(columns=['amount'])\n",
    "data_df.head()"
   ]
  },
  {
   "cell_type": "code",
   "execution_count": 16,
   "metadata": {},
   "outputs": [
    {
     "data": {
      "text/plain": [
       "['issuercountrycode',\n",
       " 'txvariantcode',\n",
       " 'shoppercountrycode',\n",
       " 'shopperinteraction',\n",
       " 'cardverificationcodesupplied',\n",
       " 'cvcresponsecode',\n",
       " 'accountcode',\n",
       " 'label',\n",
       " 'hourtransaction',\n",
       " 'daytransaction',\n",
       " 'monthtransaction',\n",
       " 'amount_normalized']"
      ]
     },
     "execution_count": 16,
     "metadata": {},
     "output_type": "execute_result"
    }
   ],
   "source": [
    "# columns we remain with\n",
    "list(data_df.columns)"
   ]
  },
  {
   "cell_type": "code",
   "execution_count": 17,
   "metadata": {},
   "outputs": [],
   "source": [
    "# save the file\n",
    "data_df.to_csv(r'..\\data\\data_processed_new.csv',index=False)"
   ]
  },
  {
   "cell_type": "code",
   "execution_count": 21,
   "metadata": {},
   "outputs": [],
   "source": [
    "# we saved the processed file, so variables are not needed for the following sections.\n",
    "%reset -f"
   ]
  },
  {
   "cell_type": "markdown",
   "metadata": {},
   "source": [
    "# Imbalance task"
   ]
  },
  {
   "cell_type": "code",
   "execution_count": 1,
   "metadata": {},
   "outputs": [
    {
     "name": "stdout",
     "output_type": "stream",
     "text": [
      "Looking in indexes: https://pypi.python.org/simple/\n",
      "Requirement already satisfied: imblearn in c:\\users\\gabri\\anaconda3\\lib\\site-packages (0.0)\n",
      "Requirement already satisfied: matplotlib in c:\\users\\gabri\\anaconda3\\lib\\site-packages (3.0.3)\n",
      "Requirement already satisfied: imbalanced-learn in c:\\users\\gabri\\anaconda3\\lib\\site-packages (from imblearn) (0.4.3)\n",
      "Requirement already satisfied: numpy>=1.10.0 in c:\\users\\gabri\\anaconda3\\lib\\site-packages (from matplotlib) (1.16.2)\n",
      "Requirement already satisfied: cycler>=0.10 in c:\\users\\gabri\\anaconda3\\lib\\site-packages (from matplotlib) (0.10.0)\n",
      "Requirement already satisfied: kiwisolver>=1.0.1 in c:\\users\\gabri\\anaconda3\\lib\\site-packages (from matplotlib) (1.0.1)\n",
      "Requirement already satisfied: pyparsing!=2.0.4,!=2.1.2,!=2.1.6,>=2.0.1 in c:\\users\\gabri\\anaconda3\\lib\\site-packages (from matplotlib) (2.2.0)\n",
      "Requirement already satisfied: python-dateutil>=2.1 in c:\\users\\gabri\\anaconda3\\lib\\site-packages (from matplotlib) (2.7.3)\n",
      "Requirement already satisfied: scikit-learn>=0.20 in c:\\users\\gabri\\anaconda3\\lib\\site-packages (from imbalanced-learn->imblearn) (0.20.3)\n",
      "Requirement already satisfied: scipy>=0.13.3 in c:\\users\\gabri\\anaconda3\\lib\\site-packages (from imbalanced-learn->imblearn) (1.2.1)\n",
      "Requirement already satisfied: six in c:\\users\\gabri\\anaconda3\\lib\\site-packages (from cycler>=0.10->matplotlib) (1.12.0)\n",
      "Requirement already satisfied: setuptools in c:\\users\\gabri\\anaconda3\\lib\\site-packages (from kiwisolver>=1.0.1->matplotlib) (40.2.0)\n"
     ]
    }
   ],
   "source": [
    "import sys\n",
    "!{sys.executable} -m pip install imblearn matplotlib"
   ]
  },
  {
   "cell_type": "code",
   "execution_count": 2,
   "metadata": {},
   "outputs": [],
   "source": [
    "import pandas as pd\n",
    "from imblearn.over_sampling import SMOTE\n",
    "from sklearn import metrics\n",
    "from sklearn.metrics import roc_curve\n",
    "from sklearn.model_selection import train_test_split\n",
    "from sklearn.naive_bayes import GaussianNB\n",
    "from sklearn.linear_model import LogisticRegression\n",
    "from sklearn.neighbors import KNeighborsClassifier\n",
    "from sklearn.ensemble import RandomForestClassifier, AdaBoostClassifier\n",
    "import matplotlib.pyplot as plt\n",
    "import numpy as np"
   ]
  },
  {
   "cell_type": "code",
   "execution_count": 3,
   "metadata": {},
   "outputs": [
    {
     "data": {
      "text/html": [
       "<div>\n",
       "<style scoped>\n",
       "    .dataframe tbody tr th:only-of-type {\n",
       "        vertical-align: middle;\n",
       "    }\n",
       "\n",
       "    .dataframe tbody tr th {\n",
       "        vertical-align: top;\n",
       "    }\n",
       "\n",
       "    .dataframe thead th {\n",
       "        text-align: right;\n",
       "    }\n",
       "</style>\n",
       "<table border=\"1\" class=\"dataframe\">\n",
       "  <thead>\n",
       "    <tr style=\"text-align: right;\">\n",
       "      <th></th>\n",
       "      <th>issuercountrycode</th>\n",
       "      <th>txvariantcode</th>\n",
       "      <th>shoppercountrycode</th>\n",
       "      <th>shopperinteraction</th>\n",
       "      <th>cardverificationcodesupplied</th>\n",
       "      <th>cvcresponsecode</th>\n",
       "      <th>accountcode</th>\n",
       "      <th>label</th>\n",
       "      <th>hourtransaction</th>\n",
       "      <th>daytransaction</th>\n",
       "      <th>monthtransaction</th>\n",
       "      <th>amount_normalized</th>\n",
       "    </tr>\n",
       "  </thead>\n",
       "  <tbody>\n",
       "    <tr>\n",
       "      <th>0</th>\n",
       "      <td>0</td>\n",
       "      <td>0</td>\n",
       "      <td>0</td>\n",
       "      <td>0</td>\n",
       "      <td>True</td>\n",
       "      <td>0</td>\n",
       "      <td>0</td>\n",
       "      <td>1</td>\n",
       "      <td>23</td>\n",
       "      <td>2</td>\n",
       "      <td>7</td>\n",
       "      <td>-0.695624</td>\n",
       "    </tr>\n",
       "    <tr>\n",
       "      <th>1</th>\n",
       "      <td>0</td>\n",
       "      <td>0</td>\n",
       "      <td>0</td>\n",
       "      <td>0</td>\n",
       "      <td>True</td>\n",
       "      <td>0</td>\n",
       "      <td>0</td>\n",
       "      <td>1</td>\n",
       "      <td>4</td>\n",
       "      <td>3</td>\n",
       "      <td>7</td>\n",
       "      <td>-0.832027</td>\n",
       "    </tr>\n",
       "    <tr>\n",
       "      <th>2</th>\n",
       "      <td>0</td>\n",
       "      <td>0</td>\n",
       "      <td>0</td>\n",
       "      <td>0</td>\n",
       "      <td>True</td>\n",
       "      <td>0</td>\n",
       "      <td>0</td>\n",
       "      <td>1</td>\n",
       "      <td>14</td>\n",
       "      <td>3</td>\n",
       "      <td>7</td>\n",
       "      <td>-0.112313</td>\n",
       "    </tr>\n",
       "    <tr>\n",
       "      <th>3</th>\n",
       "      <td>0</td>\n",
       "      <td>0</td>\n",
       "      <td>0</td>\n",
       "      <td>0</td>\n",
       "      <td>True</td>\n",
       "      <td>0</td>\n",
       "      <td>0</td>\n",
       "      <td>1</td>\n",
       "      <td>7</td>\n",
       "      <td>4</td>\n",
       "      <td>7</td>\n",
       "      <td>-0.386489</td>\n",
       "    </tr>\n",
       "    <tr>\n",
       "      <th>4</th>\n",
       "      <td>0</td>\n",
       "      <td>1</td>\n",
       "      <td>0</td>\n",
       "      <td>0</td>\n",
       "      <td>True</td>\n",
       "      <td>0</td>\n",
       "      <td>0</td>\n",
       "      <td>1</td>\n",
       "      <td>18</td>\n",
       "      <td>2</td>\n",
       "      <td>7</td>\n",
       "      <td>-0.523578</td>\n",
       "    </tr>\n",
       "  </tbody>\n",
       "</table>\n",
       "</div>"
      ],
      "text/plain": [
       "   issuercountrycode  txvariantcode  shoppercountrycode  shopperinteraction  \\\n",
       "0                  0              0                   0                   0   \n",
       "1                  0              0                   0                   0   \n",
       "2                  0              0                   0                   0   \n",
       "3                  0              0                   0                   0   \n",
       "4                  0              1                   0                   0   \n",
       "\n",
       "   cardverificationcodesupplied  cvcresponsecode  accountcode  label  \\\n",
       "0                          True                0            0      1   \n",
       "1                          True                0            0      1   \n",
       "2                          True                0            0      1   \n",
       "3                          True                0            0      1   \n",
       "4                          True                0            0      1   \n",
       "\n",
       "   hourtransaction  daytransaction  monthtransaction  amount_normalized  \n",
       "0               23               2                 7          -0.695624  \n",
       "1                4               3                 7          -0.832027  \n",
       "2               14               3                 7          -0.112313  \n",
       "3                7               4                 7          -0.386489  \n",
       "4               18               2                 7          -0.523578  "
      ]
     },
     "execution_count": 3,
     "metadata": {},
     "output_type": "execute_result"
    }
   ],
   "source": [
    "DATA_PATH = r\"../data/\"\n",
    "DATA_FILE = \"data_processed_new.csv\"\n",
    "df = pd.read_csv(DATA_PATH + DATA_FILE)\n",
    "df.head()"
   ]
  },
  {
   "cell_type": "code",
   "execution_count": 4,
   "metadata": {},
   "outputs": [],
   "source": [
    "# Let's split into features and labels\n",
    "y = df['label']\n",
    "X = df.drop(columns=['label'])"
   ]
  },
  {
   "cell_type": "code",
   "execution_count": 11,
   "metadata": {},
   "outputs": [],
   "source": [
    "classifiers = [\n",
    "    (\"Ada\", AdaBoostClassifier(n_estimators=100)),\n",
    "    (\"rf\", RandomForestClassifier(n_estimators=100, n_jobs=-1)),\n",
    "    (\"lr\", LogisticRegression(solver='liblinear')),\n",
    "    (\"kNN\", KNeighborsClassifier(n_neighbors=5, n_jobs=-1)),\n",
    "    (\"NB\", GaussianNB()),\n",
    "]\n",
    "smote_values = [0, 0.015, 0.025, 0.05, 0.1, 0.15, 0.25, 0.5, 0.75, 1.0]"
   ]
  },
  {
   "cell_type": "code",
   "execution_count": 12,
   "metadata": {},
   "outputs": [],
   "source": [
    "# We first split in train and test set. The test set will be only used for plotting the curves.\n",
    "X_train_val, X_test, y_train_val, y_test = train_test_split(X, y, test_size=0.3, stratify=y)\n",
    "\n",
    "# We then split the train set into train and validation. Validation will be used to select the best smote value.\n",
    "X_train, X_val, y_train, y_val = train_test_split(X_train_val, y_train_val, test_size=0.2, stratify=y_train_val)"
   ]
  },
  {
   "cell_type": "markdown",
   "metadata": {},
   "source": [
    "Let's now compute, for each of the chosen classifiers, different metrics for different percentages of SMOTE.    \n",
    "We choose F0.5 as the metric to decide the best value of SMOTE. NOTE: each classifier can have a different SMOTE best parameter!"
   ]
  },
  {
   "cell_type": "code",
   "execution_count": 13,
   "metadata": {},
   "outputs": [
    {
     "name": "stdout",
     "output_type": "stream",
     "text": [
      "\n",
      "\n",
      "Using 'Ada'\n"
     ]
    },
    {
     "data": {
      "image/png": "[encoded data removed]",
      "text/plain": [
       "<Figure size 432x288 with 4 Axes>"
      ]
     },
     "metadata": {
      "needs_background": "light"
     },
     "output_type": "display_data"
    },
    {
     "name": "stdout",
     "output_type": "stream",
     "text": [
      "Max 'Precision' --> 0.5 (SMOTE perc: 0)\n",
      "Max 'Recall' --> 0.5833333333333334 (SMOTE perc: 1.0)\n",
      "Max 'F1' --> 0.07751937984496124 (SMOTE perc: 0.15)\n",
      "Max 'F0.5' --> 0.15625 (SMOTE perc: 0)\n",
      "\n",
      "\n",
      "Using 'rf'\n"
     ]
    },
    {
     "data": {
      "image/png": "[encoded data removed]",
      "text/plain": [
       "<Figure size 432x288 with 4 Axes>"
      ]
     },
     "metadata": {
      "needs_background": "light"
     },
     "output_type": "display_data"
    },
    {
     "name": "stdout",
     "output_type": "stream",
     "text": [
      "Max 'Precision' --> 0.4 (SMOTE perc: 0)\n",
      "Max 'Recall' --> 0.08333333333333333 (SMOTE perc: 0.1)\n",
      "Max 'F1' --> 0.1111111111111111 (SMOTE perc: 0.1)\n",
      "Max 'F0.5' --> 0.16304347826086957 (SMOTE perc: 0.015)\n",
      "\n",
      "\n",
      "Using 'lr'\n"
     ]
    },
    {
     "name": "stderr",
     "output_type": "stream",
     "text": [
      "C:\\Users\\gabri\\Anaconda3\\lib\\site-packages\\sklearn\\metrics\\classification.py:1143: UndefinedMetricWarning: Precision is ill-defined and being set to 0.0 due to no predicted samples.\n",
      "  'precision', 'predicted', average, warn_for)\n",
      "C:\\Users\\gabri\\Anaconda3\\lib\\site-packages\\sklearn\\metrics\\classification.py:1143: UndefinedMetricWarning: F-score is ill-defined and being set to 0.0 due to no predicted samples.\n",
      "  'precision', 'predicted', average, warn_for)\n"
     ]
    },
    {
     "data": {
      "image/png": "[encoded data removed]",
      "text/plain": [
       "<Figure size 432x288 with 4 Axes>"
      ]
     },
     "metadata": {
      "needs_background": "light"
     },
     "output_type": "display_data"
    },
    {
     "name": "stdout",
     "output_type": "stream",
     "text": [
      "Max 'Precision' --> 0.03571428571428571 (SMOTE perc: 0.05)\n",
      "Max 'Recall' --> 0.875 (SMOTE perc: 1.0)\n",
      "Max 'F1' --> 0.05319148936170212 (SMOTE perc: 0.05)\n",
      "Max 'F0.5' --> 0.041118421052631575 (SMOTE perc: 0.05)\n",
      "\n",
      "\n",
      "Using 'kNN'\n"
     ]
    },
    {
     "data": {
      "image/png": "[encoded data removed]",
      "text/plain": [
       "<Figure size 432x288 with 4 Axes>"
      ]
     },
     "metadata": {
      "needs_background": "light"
     },
     "output_type": "display_data"
    },
    {
     "name": "stdout",
     "output_type": "stream",
     "text": [
      "Max 'Precision' --> 0.03587443946188341 (SMOTE perc: 0.025)\n",
      "Max 'Recall' --> 0.25 (SMOTE perc: 0.1)\n",
      "Max 'F1' --> 0.05904059040590406 (SMOTE perc: 0.025)\n",
      "Max 'F0.5' --> 0.0425531914893617 (SMOTE perc: 0.025)\n",
      "\n",
      "\n",
      "Using 'NB'\n"
     ]
    },
    {
     "data": {
      "image/png": "[encoded data removed]",
      "text/plain": [
       "<Figure size 432x288 with 4 Axes>"
      ]
     },
     "metadata": {
      "needs_background": "light"
     },
     "output_type": "display_data"
    },
    {
     "name": "stdout",
     "output_type": "stream",
     "text": [
      "Max 'Precision' --> 0.01171875 (SMOTE perc: 0.05)\n",
      "Max 'Recall' --> 0.875 (SMOTE perc: 0.75)\n",
      "Max 'F1' --> 0.023076923076923078 (SMOTE perc: 0.05)\n",
      "Max 'F0.5' --> 0.014591439688715954 (SMOTE perc: 0.05)\n",
      "[0, 0.015, 0.05, 0.025, 0.05]\n"
     ]
    }
   ],
   "source": [
    "best_smotes = []\n",
    "for clsf_name, clsf in classifiers:\n",
    "    print(f\"\\n\\nUsing '{clsf_name}'\")\n",
    "    acc = []\n",
    "    recall = []\n",
    "    precision = []\n",
    "    f05_score = []\n",
    "    f1_score = []\n",
    "    roc_auc = []\n",
    "    conf_mat = []\n",
    "    for smote_perc in smote_values:\n",
    "        #print(f'--- SMOTE PERCENTAGE: {smote_perc} ---')\n",
    "        #print(f\"Before SMOTE on train: {Counter(y_train)}\")\n",
    "        #print(f\"Before SMOTE on validation: {Counter(y_val)}\")\n",
    "\n",
    "        smt = SMOTE(sampling_strategy=smote_perc) if smote_perc else None\n",
    "        X_smote, y_smote = smt.fit_sample(X_train, y_train) if smote_perc else (X_train, y_train)\n",
    "\n",
    "        #print(f\"After SMOTE on train: {Counter(y_smote)}\")\n",
    "        #print(f\"After SMOTE on validation: {Counter(y_val)}\")\n",
    "\n",
    "        clsf.fit(X_smote, y_smote)\n",
    "        y_pred = clsf.predict(X_val)\n",
    "\n",
    "        acc.append(metrics.accuracy_score(y_val, y_pred))\n",
    "        recall.append(metrics.recall_score(y_val, y_pred))\n",
    "        precision.append(metrics.precision_score(y_val, y_pred))\n",
    "        f05_score.append(metrics.fbeta_score(y_val, y_pred, beta=0.5))\n",
    "        f1_score.append(metrics.f1_score(y_val, y_pred))\n",
    "        roc_auc.append(metrics.roc_auc_score(y_val, y_pred))\n",
    "        conf_mat.append(metrics.confusion_matrix(y_val, y_pred))\n",
    "\n",
    "    fig = plt.figure()\n",
    "    fig.suptitle(f\" Scores for {clsf_name}\", y=1)\n",
    "\n",
    "    plt.subplot(2, 2, 1)\n",
    "    plt.plot(smote_values, precision, color='green', label='precision')\n",
    "    plt.xlabel(\"Smote percentage\")\n",
    "    plt.ylabel(\"Precision\")\n",
    "\n",
    "    plt.subplot(2, 2, 2)\n",
    "    plt.plot(smote_values, recall, color='black', label='recall')\n",
    "    plt.xlabel(\"Smote percentage\")\n",
    "    plt.ylabel(\"Recall\")\n",
    "\n",
    "    plt.subplot(2, 2, 3)\n",
    "    plt.plot(smote_values, f1_score, color='blue', label='F1')\n",
    "    plt.xlabel(\"Smote percentage\")\n",
    "    plt.ylabel(\"F1\")\n",
    "\n",
    "\n",
    "    plt.subplot(2, 2, 4)\n",
    "    plt.plot(smote_values, f05_score, color='red', label='F0.5')\n",
    "    plt.xlabel(\"Smote percentage\")\n",
    "    plt.ylabel(\"F0.5\")\n",
    "\n",
    "    plt.show()\n",
    "\n",
    "    for metric_name, mets in zip([\"Precision\", \"Recall\", \"F1\", \"F0.5\", ], [precision, recall, f1_score, f05_score]):\n",
    "        max_ind = np.argmax(mets)\n",
    "        print(f\"Max '{metric_name}' --> {mets[max_ind]} (SMOTE perc: {smote_values[max_ind]})\")\n",
    "        #print(conf_mat[max_ind])\n",
    "\n",
    "        if metric_name == \"F0.5\":\n",
    "            best_smotes.append(smote_values[max_ind])\n",
    "            \n",
    "print(list(best_smotes))"
   ]
  },
  {
   "cell_type": "markdown",
   "metadata": {},
   "source": [
    "We now retrain the models on train + validation set, and plot the curves using the test set"
   ]
  },
  {
   "cell_type": "code",
   "execution_count": 27,
   "metadata": {
    "scrolled": true
   },
   "outputs": [
    {
     "ename": "NameError",
     "evalue": "name 'classifiers' is not defined",
     "output_type": "error",
     "traceback": [
      "\u001b[1;31m---------------------------------------------------------------------------\u001b[0m",
      "\u001b[1;31mNameError\u001b[0m                                 Traceback (most recent call last)",
      "\u001b[1;32m<ipython-input-27-fc9ccf01390c>\u001b[0m in \u001b[0;36m<module>\u001b[1;34m()\u001b[0m\n\u001b[1;32m----> 1\u001b[1;33m \u001b[1;32mfor\u001b[0m \u001b[1;33m(\u001b[0m\u001b[0mclsf_name\u001b[0m\u001b[1;33m,\u001b[0m \u001b[0mclsf\u001b[0m\u001b[1;33m)\u001b[0m\u001b[1;33m,\u001b[0m \u001b[0mbest_smote\u001b[0m \u001b[1;32min\u001b[0m \u001b[0mzip\u001b[0m\u001b[1;33m(\u001b[0m\u001b[0mclassifiers\u001b[0m\u001b[1;33m,\u001b[0m \u001b[0mbest_smotes\u001b[0m\u001b[1;33m)\u001b[0m\u001b[1;33m:\u001b[0m\u001b[1;33m\u001b[0m\u001b[0m\n\u001b[0m\u001b[0;32m      2\u001b[0m     \u001b[0mprint\u001b[0m\u001b[1;33m(\u001b[0m\u001b[1;34mf\"{clsf_name} --> {best_smote}\"\u001b[0m\u001b[1;33m)\u001b[0m\u001b[1;33m\u001b[0m\u001b[0m\n\u001b[0;32m      3\u001b[0m \u001b[1;33m\u001b[0m\u001b[0m\n\u001b[0;32m      4\u001b[0m     \u001b[0mfpr_smoted\u001b[0m \u001b[1;33m=\u001b[0m \u001b[1;33m[\u001b[0m\u001b[1;33m]\u001b[0m\u001b[1;33m\u001b[0m\u001b[0m\n\u001b[0;32m      5\u001b[0m     \u001b[0mtpr_smoted\u001b[0m \u001b[1;33m=\u001b[0m \u001b[1;33m[\u001b[0m\u001b[1;33m]\u001b[0m\u001b[1;33m\u001b[0m\u001b[0m\n",
      "\u001b[1;31mNameError\u001b[0m: name 'classifiers' is not defined"
     ]
    }
   ],
   "source": [
    "for (clsf_name, clsf), best_smote in zip(classifiers, best_smotes):\n",
    "    print(f\"{clsf_name} --> {best_smote}\")\n",
    "\n",
    "    fpr_smoted = []\n",
    "    tpr_smoted = []\n",
    "    if best_smote:\n",
    "        smt = SMOTE(sampling_strategy=best_smote)\n",
    "        X_smote, y_smote = smt.fit_sample(X_train_val, y_train_val)\n",
    "        clsf.fit(X_smote, y_smote)\n",
    "        y_pred = clsf.predict(X_test)\n",
    "\n",
    "        probs_smoted = clsf.predict_proba(X_test)\n",
    "        probs_smoted = probs_smoted[:, 1]\n",
    "        fpr_smoted, tpr_smoted, _ = roc_curve(y_test, probs_smoted)\n",
    "        plt.plot(fpr_smoted, tpr_smoted, color='red', label=f'best SMOTEd ({best_smote})')\n",
    "\n",
    "    clsf.fit(X_train_val, y_train_val)\n",
    "    y_pred = clsf.predict(X_test)\n",
    "    probs_smoted = clsf.predict_proba(X_test)\n",
    "    probs_smoted = probs_smoted[:, 1]\n",
    "    fpr_unsmoted, tpr_unsmoted, _ = roc_curve(y_test, probs_smoted)\n",
    "    plt.plot(fpr_unsmoted, tpr_unsmoted, color='blue', label='UNSMOTEd' if best_smote else 'UNSMOTEd (best)')\n",
    "\n",
    "    smt = SMOTE(sampling_strategy=1.0)\n",
    "    X_full_smote, y_full_smote = smt.fit_sample(X_train_val, y_train_val)\n",
    "    clsf.fit(X_full_smote, y_full_smote)\n",
    "    y_pred = clsf.predict(X_test)\n",
    "\n",
    "    probs_smoted = clsf.predict_proba(X_test)\n",
    "    probs_smoted = probs_smoted[:, 1]\n",
    "    fpr_smoted, tpr_smoted, _ = roc_curve(y_test, probs_smoted)\n",
    "    plt.plot(fpr_smoted, tpr_smoted, color='orange', label=\"SMOTE (1.0)\")\n",
    "        \n",
    "    plt.plot([0, 1], [0, 1], color='darkblue', linestyle='--')\n",
    "    plt.xlabel('False Positive Rate')\n",
    "    plt.ylabel('True Positive Rate')\n",
    "    plt.title(f'ROC Curves - {clsf_name} (best SMOTE: {best_smote})')\n",
    "    plt.legend()\n",
    "    plt.show()\n"
   ]
  },
  {
   "cell_type": "markdown",
   "metadata": {},
   "source": [
    "## Classification (Part 3)"
   ]
  },
  {
   "cell_type": "code",
   "execution_count": null,
   "metadata": {},
   "outputs": [],
   "source": [
    "# we reload the data, so variables are not needed\n",
    "%reset -f"
   ]
  },
  {
   "cell_type": "markdown",
   "metadata": {},
   "source": [
    "#### White box model"
   ]
  },
  {
   "cell_type": "markdown",
   "metadata": {},
   "source": [
    "#### Black box model"
   ]
  },
  {
   "cell_type": "code",
   "execution_count": 1,
   "metadata": {},
   "outputs": [
    {
     "name": "stdout",
     "output_type": "stream",
     "text": [
      "Looking in indexes: https://pypi.python.org/simple/\n",
      "Requirement already satisfied: mlxtend in c:\\users\\gabri\\anaconda3\\lib\\site-packages (0.15.0.0)\n",
      "Requirement already satisfied: scipy>=0.17 in c:\\users\\gabri\\anaconda3\\lib\\site-packages (from mlxtend) (1.2.1)\n",
      "Requirement already satisfied: numpy>=1.10.4 in c:\\users\\gabri\\anaconda3\\lib\\site-packages (from mlxtend) (1.16.2)\n",
      "Requirement already satisfied: matplotlib>=1.5.1 in c:\\users\\gabri\\anaconda3\\lib\\site-packages (from mlxtend) (3.0.3)\n",
      "Requirement already satisfied: scikit-learn>=0.18 in c:\\users\\gabri\\anaconda3\\lib\\site-packages (from mlxtend) (0.20.3)\n",
      "Requirement already satisfied: pandas>=0.17.1 in c:\\users\\gabri\\anaconda3\\lib\\site-packages (from mlxtend) (0.24.2)\n",
      "Requirement already satisfied: setuptools in c:\\users\\gabri\\anaconda3\\lib\\site-packages (from mlxtend) (40.2.0)\n",
      "Requirement already satisfied: cycler>=0.10 in c:\\users\\gabri\\anaconda3\\lib\\site-packages (from matplotlib>=1.5.1->mlxtend) (0.10.0)\n",
      "Requirement already satisfied: kiwisolver>=1.0.1 in c:\\users\\gabri\\anaconda3\\lib\\site-packages (from matplotlib>=1.5.1->mlxtend) (1.0.1)\n",
      "Requirement already satisfied: pyparsing!=2.0.4,!=2.1.2,!=2.1.6,>=2.0.1 in c:\\users\\gabri\\anaconda3\\lib\\site-packages (from matplotlib>=1.5.1->mlxtend) (2.2.0)\n",
      "Requirement already satisfied: python-dateutil>=2.1 in c:\\users\\gabri\\anaconda3\\lib\\site-packages (from matplotlib>=1.5.1->mlxtend) (2.7.3)\n",
      "Requirement already satisfied: pytz>=2011k in c:\\users\\gabri\\anaconda3\\lib\\site-packages (from pandas>=0.17.1->mlxtend) (2018.5)\n",
      "Requirement already satisfied: six in c:\\users\\gabri\\anaconda3\\lib\\site-packages (from cycler>=0.10->matplotlib>=1.5.1->mlxtend) (1.12.0)\n"
     ]
    }
   ],
   "source": [
    "%reset -f\n",
    "import sys\n",
    "!{sys.executable} -m pip install mlxtend"
   ]
  },
  {
   "cell_type": "code",
   "execution_count": 1,
   "metadata": {},
   "outputs": [],
   "source": [
    "import numpy as np\n",
    "import pandas as pd\n",
    "from imblearn.over_sampling import SMOTE\n",
    "from mlxtend.classifier import EnsembleVoteClassifier\n",
    "from sklearn import metrics\n",
    "from sklearn.ensemble import AdaBoostClassifier\n",
    "from sklearn.ensemble import RandomForestClassifier\n",
    "from sklearn.linear_model import LogisticRegression\n",
    "from sklearn.model_selection import StratifiedKFold\n",
    "from sklearn.naive_bayes import GaussianNB\n",
    "from sklearn.neighbors import KNeighborsClassifier\n",
    "from sklearn.tree import DecisionTreeClassifier\n",
    "import math"
   ]
  },
  {
   "cell_type": "code",
   "execution_count": 2,
   "metadata": {},
   "outputs": [],
   "source": [
    "DATA_PATH = r\"../data/\"\n",
    "DATA_FILE = \"data_processed_new.csv\"\n",
    "df = pd.read_csv(DATA_PATH + DATA_FILE)\n",
    "\n",
    "y = df['label']\n",
    "X = df.drop(columns=['label'])"
   ]
  },
  {
   "cell_type": "markdown",
   "metadata": {},
   "source": [
    "Let's define some useful classifiers, together with their SMOTE parameter and weight for the final ensembling.   \n",
    "NOTE: these parameters (which are however similar to the ones found in the 'imbalance task' section) have been chosen to try and meet the requirements given in the assignment paper. Also, running again the 'imbalance task' procedure would yield slightly different parameters each time, which are therefore not too significant."
   ]
  },
  {
   "cell_type": "code",
   "execution_count": null,
   "metadata": {},
   "outputs": [],
   "source": [
    "# name, classifier, smote, weight (for ensembling)\n",
    "k_nn = 5\n",
    "models = [\n",
    "    (\"Ada\", AdaBoostClassifier(DecisionTreeClassifier(max_depth=1), algorithm=\"SAMME\", n_estimators=200), 0.025, 1),\n",
    "    (\"rf\", RandomForestClassifier(n_estimators=200, n_jobs=-1), 0.015, 1),\n",
    "    (\"lr\", LogisticRegression(solver='liblinear'), 0.2, 1),\n",
    "    (f\"kNN_{k_nn}\", KNeighborsClassifier(n_neighbors=k_nn, n_jobs=-1), 0.05, 1),\n",
    "    (\"NB\", GaussianNB(), 0.015, 1),\n",
    "]"
   ]
  },
  {
   "cell_type": "markdown",
   "metadata": {},
   "source": [
    "First of all, we test each single classifier to serve as baseline. After that, we'll try to combine them to see whether or not we achieve a better performance."
   ]
  },
  {
   "cell_type": "code",
   "execution_count": null,
   "metadata": {
    "scrolled": true
   },
   "outputs": [
    {
     "name": "stdout",
     "output_type": "stream",
     "text": [
      "\n",
      "Training Ada, smote_ratio: 0.025\n",
      "Fold 1\n",
      "Fold 2\n",
      "Fold 3\n",
      "Fold 4\n",
      "Fold 5\n",
      "Fold 6\n",
      "Fold 7\n",
      "Fold 8\n",
      "Fold 9\n",
      "Fold 10\n",
      "[[223264    233]\n",
      " [   338      7]]\n",
      "Precision: 0.029166666666666667\n",
      "Recall: 0.020289855072463767\n",
      "F0.5: 0.026819923371647507\n",
      "\n",
      "Training rf, smote_ratio: 0.015\n",
      "Fold 1\n",
      "Fold 2\n",
      "Fold 3\n",
      "Fold 4\n",
      "Fold 5\n",
      "Fold 6\n",
      "Fold 7\n",
      "Fold 8\n",
      "Fold 9\n",
      "Fold 10\n",
      "[[223417     80]\n",
      " [   318     27]]\n",
      "Precision: 0.2523364485981308\n",
      "Recall: 0.0782608695652174\n",
      "F0.5: 0.17464424320827943\n",
      "\n",
      "Training lr, smote_ratio: 0.15\n",
      "Fold 1\n",
      "Fold 2\n",
      "Fold 3\n",
      "Fold 4\n",
      "Fold 5\n",
      "Fold 6\n",
      "Fold 7\n",
      "Fold 8\n",
      "Fold 9\n",
      "Fold 10\n",
      "[[215495   8002]\n",
      " [   150    195]]\n",
      "Precision: 0.023789191167500306\n",
      "Recall: 0.5652173913043478\n",
      "F0.5: 0.029426855400959767\n",
      "\n",
      "Training kNN_5, smote_ratio: 0.025\n",
      "Fold 1\n",
      "Fold 2\n",
      "Fold 3\n",
      "Fold 4\n",
      "Fold 5\n"
     ]
    }
   ],
   "source": [
    "for model_name, clsf, smote_ratio, _ in models:\n",
    "    print(f\"\\nTraining {model_name}, smote_ratio: {smote_ratio}\")\n",
    "\n",
    "    conf_mat = np.array([[0, 0], [0, 0]])\n",
    "\n",
    "    skf = StratifiedKFold(n_splits=10, shuffle=True)\n",
    "    for idx, (train_index, test_index) in enumerate(skf.split(X, y)):\n",
    "        print(f\"Fold {idx + 1}\")\n",
    "\n",
    "        X_train, X_test = X.loc[train_index], X.loc[test_index]\n",
    "        y_train, y_test = y[train_index], y[test_index]\n",
    "\n",
    "        smote = SMOTE(sampling_strategy=smote_ratio) if smote_ratio else None\n",
    "        X_train_smote, y_train_smote = smote.fit_resample(X_train, y_train) if smote_ratio else (X_train, y_train)\n",
    "\n",
    "        trained = clsf.fit(X_train_smote, y_train_smote)\n",
    "\n",
    "        y_pred = trained.predict(X_test)\n",
    "        conf_mat += metrics.confusion_matrix(y_test, y_pred)\n",
    "\n",
    "    tn, fp, fn, tp = conf_mat.ravel()\n",
    "    print(conf_mat)\n",
    "    precision = tp / (tp + fp)\n",
    "    recall = tp / (tp + fn)\n",
    "    print(f\"Precision: {precision}\")\n",
    "    print(f\"Recall: {recall}\")\n",
    "    print(f\"F0.5: {( (1+math.pow(0.5,2))*precision*recall )/( math.pow(0.5,2) * precision + recall )}\")"
   ]
  },
  {
   "cell_type": "markdown",
   "metadata": {},
   "source": [
    "After this, we combine the classifiers. We perform both hard ensembling as well as soft ensembling.    \n",
    "NOTE: we sum the confusion matrices after each iteration."
   ]
  },
  {
   "cell_type": "code",
   "execution_count": null,
   "metadata": {
    "scrolled": true
   },
   "outputs": [],
   "source": [
    "skf = StratifiedKFold(n_splits=10, shuffle=True)\n",
    "conf_matrices = {}\n",
    "\n",
    "print(\"Start crossvalidation! Cross your fingers...\")\n",
    "for idx, (train_index, test_index) in enumerate(skf.split(X, y)):\n",
    "    print(f\"\\nFold {idx+1}\")\n",
    "    X_train, X_test = X.loc[train_index], X.loc[test_index]\n",
    "    y_train, y_test = y[train_index], y[test_index]\n",
    "\n",
    "    trained_clsfs = []\n",
    "    print(\"Training single classifiers...\")\n",
    "    for model_name, clsf, smote_ratio, weight in models:\n",
    "        print(f\"Training {model_name}, smote: {smote_ratio}\")\n",
    "        smote = SMOTE(sampling_strategy=smote_ratio) if smote_ratio else None\n",
    "        X_train_smote, y_train_smote = smote.fit_resample(X_train, y_train) if smote_ratio else (X_train, y_train)\n",
    "        trained = clsf.fit(X_train_smote, y_train_smote)\n",
    "        trained_clsfs.append((trained, weight))\n",
    "\n",
    "    ens_hard_no_refit = EnsembleVoteClassifier(clfs=[clsf for clsf, _ in trained_clsfs], weights=[weight for _, weight in trained_clsfs],\n",
    "                                                refit=False, voting=\"hard\")\n",
    "    ens_soft_no_refit = EnsembleVoteClassifier(clfs=[clsf for clsf, _ in trained_clsfs], weights=[weight for _, weight in trained_clsfs],\n",
    "                                                refit=False, voting=\"soft\")\n",
    "\n",
    "    for ensemble, name in zip([ens_hard_no_refit, ens_soft_no_refit],\n",
    "                              [\"Hard\", \"Soft\"]):\n",
    "        print(f\"Training {name} ensemble\")\n",
    "        fitted = ensemble.fit(X_train, y_train)\n",
    "        y_pred = fitted.predict(X_test)\n",
    "        conf_mat = metrics.confusion_matrix(y_test, y_pred)\n",
    "        conf_matrices[name] = conf_matrices.get(name, np.array([[0, 0], [0, 0]])) + conf_mat\n",
    "        print(conf_matrices[name])\n",
    "\n",
    "print(\"\\n\\nCrossvalidation finished. Displaying results...\")\n",
    "for name in conf_matrices.keys():\n",
    "    print(name)\n",
    "    conf_mat = conf_matrices[name]\n",
    "    tn, fp, fn, tp = conf_mat.ravel()\n",
    "    print(conf_mat)\n",
    "    precision = tp / (tp + fp)\n",
    "    recall = tp / (tp + fn)\n",
    "    print(f\"Precision: {precision}\")\n",
    "    print(f\"Recall: {recall}\")\n",
    "    print(f\"F0.5: {( (1+math.pow(0.5,2))*precision*recall )/( math.pow(0.5,2) * precision + recall )}\")"
   ]
  },
  {
   "cell_type": "code",
   "execution_count": null,
   "metadata": {},
   "outputs": [],
   "source": []
  },
  {
   "cell_type": "markdown",
   "metadata": {},
   "source": [
    "## Bonus point"
   ]
  },
  {
   "cell_type": "code",
   "execution_count": 10,
   "metadata": {},
   "outputs": [],
   "source": [
    "# insert code here"
   ]
  }
 ],
 "metadata": {
  "kernelspec": {
   "display_name": "Python 3",
   "language": "python",
   "name": "python3"
  },
  "language_info": {
   "codemirror_mode": {
    "name": "ipython",
    "version": 3
   },
   "file_extension": ".py",
   "mimetype": "text/x-python",
   "name": "python",
   "nbconvert_exporter": "python",
   "pygments_lexer": "ipython3",
   "version": "3.7.0"
  }
 },
 "nbformat": 4,
 "nbformat_minor": 2
}
