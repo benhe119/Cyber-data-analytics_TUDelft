{
 "cells": [
  {
   "cell_type": "code",
   "execution_count": 1,
   "metadata": {},
   "outputs": [],
   "source": [
    "import pandas as pd\n",
    "import matplotlib.pyplot as plt\n",
    "import seaborn as sns\n"
   ]
  },
  {
   "cell_type": "markdown",
   "metadata": {},
   "source": [
    "Let's define a nice way of plotting the correlation matrix using seaborn"
   ]
  },
  {
   "cell_type": "code",
   "execution_count": 2,
   "metadata": {},
   "outputs": [],
   "source": [
    "def plot_corr_sns(df, file_name):\n",
    "    sns.set()\n",
    "    corr = df.corr()\n",
    "    fig, ax = plt.subplots(figsize=(10, 10))\n",
    "    ax = sns.heatmap(\n",
    "            corr, \n",
    "            cmap=sns.diverging_palette(20, 220, n=200),\n",
    "            square=True,\n",
    "    )\n",
    "    ax.set_xticklabels(\n",
    "        ax.get_xticklabels(),\n",
    "        rotation=90,\n",
    "        fontsize=10\n",
    "    )\n",
    "    ax.set_yticklabels(\n",
    "        ax.get_yticklabels(),\n",
    "        fontsize=10\n",
    "    )\n",
    "    plt.savefig(r\"../images/correlation_matrix_{}.pdf\".format(file_name))\n",
    "    plt.show()"
   ]
  },
  {
   "cell_type": "code",
   "execution_count": 13,
   "metadata": {},
   "outputs": [],
   "source": [
    "file_name = 'trn_data_2'\n",
    "DATA_PATH = r\"C:../data/{}.csv\".format(file_name)\n",
    "data = pd.read_csv(DATA_PATH)"
   ]
  },
  {
   "cell_type": "code",
   "execution_count": 11,
   "metadata": {},
   "outputs": [],
   "source": [
    "# apparently, the training data 2 has a white space in front of each column name. Let's fix it.\n",
    "if file_name == 'trn_data_2':\n",
    "    data.columns = [column.strip() for column in data.columns]\n",
    "    data.to_csv(DATA_PATH, index=False)\n",
    "\n",
    "discrete_variables = [f'S_PU{num+1}' for num in range(11)] + ['S_V2'] "
   ]
  },
  {
   "cell_type": "code",
   "execution_count": null,
   "metadata": {},
   "outputs": [],
   "source": [
    "\n",
    "\n",
    "data_no_discr = data.drop(columns=())\n",
    "plot_corr_sns(data_no_discr, file_name)"
   ]
  }
 ],
 "metadata": {
  "kernelspec": {
   "display_name": "Python 3",
   "language": "python",
   "name": "python3"
  },
  "language_info": {
   "codemirror_mode": {
    "name": "ipython",
    "version": 3
   },
   "file_extension": ".py",
   "mimetype": "text/x-python",
   "name": "python",
   "nbconvert_exporter": "python",
   "pygments_lexer": "ipython3",
   "version": "3.7.0"
  }
 },
 "nbformat": 4,
 "nbformat_minor": 2
}
