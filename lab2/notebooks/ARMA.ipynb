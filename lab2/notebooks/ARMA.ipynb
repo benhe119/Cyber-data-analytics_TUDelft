{
 "cells": [
  {
   "cell_type": "code",
   "execution_count": 36,
   "metadata": {},
   "outputs": [],
   "source": [
    "from pandas import Series\n",
    "from statsmodels.graphics.tsaplots import plot_acf\n",
    "from statsmodels.graphics.tsaplots import plot_pacf\n",
    "import matplotlib.pyplot as plt\n",
    "import pandas as pd\n",
    "from pandas import Series\n",
    "from statsmodels.tsa.stattools import adfuller"
   ]
  },
  {
   "cell_type": "markdown",
   "metadata": {},
   "source": [
    "First, we need to choose the signal we want to process and make it stationary using the differences between consecutive observations."
   ]
  },
  {
   "cell_type": "code",
   "execution_count": 37,
   "metadata": {},
   "outputs": [],
   "source": [
    "def difference(dataset):\n",
    "    diff = list()\n",
    "    for i in range(1, len(dataset)):\n",
    "        value = dataset[i] - dataset[i - 1]\n",
    "        diff.append(value)\n",
    "    return Series(diff)"
   ]
  },
  {
   "cell_type": "code",
   "execution_count": 38,
   "metadata": {},
   "outputs": [
    {
     "name": "stdout",
     "output_type": "stream",
     "text": [
      "ADF Statistic: -26.464082\n",
      "p-value: 0.000000\n",
      "Critical Values:\n",
      "\t1%: -3.431\n",
      "\t5%: -2.862\n",
      "\t10%: -2.567\n"
     ]
    }
   ],
   "source": [
    "data_train1 = pd.read_csv('.//data//trn_set_1.csv', parse_dates=['DATETIME'], index_col = ['DATETIME'], dayfirst=True)\n",
    "series = pd.Series(data_train1['L_T7'])\n",
    "X = series.values\n",
    "                         \n",
    "# difference data\n",
    "stationary = difference(X)\n",
    "stationary.index = series.index[1:]\n",
    "                         \n",
    "# check if stationary\n",
    "result = adfuller(stationary)\n",
    "print('ADF Statistic: %f' % result[0])\n",
    "print('p-value: %f' % result[1])\n",
    "print('Critical Values:')\n",
    "for key, value in result[4].items():\n",
    "    print('\\t%s: %.3f' % (key, value))\n",
    "                         \n",
    "# save\n",
    "stationary.to_csv('.//data//stationary.csv')"
   ]
  },
  {
   "cell_type": "markdown",
   "metadata": {},
   "source": [
    "Now we use the previously made stationary signal to plot the ACF and Pacf"
   ]
  },
  {
   "cell_type": "code",
   "execution_count": 39,
   "metadata": {},
   "outputs": [],
   "source": [
    "series = Series.from_csv('.//data//stationary.csv')\n",
    "#series_5days = series[0:120] #5 days"
   ]
  },
  {
   "cell_type": "code",
   "execution_count": null,
   "metadata": {},
   "outputs": [],
   "source": [
    "#plt.figure()\n",
    "#plt.subplot(211)\n",
    "#plot_acf(series_5days, ax=plt.gca())\n",
    "#plt.subplot(212)\n",
    "#plot_pacf(series_5days, ax=plt.gca())\n",
    "#plt.show()"
   ]
  },
  {
   "cell_type": "code",
   "execution_count": 40,
   "metadata": {
    "scrolled": false
   },
   "outputs": [
    {
     "data": {
      "image/png": "[encoded data removed]",
      "text/plain": [
       "<Figure size 864x576 with 2 Axes>"
      ]
     },
     "metadata": {
      "needs_background": "light"
     },
     "output_type": "display_data"
    }
   ],
   "source": [
    "import statsmodels.api as sm\n",
    "\n",
    "fig = plt.figure(figsize=(12,8))\n",
    "ax1 = fig.add_subplot(211)\n",
    "fig = sm.graphics.tsa.plot_acf(series.values.squeeze(), lags=100, ax=ax1)\n",
    "ax2 = fig.add_subplot(212)\n",
    "fig = sm.graphics.tsa.plot_pacf(series, lags=100, ax=ax2)\n"
   ]
  },
  {
   "cell_type": "markdown",
   "metadata": {},
   "source": [
    "# ARMA with Grid Search"
   ]
  },
  {
   "cell_type": "markdown",
   "metadata": {},
   "source": [
    "Imports"
   ]
  },
  {
   "cell_type": "code",
   "execution_count": 41,
   "metadata": {},
   "outputs": [],
   "source": [
    "import warnings\n",
    "import pandas as pd\n",
    "from pandas import datetime\n",
    "from statsmodels.tsa.arima_model import ARIMA\n",
    "from sklearn.metrics import mean_squared_error"
   ]
  },
  {
   "cell_type": "markdown",
   "metadata": {},
   "source": [
    "Let's stop warnings from appearing."
   ]
  },
  {
   "cell_type": "code",
   "execution_count": 42,
   "metadata": {},
   "outputs": [],
   "source": [
    "import warnings\n",
    "warnings.filterwarnings(\"ignore\")"
   ]
  },
  {
   "cell_type": "markdown",
   "metadata": {},
   "source": [
    "Now we can define a function for evaluating the different parameters for the ARMA model"
   ]
  },
  {
   "cell_type": "code",
   "execution_count": 43,
   "metadata": {},
   "outputs": [],
   "source": [
    "#resource: https://machinelearningmastery.com/grid-search-arima-hyperparameters-with-python/\n",
    "def evaluate_arima_model_mse(X, arima_order):\n",
    "    # prepare training dataset\n",
    "    train_size = int(len(X) * 0.66)\n",
    "    train, test = X[0:train_size], X[train_size:]\n",
    "    history = [x for x in train]\n",
    "    # make predictions\n",
    "    predictions = list()\n",
    "    for t in range(len(test)):\n",
    "        model = ARIMA(history, order=arima_order)\n",
    "        model_fit = model.fit(disp=0)\n",
    "        yhat = model_fit.forecast()[0]\n",
    "        predictions.append(yhat)\n",
    "        history.append(test[t])\n",
    "    # calculate out of sample error\n",
    "    error = mean_squared_error(test, predictions)\n",
    "    error = np.mean(aics)\n",
    "    return error"
   ]
  },
  {
   "cell_type": "code",
   "execution_count": 44,
   "metadata": {},
   "outputs": [],
   "source": [
    "def evaluate_arima_model_aic(X, arima_order):\n",
    "    model = ARIMA(X, order=arima_order)\n",
    "    model_fit = model.fit(disp=0)\n",
    "    return model_fit.aic\n"
   ]
  },
  {
   "cell_type": "markdown",
   "metadata": {},
   "source": [
    "Now we define a method that loops over different sets of parameters for ARMA and evaluates the performance based on MSE."
   ]
  },
  {
   "cell_type": "code",
   "execution_count": 45,
   "metadata": {},
   "outputs": [],
   "source": [
    "# evaluate combinations of p, d and q values for an ARIMA model\n",
    "def evaluate_models(dataset, p_values, d_values, q_values):\n",
    "    dataset = dataset.astype('float32')\n",
    "    best_score, best_cfg = float(\"inf\"), None\n",
    "    for p in p_values:\n",
    "        for d in d_values:\n",
    "            for q in q_values:\n",
    "                order = (p,d,q)\n",
    "                try:\n",
    "                    #error = evaluate_arima_model_mse(dataset, order)\n",
    "                    error = evaluate_arima_model_aic(dataset, order)\n",
    "                    if error < best_score:\n",
    "                        best_score, best_cfg = error, order\n",
    "                    #print('ARIMA%s MSE=%.3f' % (order,error))\n",
    "                    print('ARIMA%s AIC=%.3f' % (order,error))\n",
    "                except:\n",
    "                    continue\n",
    "    #print('Best ARIMA%s MSE=%.3f' % (best_cfg, best_score))\n",
    "    print('Best ARIMA%s AIC=%.3f' % (best_cfg, best_score))"
   ]
  },
  {
   "cell_type": "code",
   "execution_count": 46,
   "metadata": {},
   "outputs": [
    {
     "data": {
      "text/plain": [
       "2014-01-06 01:00:00    0.289722\n",
       "2014-01-06 02:00:00    0.394083\n",
       "2014-01-06 03:00:00    0.957447\n",
       "2014-01-06 04:00:00    1.236141\n",
       "2014-01-06 05:00:00   -0.450809\n",
       "2014-01-06 06:00:00   -1.011443\n",
       "2014-01-06 07:00:00   -0.023721\n",
       "2014-01-06 08:00:00    0.274854\n",
       "2014-01-06 09:00:00    0.400082\n",
       "2014-01-06 10:00:00   -0.182871\n",
       "2014-01-06 11:00:00   -0.265715\n",
       "2014-01-06 12:00:00    0.228275\n",
       "2014-01-06 13:00:00    0.377107\n",
       "2014-01-06 14:00:00   -0.361731\n",
       "2014-01-06 15:00:00   -0.116906\n",
       "2014-01-06 16:00:00    0.454717\n",
       "2014-01-06 17:00:00    0.563457\n",
       "2014-01-06 18:00:00    0.275036\n",
       "2014-01-06 19:00:00   -1.766028\n",
       "2014-01-06 20:00:00   -0.203478\n",
       "2014-01-06 21:00:00   -0.035481\n",
       "2014-01-06 22:00:00    0.002550\n",
       "2014-01-06 23:00:00   -0.358259\n",
       "2014-01-07 00:00:00    0.076927\n",
       "2014-01-07 01:00:00    0.416657\n",
       "2014-01-07 02:00:00    1.105028\n",
       "2014-01-07 03:00:00    0.922211\n",
       "2014-01-07 04:00:00   -1.008311\n",
       "2014-01-07 05:00:00   -1.102145\n",
       "2014-01-07 06:00:00    0.615048\n",
       "                         ...   \n",
       "2015-01-04 19:00:00   -0.241367\n",
       "2015-01-04 20:00:00    0.045629\n",
       "2015-01-04 21:00:00   -0.216680\n",
       "2015-01-04 22:00:00    0.031128\n",
       "2015-01-04 23:00:00    0.404704\n",
       "2015-01-05 00:00:00    0.267922\n",
       "2015-01-05 01:00:00    0.353662\n",
       "2015-01-05 02:00:00    0.335862\n",
       "2015-01-05 03:00:00    0.757948\n",
       "2015-01-05 04:00:00   -0.100021\n",
       "2015-01-05 05:00:00   -0.892889\n",
       "2015-01-05 06:00:00   -0.892669\n",
       "2015-01-05 07:00:00    0.997226\n",
       "2015-01-05 08:00:00    0.640900\n",
       "2015-01-05 09:00:00    0.226714\n",
       "2015-01-05 10:00:00   -0.250389\n",
       "2015-01-05 11:00:00    0.270595\n",
       "2015-01-05 12:00:00    0.154968\n",
       "2015-01-05 13:00:00   -0.901542\n",
       "2015-01-05 14:00:00   -1.534029\n",
       "2015-01-05 15:00:00    0.459324\n",
       "2015-01-05 16:00:00    0.129644\n",
       "2015-01-05 17:00:00    0.441015\n",
       "2015-01-05 18:00:00    0.855401\n",
       "2015-01-05 19:00:00    0.435015\n",
       "2015-01-05 20:00:00    0.307875\n",
       "2015-01-05 21:00:00   -1.303632\n",
       "2015-01-05 22:00:00   -1.285864\n",
       "2015-01-05 23:00:00   -0.135746\n",
       "2015-01-06 00:00:00    0.028680\n",
       "Length: 8760, dtype: float64"
      ]
     },
     "execution_count": 46,
     "metadata": {},
     "output_type": "execute_result"
    }
   ],
   "source": [
    "#let's read the proper data again and choose the signals on which we want to fit ARMA\n",
    "series = Series.from_csv('.//data//stationary.csv')\n",
    "series"
   ]
  },
  {
   "cell_type": "code",
   "execution_count": 47,
   "metadata": {},
   "outputs": [
    {
     "name": "stdout",
     "output_type": "stream",
     "text": [
      "ARIMA(0, 0, 0) AIC=17959.759\n",
      "ARIMA(0, 1, 0) AIC=21854.034\n",
      "ARIMA(0, 2, 0) AIC=29059.657\n",
      "ARIMA(1, 0, 0) AIC=17527.370\n",
      "ARIMA(1, 1, 0) AIC=21686.228\n",
      "ARIMA(1, 2, 0) AIC=27545.834\n",
      "ARIMA(2, 0, 0) AIC=15898.099\n",
      "ARIMA(2, 1, 0) AIC=20192.587\n",
      "ARIMA(2, 2, 0) AIC=25843.620\n",
      "ARIMA(4, 0, 0) AIC=15545.785\n",
      "ARIMA(4, 1, 0) AIC=18548.150\n",
      "ARIMA(4, 2, 0) AIC=22828.618\n",
      "ARIMA(6, 0, 0) AIC=15167.665\n",
      "ARIMA(6, 1, 0) AIC=17790.562\n",
      "ARIMA(6, 2, 0) AIC=21394.490\n",
      "ARIMA(8, 0, 0) AIC=14938.074\n",
      "ARIMA(8, 1, 0) AIC=17233.663\n",
      "ARIMA(8, 2, 0) AIC=20455.530\n",
      "ARIMA(10, 0, 0) AIC=14814.809\n",
      "ARIMA(10, 1, 0) AIC=16694.275\n",
      "ARIMA(10, 2, 0) AIC=19588.545\n",
      "Best ARIMA(10, 0, 0) AIC=14814.809\n"
     ]
    }
   ],
   "source": [
    "# evaluate parameters\n",
    "p_values = [0, 1, 2, 4, 6, 8, 10]\n",
    "d_values = range(0, 3)\n",
    "#q_values = range(0, 3)\n",
    "q_values = [0]\n",
    "warnings.filterwarnings(\"ignore\")\n",
    "evaluate_models(series.values, p_values, d_values, q_values)"
   ]
  }
 ],
 "metadata": {
  "kernelspec": {
   "display_name": "Python 3",
   "language": "python",
   "name": "python3"
  },
  "language_info": {
   "codemirror_mode": {
    "name": "ipython",
    "version": 3
   },
   "file_extension": ".py",
   "mimetype": "text/x-python",
   "name": "python",
   "nbconvert_exporter": "python",
   "pygments_lexer": "ipython3",
   "version": "3.7.2"
  }
 },
 "nbformat": 4,
 "nbformat_minor": 2
}
