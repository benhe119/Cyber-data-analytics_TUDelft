{
 "cells": [
  {
   "cell_type": "markdown",
   "metadata": {},
   "source": [
    "# Autoencoders for Anomaly Detection\n",
    "\n",
    "Based on the article at https://bit.ly/2VgNyl7, made for the bonus task of the cyber data analytics class. Download the data and adjust the paths in the next cells.\n",
    "\n",
    "Requires \n",
    "* seaborn\n",
    "* tensorflow\n",
    "* keras\n",
    "* sklearn\n",
    "* pyplot, pylab\n",
    "\n",
    "and for visualizing the network also the graphviz package. Install directly from the notebook with **!pip install package**"
   ]
  },
  {
   "cell_type": "code",
   "execution_count": 18,
   "metadata": {
    "ExecuteTime": {
     "end_time": "2019-05-27T22:04:28.416941Z",
     "start_time": "2019-05-27T22:04:28.406050Z"
    }
   },
   "outputs": [],
   "source": [
    "%matplotlib inline\n",
    "import matplotlib.pyplot as plt\n",
    "import seaborn as sns\n",
    "\n",
    "import pandas as pd\n",
    "import numpy as np\n",
    "\n",
    "import tensorflow as tf\n",
    "from keras.models import Model, load_model\n",
    "from keras.layers import Input, Dense\n",
    "from keras.callbacks import ModelCheckpoint, TensorBoard\n",
    "from keras import regularizers\n",
    "\n",
    "from sklearn.preprocessing import StandardScaler\n",
    "from sklearn.model_selection import train_test_split\n",
    "from sklearn.metrics import confusion_matrix, precision_recall_curve\n",
    "from sklearn.metrics import recall_score, classification_report, auc, roc_curve\n",
    "from sklearn.metrics import precision_recall_fscore_support, f1_score\n",
    "\n",
    "from numpy.random import seed\n",
    "seed(1)\n",
    "from tensorflow import set_random_seed\n",
    "set_random_seed(2)\n",
    "\n",
    "SEED = 123 \n",
    "DATA_SPLIT_PCT = 0.2\n",
    "\n",
    "LABELS = [\"Normal\",\"Attack\"]\n",
    "\n",
    "# please adjust the dataset paths\n",
    "NORMAL = \"~/Downloads/BATADAL_dataset03.csv\"\n",
    "MIXED = \"~/Downloads/BATADAL_dataset04.csv\""
   ]
  },
  {
   "cell_type": "code",
   "execution_count": 19,
   "metadata": {
    "ExecuteTime": {
     "end_time": "2019-05-27T22:04:28.490859Z",
     "start_time": "2019-05-27T22:04:28.418839Z"
    }
   },
   "outputs": [],
   "source": [
    "df_normal =  pd.read_csv(NORMAL, skipinitialspace=True)\n",
    "df_mixed = pd.read_csv(MIXED, skipinitialspace=True)"
   ]
  },
  {
   "cell_type": "markdown",
   "metadata": {},
   "source": [
    "Harmonize the labels across the datasets to 0 / 1\n",
    "\n",
    "**WARNING**: THIS TREATS *unlabeled* DATA AS NORMAL, see https://batadal.net/images/rules.pdf for the documentation of the -999 value.\n"
   ]
  },
  {
   "cell_type": "code",
   "execution_count": 20,
   "metadata": {
    "ExecuteTime": {
     "end_time": "2019-05-27T22:04:28.495346Z",
     "start_time": "2019-05-27T22:04:28.492085Z"
    }
   },
   "outputs": [],
   "source": [
    "df_mixed.ATT_FLAG.replace([-999, 1], [0, 1], inplace=True)"
   ]
  },
  {
   "cell_type": "markdown",
   "metadata": {},
   "source": [
    "Drop non-numeric columns, concatenate the dataframes.\n",
    "We train the autoencoder on the normal data from BATADAL_dataset03 and test on BATADAL_dataset04"
   ]
  },
  {
   "cell_type": "code",
   "execution_count": 21,
   "metadata": {
    "ExecuteTime": {
     "end_time": "2019-05-27T22:04:28.511711Z",
     "start_time": "2019-05-27T22:04:28.496963Z"
    }
   },
   "outputs": [],
   "source": [
    "df_normal = df_normal.drop(['DATETIME'], axis=1)\n",
    "df_mixed = df_mixed.drop(['DATETIME'], axis=1)\n",
    "\n",
    "df = pd.concat([df_normal, df_mixed], ignore_index=True)"
   ]
  },
  {
   "cell_type": "markdown",
   "metadata": {},
   "source": [
    "Splitting into training, validation, testing, group into classes"
   ]
  },
  {
   "cell_type": "code",
   "execution_count": 22,
   "metadata": {
    "ExecuteTime": {
     "end_time": "2019-05-27T22:04:28.527210Z",
     "start_time": "2019-05-27T22:04:28.513596Z"
    }
   },
   "outputs": [],
   "source": [
    "df_train, df_test = train_test_split(df, test_size=DATA_SPLIT_PCT, random_state=SEED)\n",
    "df_train, df_valid = train_test_split(df_train, test_size=DATA_SPLIT_PCT, random_state=SEED)"
   ]
  },
  {
   "cell_type": "code",
   "execution_count": 23,
   "metadata": {
    "ExecuteTime": {
     "end_time": "2019-05-27T22:04:28.545427Z",
     "start_time": "2019-05-27T22:04:28.528427Z"
    }
   },
   "outputs": [],
   "source": [
    "df_train_0 = df_train.loc[df['ATT_FLAG'] == 0]\n",
    "df_train_1 = df_train.loc[df['ATT_FLAG'] == 1]\n",
    "\n",
    "df_train_0_x = df_train_0.drop(['ATT_FLAG'], axis=1)\n",
    "df_train_1_x = df_train_1.drop(['ATT_FLAG'], axis=1)\n",
    "\n",
    "\n",
    "df_valid_0 = df_valid.loc[df['ATT_FLAG'] == 0]\n",
    "df_valid_1 = df_valid.loc[df['ATT_FLAG'] == 1]\n",
    "\n",
    "df_valid_0_x = df_valid_0.drop(['ATT_FLAG'], axis=1)\n",
    "df_valid_1_x = df_valid_1.drop(['ATT_FLAG'], axis=1)\n",
    "\n",
    "\n",
    "df_test_0 = df_test.loc[df['ATT_FLAG'] == 0]\n",
    "df_test_1 = df_test.loc[df['ATT_FLAG'] == 1]\n",
    "\n",
    "df_test_0_x = df_test_0.drop(['ATT_FLAG'], axis=1)\n",
    "df_test_1_x = df_test_1.drop(['ATT_FLAG'], axis=1)"
   ]
  },
  {
   "cell_type": "markdown",
   "metadata": {},
   "source": [
    "Scale the data to 0-1 range"
   ]
  },
  {
   "cell_type": "code",
   "execution_count": 24,
   "metadata": {
    "ExecuteTime": {
     "end_time": "2019-05-27T22:04:28.564577Z",
     "start_time": "2019-05-27T22:04:28.547025Z"
    }
   },
   "outputs": [],
   "source": [
    "scaler = StandardScaler().fit(df_train_0_x)\n",
    "df_train_0_x_rescaled = scaler.transform(df_train_0_x)\n",
    "df_valid_0_x_rescaled = scaler.transform(df_valid_0_x)\n",
    "df_valid_x_rescaled = scaler.transform(df_valid.drop(['ATT_FLAG'], axis = 1))\n",
    "\n",
    "df_test_0_x_rescaled = scaler.transform(df_test_0_x)\n",
    "df_test_x_rescaled = scaler.transform(df_test.drop(['ATT_FLAG'], axis = 1))"
   ]
  },
  {
   "cell_type": "markdown",
   "metadata": {},
   "source": [
    "## Set up a neural network with relu-encoder"
   ]
  },
  {
   "cell_type": "code",
   "execution_count": 25,
   "metadata": {
    "ExecuteTime": {
     "end_time": "2019-05-27T22:04:28.613962Z",
     "start_time": "2019-05-27T22:04:28.565802Z"
    }
   },
   "outputs": [],
   "source": [
    "nb_epoch = 100\n",
    "batch_size = 128\n",
    "input_dim = df_train_0_x_rescaled.shape[1] #num of predictor variables, \n",
    "encoding_dim = 16\n",
    "hidden_dim = int(encoding_dim / 2)\n",
    "learning_rate = 1e-3\n",
    "\n",
    "input_layer = Input(shape=(input_dim, ))\n",
    "encoder = Dense(encoding_dim, activation=\"tanh\", activity_regularizer=regularizers.l1(learning_rate))(input_layer)\n",
    "encoder = Dense(hidden_dim, activation=\"relu\")(encoder)\n",
    "decoder = Dense(hidden_dim, activation='tanh')(encoder)\n",
    "decoder = Dense(input_dim, activation='relu')(decoder)\n",
    "autoencoder = Model(inputs=input_layer, outputs=decoder)"
   ]
  },
  {
   "cell_type": "markdown",
   "metadata": {},
   "source": [
    "This requires pydot and graphviz installed"
   ]
  },
  {
   "cell_type": "code",
   "execution_count": 26,
   "metadata": {
    "ExecuteTime": {
     "end_time": "2019-05-27T22:04:28.674419Z",
     "start_time": "2019-05-27T22:04:28.615158Z"
    }
   },
   "outputs": [
    {
     "data": {
      "image/svg+xml": [
       "<svg height=\"387pt\" viewBox=\"0.00 0.00 264.00 387.00\" width=\"264pt\" xmlns=\"http://www.w3.org/2000/svg\" xmlns:xlink=\"http://www.w3.org/1999/xlink\">\n",
       "<g class=\"graph\" id=\"graph0\" transform=\"scale(1 1) rotate(0) translate(4 383)\">\n",
       "<title>G</title>\n",
       "<polygon fill=\"#ffffff\" points=\"-4,4 -4,-383 260,-383 260,4 -4,4\" stroke=\"transparent\"/>\n",
       "<!-- 140322554474392 -->\n",
       "<g class=\"node\" id=\"node1\">\n",
       "<title>140322554474392</title>\n",
       "<polygon fill=\"none\" points=\"0,-332.5 0,-378.5 256,-378.5 256,-332.5 0,-332.5\" stroke=\"#000000\"/>\n",
       "<text fill=\"#000000\" font-family=\"Times,serif\" font-size=\"14.00\" text-anchor=\"middle\" x=\"62.5\" y=\"-351.8\">input_2: InputLayer</text>\n",
       "<polyline fill=\"none\" points=\"125,-332.5 125,-378.5 \" stroke=\"#000000\"/>\n",
       "<text fill=\"#000000\" font-family=\"Times,serif\" font-size=\"14.00\" text-anchor=\"middle\" x=\"152.5\" y=\"-363.3\">input:</text>\n",
       "<polyline fill=\"none\" points=\"125,-355.5 180,-355.5 \" stroke=\"#000000\"/>\n",
       "<text fill=\"#000000\" font-family=\"Times,serif\" font-size=\"14.00\" text-anchor=\"middle\" x=\"152.5\" y=\"-340.3\">output:</text>\n",
       "<polyline fill=\"none\" points=\"180,-332.5 180,-378.5 \" stroke=\"#000000\"/>\n",
       "<text fill=\"#000000\" font-family=\"Times,serif\" font-size=\"14.00\" text-anchor=\"middle\" x=\"218\" y=\"-363.3\">(None, 43)</text>\n",
       "<polyline fill=\"none\" points=\"180,-355.5 256,-355.5 \" stroke=\"#000000\"/>\n",
       "<text fill=\"#000000\" font-family=\"Times,serif\" font-size=\"14.00\" text-anchor=\"middle\" x=\"218\" y=\"-340.3\">(None, 43)</text>\n",
       "</g>\n",
       "<!-- 140322554471760 -->\n",
       "<g class=\"node\" id=\"node2\">\n",
       "<title>140322554471760</title>\n",
       "<polygon fill=\"none\" points=\"11.5,-249.5 11.5,-295.5 244.5,-295.5 244.5,-249.5 11.5,-249.5\" stroke=\"#000000\"/>\n",
       "<text fill=\"#000000\" font-family=\"Times,serif\" font-size=\"14.00\" text-anchor=\"middle\" x=\"62.5\" y=\"-268.8\">dense_5: Dense</text>\n",
       "<polyline fill=\"none\" points=\"113.5,-249.5 113.5,-295.5 \" stroke=\"#000000\"/>\n",
       "<text fill=\"#000000\" font-family=\"Times,serif\" font-size=\"14.00\" text-anchor=\"middle\" x=\"141\" y=\"-280.3\">input:</text>\n",
       "<polyline fill=\"none\" points=\"113.5,-272.5 168.5,-272.5 \" stroke=\"#000000\"/>\n",
       "<text fill=\"#000000\" font-family=\"Times,serif\" font-size=\"14.00\" text-anchor=\"middle\" x=\"141\" y=\"-257.3\">output:</text>\n",
       "<polyline fill=\"none\" points=\"168.5,-249.5 168.5,-295.5 \" stroke=\"#000000\"/>\n",
       "<text fill=\"#000000\" font-family=\"Times,serif\" font-size=\"14.00\" text-anchor=\"middle\" x=\"206.5\" y=\"-280.3\">(None, 43)</text>\n",
       "<polyline fill=\"none\" points=\"168.5,-272.5 244.5,-272.5 \" stroke=\"#000000\"/>\n",
       "<text fill=\"#000000\" font-family=\"Times,serif\" font-size=\"14.00\" text-anchor=\"middle\" x=\"206.5\" y=\"-257.3\">(None, 16)</text>\n",
       "</g>\n",
       "<!-- 140322554474392&#45;&gt;140322554471760 -->\n",
       "<g class=\"edge\" id=\"edge1\">\n",
       "<title>140322554474392-&gt;140322554471760</title>\n",
       "<path d=\"M128,-332.3799C128,-324.1745 128,-314.7679 128,-305.8786\" fill=\"none\" stroke=\"#000000\"/>\n",
       "<polygon fill=\"#000000\" points=\"131.5001,-305.784 128,-295.784 124.5001,-305.784 131.5001,-305.784\" stroke=\"#000000\"/>\n",
       "</g>\n",
       "<!-- 140323580986480 -->\n",
       "<g class=\"node\" id=\"node3\">\n",
       "<title>140323580986480</title>\n",
       "<polygon fill=\"none\" points=\"11.5,-166.5 11.5,-212.5 244.5,-212.5 244.5,-166.5 11.5,-166.5\" stroke=\"#000000\"/>\n",
       "<text fill=\"#000000\" font-family=\"Times,serif\" font-size=\"14.00\" text-anchor=\"middle\" x=\"62.5\" y=\"-185.8\">dense_6: Dense</text>\n",
       "<polyline fill=\"none\" points=\"113.5,-166.5 113.5,-212.5 \" stroke=\"#000000\"/>\n",
       "<text fill=\"#000000\" font-family=\"Times,serif\" font-size=\"14.00\" text-anchor=\"middle\" x=\"141\" y=\"-197.3\">input:</text>\n",
       "<polyline fill=\"none\" points=\"113.5,-189.5 168.5,-189.5 \" stroke=\"#000000\"/>\n",
       "<text fill=\"#000000\" font-family=\"Times,serif\" font-size=\"14.00\" text-anchor=\"middle\" x=\"141\" y=\"-174.3\">output:</text>\n",
       "<polyline fill=\"none\" points=\"168.5,-166.5 168.5,-212.5 \" stroke=\"#000000\"/>\n",
       "<text fill=\"#000000\" font-family=\"Times,serif\" font-size=\"14.00\" text-anchor=\"middle\" x=\"206.5\" y=\"-197.3\">(None, 16)</text>\n",
       "<polyline fill=\"none\" points=\"168.5,-189.5 244.5,-189.5 \" stroke=\"#000000\"/>\n",
       "<text fill=\"#000000\" font-family=\"Times,serif\" font-size=\"14.00\" text-anchor=\"middle\" x=\"206.5\" y=\"-174.3\">(None, 8)</text>\n",
       "</g>\n",
       "<!-- 140322554471760&#45;&gt;140323580986480 -->\n",
       "<g class=\"edge\" id=\"edge2\">\n",
       "<title>140322554471760-&gt;140323580986480</title>\n",
       "<path d=\"M128,-249.3799C128,-241.1745 128,-231.7679 128,-222.8786\" fill=\"none\" stroke=\"#000000\"/>\n",
       "<polygon fill=\"#000000\" points=\"131.5001,-222.784 128,-212.784 124.5001,-222.784 131.5001,-222.784\" stroke=\"#000000\"/>\n",
       "</g>\n",
       "<!-- 140323295657264 -->\n",
       "<g class=\"node\" id=\"node4\">\n",
       "<title>140323295657264</title>\n",
       "<polygon fill=\"none\" points=\"15,-83.5 15,-129.5 241,-129.5 241,-83.5 15,-83.5\" stroke=\"#000000\"/>\n",
       "<text fill=\"#000000\" font-family=\"Times,serif\" font-size=\"14.00\" text-anchor=\"middle\" x=\"66\" y=\"-102.8\">dense_7: Dense</text>\n",
       "<polyline fill=\"none\" points=\"117,-83.5 117,-129.5 \" stroke=\"#000000\"/>\n",
       "<text fill=\"#000000\" font-family=\"Times,serif\" font-size=\"14.00\" text-anchor=\"middle\" x=\"144.5\" y=\"-114.3\">input:</text>\n",
       "<polyline fill=\"none\" points=\"117,-106.5 172,-106.5 \" stroke=\"#000000\"/>\n",
       "<text fill=\"#000000\" font-family=\"Times,serif\" font-size=\"14.00\" text-anchor=\"middle\" x=\"144.5\" y=\"-91.3\">output:</text>\n",
       "<polyline fill=\"none\" points=\"172,-83.5 172,-129.5 \" stroke=\"#000000\"/>\n",
       "<text fill=\"#000000\" font-family=\"Times,serif\" font-size=\"14.00\" text-anchor=\"middle\" x=\"206.5\" y=\"-114.3\">(None, 8)</text>\n",
       "<polyline fill=\"none\" points=\"172,-106.5 241,-106.5 \" stroke=\"#000000\"/>\n",
       "<text fill=\"#000000\" font-family=\"Times,serif\" font-size=\"14.00\" text-anchor=\"middle\" x=\"206.5\" y=\"-91.3\">(None, 8)</text>\n",
       "</g>\n",
       "<!-- 140323580986480&#45;&gt;140323295657264 -->\n",
       "<g class=\"edge\" id=\"edge3\">\n",
       "<title>140323580986480-&gt;140323295657264</title>\n",
       "<path d=\"M128,-166.3799C128,-158.1745 128,-148.7679 128,-139.8786\" fill=\"none\" stroke=\"#000000\"/>\n",
       "<polygon fill=\"#000000\" points=\"131.5001,-139.784 128,-129.784 124.5001,-139.784 131.5001,-139.784\" stroke=\"#000000\"/>\n",
       "</g>\n",
       "<!-- 140322555544128 -->\n",
       "<g class=\"node\" id=\"node5\">\n",
       "<title>140322555544128</title>\n",
       "<polygon fill=\"none\" points=\"11.5,-.5 11.5,-46.5 244.5,-46.5 244.5,-.5 11.5,-.5\" stroke=\"#000000\"/>\n",
       "<text fill=\"#000000\" font-family=\"Times,serif\" font-size=\"14.00\" text-anchor=\"middle\" x=\"62.5\" y=\"-19.8\">dense_8: Dense</text>\n",
       "<polyline fill=\"none\" points=\"113.5,-.5 113.5,-46.5 \" stroke=\"#000000\"/>\n",
       "<text fill=\"#000000\" font-family=\"Times,serif\" font-size=\"14.00\" text-anchor=\"middle\" x=\"141\" y=\"-31.3\">input:</text>\n",
       "<polyline fill=\"none\" points=\"113.5,-23.5 168.5,-23.5 \" stroke=\"#000000\"/>\n",
       "<text fill=\"#000000\" font-family=\"Times,serif\" font-size=\"14.00\" text-anchor=\"middle\" x=\"141\" y=\"-8.3\">output:</text>\n",
       "<polyline fill=\"none\" points=\"168.5,-.5 168.5,-46.5 \" stroke=\"#000000\"/>\n",
       "<text fill=\"#000000\" font-family=\"Times,serif\" font-size=\"14.00\" text-anchor=\"middle\" x=\"206.5\" y=\"-31.3\">(None, 8)</text>\n",
       "<polyline fill=\"none\" points=\"168.5,-23.5 244.5,-23.5 \" stroke=\"#000000\"/>\n",
       "<text fill=\"#000000\" font-family=\"Times,serif\" font-size=\"14.00\" text-anchor=\"middle\" x=\"206.5\" y=\"-8.3\">(None, 43)</text>\n",
       "</g>\n",
       "<!-- 140323295657264&#45;&gt;140322555544128 -->\n",
       "<g class=\"edge\" id=\"edge4\">\n",
       "<title>140323295657264-&gt;140322555544128</title>\n",
       "<path d=\"M128,-83.3799C128,-75.1745 128,-65.7679 128,-56.8786\" fill=\"none\" stroke=\"#000000\"/>\n",
       "<polygon fill=\"#000000\" points=\"131.5001,-56.784 128,-46.784 124.5001,-56.784 131.5001,-56.784\" stroke=\"#000000\"/>\n",
       "</g>\n",
       "</g>\n",
       "</svg>"
      ],
      "text/plain": [
       "<IPython.core.display.SVG object>"
      ]
     },
     "execution_count": 26,
     "metadata": {},
     "output_type": "execute_result"
    }
   ],
   "source": [
    "from IPython.display import SVG\n",
    "from keras.utils.vis_utils import model_to_dot\n",
    "\n",
    "SVG(model_to_dot(autoencoder, show_shapes=True, show_layer_names=True).create(prog='dot', format='svg'))"
   ]
  },
  {
   "cell_type": "markdown",
   "metadata": {},
   "source": [
    "## Train the network"
   ]
  },
  {
   "cell_type": "code",
   "execution_count": 27,
   "metadata": {
    "ExecuteTime": {
     "end_time": "2019-05-27T22:04:45.768099Z",
     "start_time": "2019-05-27T22:04:28.675989Z"
    }
   },
   "outputs": [
    {
     "name": "stdout",
     "output_type": "stream",
     "text": [
      "Train on 8143 samples, validate on 2030 samples\n",
      "Epoch 1/100\n",
      "8143/8143 [==============================] - 0s 59us/step - loss: 1.8379 - acc: 0.0447 - val_loss: 1.5956 - val_acc: 0.0759\n",
      "Epoch 2/100\n",
      "8143/8143 [==============================] - 0s 18us/step - loss: 1.4447 - acc: 0.0694 - val_loss: 1.2341 - val_acc: 0.0778\n",
      "Epoch 3/100\n",
      "8143/8143 [==============================] - 0s 19us/step - loss: 1.1288 - acc: 0.0721 - val_loss: 0.9775 - val_acc: 0.0808\n",
      "Epoch 4/100\n",
      "8143/8143 [==============================] - 0s 20us/step - loss: 0.9427 - acc: 0.0570 - val_loss: 0.8606 - val_acc: 0.0645\n",
      "Epoch 5/100\n",
      "8143/8143 [==============================] - 0s 19us/step - loss: 0.8635 - acc: 0.0526 - val_loss: 0.8078 - val_acc: 0.0906\n",
      "Epoch 6/100\n",
      "8143/8143 [==============================] - 0s 21us/step - loss: 0.8205 - acc: 0.1273 - val_loss: 0.7748 - val_acc: 0.1473\n",
      "Epoch 7/100\n",
      "8143/8143 [==============================] - 0s 20us/step - loss: 0.7902 - acc: 0.1743 - val_loss: 0.7497 - val_acc: 0.1749\n",
      "Epoch 8/100\n",
      "8143/8143 [==============================] - 0s 18us/step - loss: 0.7677 - acc: 0.2051 - val_loss: 0.7321 - val_acc: 0.2034\n",
      "Epoch 9/100\n",
      "8143/8143 [==============================] - 0s 21us/step - loss: 0.7510 - acc: 0.2272 - val_loss: 0.7181 - val_acc: 0.2167\n",
      "Epoch 10/100\n",
      "8143/8143 [==============================] - 0s 19us/step - loss: 0.7384 - acc: 0.2331 - val_loss: 0.7094 - val_acc: 0.2172\n",
      "Epoch 11/100\n",
      "8143/8143 [==============================] - 0s 28us/step - loss: 0.7286 - acc: 0.2325 - val_loss: 0.6997 - val_acc: 0.2217\n",
      "Epoch 12/100\n",
      "8143/8143 [==============================] - 0s 21us/step - loss: 0.7202 - acc: 0.2330 - val_loss: 0.6945 - val_acc: 0.2236\n",
      "Epoch 13/100\n",
      "8143/8143 [==============================] - 0s 17us/step - loss: 0.7142 - acc: 0.2308 - val_loss: 0.6888 - val_acc: 0.2182\n",
      "Epoch 14/100\n",
      "8143/8143 [==============================] - 0s 18us/step - loss: 0.7078 - acc: 0.2282 - val_loss: 0.6851 - val_acc: 0.2399\n",
      "Epoch 15/100\n",
      "8143/8143 [==============================] - 0s 16us/step - loss: 0.7036 - acc: 0.2343 - val_loss: 0.6823 - val_acc: 0.2049\n",
      "Epoch 16/100\n",
      "8143/8143 [==============================] - 0s 21us/step - loss: 0.6993 - acc: 0.2293 - val_loss: 0.6796 - val_acc: 0.2074\n",
      "Epoch 17/100\n",
      "8143/8143 [==============================] - 0s 21us/step - loss: 0.6942 - acc: 0.2321 - val_loss: 0.6760 - val_acc: 0.2094\n",
      "Epoch 18/100\n",
      "8143/8143 [==============================] - 0s 19us/step - loss: 0.6912 - acc: 0.2355 - val_loss: 0.6722 - val_acc: 0.2069\n",
      "Epoch 19/100\n",
      "8143/8143 [==============================] - 0s 18us/step - loss: 0.6873 - acc: 0.2358 - val_loss: 0.6708 - val_acc: 0.2384\n",
      "Epoch 20/100\n",
      "8143/8143 [==============================] - 0s 18us/step - loss: 0.6841 - acc: 0.2435 - val_loss: 0.6666 - val_acc: 0.2246\n",
      "Epoch 21/100\n",
      "8143/8143 [==============================] - 0s 19us/step - loss: 0.6801 - acc: 0.2429 - val_loss: 0.6650 - val_acc: 0.2207\n",
      "Epoch 22/100\n",
      "8143/8143 [==============================] - 0s 20us/step - loss: 0.6774 - acc: 0.2495 - val_loss: 0.6637 - val_acc: 0.2167\n",
      "Epoch 23/100\n",
      "8143/8143 [==============================] - 0s 20us/step - loss: 0.6751 - acc: 0.2502 - val_loss: 0.6603 - val_acc: 0.2419\n",
      "Epoch 24/100\n",
      "8143/8143 [==============================] - 0s 17us/step - loss: 0.6714 - acc: 0.2525 - val_loss: 0.6573 - val_acc: 0.2345\n",
      "Epoch 25/100\n",
      "8143/8143 [==============================] - 0s 21us/step - loss: 0.6688 - acc: 0.2585 - val_loss: 0.6556 - val_acc: 0.2256\n",
      "Epoch 26/100\n",
      "8143/8143 [==============================] - 0s 20us/step - loss: 0.6659 - acc: 0.2586 - val_loss: 0.6528 - val_acc: 0.2522\n",
      "Epoch 27/100\n",
      "8143/8143 [==============================] - 0s 18us/step - loss: 0.6632 - acc: 0.2673 - val_loss: 0.6513 - val_acc: 0.2571\n",
      "Epoch 28/100\n",
      "8143/8143 [==============================] - 0s 30us/step - loss: 0.6595 - acc: 0.2724 - val_loss: 0.6471 - val_acc: 0.2759\n",
      "Epoch 29/100\n",
      "8143/8143 [==============================] - 0s 17us/step - loss: 0.6547 - acc: 0.2912 - val_loss: 0.6431 - val_acc: 0.2562\n",
      "Epoch 30/100\n",
      "8143/8143 [==============================] - 0s 19us/step - loss: 0.6499 - acc: 0.2969 - val_loss: 0.6390 - val_acc: 0.2906\n",
      "Epoch 31/100\n",
      "8143/8143 [==============================] - 0s 19us/step - loss: 0.6474 - acc: 0.3012 - val_loss: 0.6382 - val_acc: 0.2537\n",
      "Epoch 32/100\n",
      "8143/8143 [==============================] - 0s 19us/step - loss: 0.6447 - acc: 0.3060 - val_loss: 0.6346 - val_acc: 0.3094\n",
      "Epoch 33/100\n",
      "8143/8143 [==============================] - 0s 19us/step - loss: 0.6410 - acc: 0.3316 - val_loss: 0.6325 - val_acc: 0.3103\n",
      "Epoch 34/100\n",
      "8143/8143 [==============================] - 0s 18us/step - loss: 0.6388 - acc: 0.3447 - val_loss: 0.6304 - val_acc: 0.3369\n",
      "Epoch 35/100\n",
      "8143/8143 [==============================] - 0s 18us/step - loss: 0.6371 - acc: 0.3603 - val_loss: 0.6277 - val_acc: 0.3562\n",
      "Epoch 36/100\n",
      "8143/8143 [==============================] - 0s 19us/step - loss: 0.6346 - acc: 0.3771 - val_loss: 0.6272 - val_acc: 0.3360\n",
      "Epoch 37/100\n",
      "8143/8143 [==============================] - 0s 17us/step - loss: 0.6327 - acc: 0.3904 - val_loss: 0.6259 - val_acc: 0.4064\n",
      "Epoch 38/100\n",
      "8143/8143 [==============================] - 0s 17us/step - loss: 0.6317 - acc: 0.3953 - val_loss: 0.6232 - val_acc: 0.4099\n",
      "Epoch 39/100\n",
      "8143/8143 [==============================] - 0s 19us/step - loss: 0.6292 - acc: 0.4028 - val_loss: 0.6225 - val_acc: 0.4094\n",
      "Epoch 40/100\n",
      "8143/8143 [==============================] - 0s 17us/step - loss: 0.6276 - acc: 0.4137 - val_loss: 0.6232 - val_acc: 0.4192\n",
      "Epoch 41/100\n",
      "8143/8143 [==============================] - 0s 19us/step - loss: 0.6273 - acc: 0.4114 - val_loss: 0.6211 - val_acc: 0.4118\n",
      "Epoch 42/100\n",
      "8143/8143 [==============================] - 0s 17us/step - loss: 0.6252 - acc: 0.4173 - val_loss: 0.6198 - val_acc: 0.3980\n",
      "Epoch 43/100\n",
      "8143/8143 [==============================] - 0s 18us/step - loss: 0.6247 - acc: 0.4164 - val_loss: 0.6200 - val_acc: 0.4532\n",
      "Epoch 44/100\n",
      "8143/8143 [==============================] - 0s 16us/step - loss: 0.6230 - acc: 0.4199 - val_loss: 0.6205 - val_acc: 0.4241\n",
      "Epoch 45/100\n",
      "8143/8143 [==============================] - 0s 17us/step - loss: 0.6229 - acc: 0.4239 - val_loss: 0.6181 - val_acc: 0.3665\n",
      "Epoch 46/100\n",
      "8143/8143 [==============================] - 0s 19us/step - loss: 0.6205 - acc: 0.4280 - val_loss: 0.6152 - val_acc: 0.4182\n",
      "Epoch 47/100\n",
      "8143/8143 [==============================] - 0s 24us/step - loss: 0.6184 - acc: 0.4265 - val_loss: 0.6135 - val_acc: 0.4404\n",
      "Epoch 48/100\n",
      "8143/8143 [==============================] - 0s 20us/step - loss: 0.6177 - acc: 0.4347 - val_loss: 0.6165 - val_acc: 0.4039\n",
      "Epoch 49/100\n",
      "8143/8143 [==============================] - 0s 19us/step - loss: 0.6169 - acc: 0.4344 - val_loss: 0.6139 - val_acc: 0.4251\n",
      "Epoch 50/100\n",
      "8143/8143 [==============================] - 0s 17us/step - loss: 0.6159 - acc: 0.4294 - val_loss: 0.6125 - val_acc: 0.4409\n",
      "Epoch 51/100\n",
      "8143/8143 [==============================] - 0s 16us/step - loss: 0.6138 - acc: 0.4361 - val_loss: 0.6129 - val_acc: 0.4227\n",
      "Epoch 52/100\n",
      "8143/8143 [==============================] - 0s 16us/step - loss: 0.6130 - acc: 0.4344 - val_loss: 0.6082 - val_acc: 0.4473\n",
      "Epoch 53/100\n",
      "8143/8143 [==============================] - 0s 25us/step - loss: 0.6119 - acc: 0.4395 - val_loss: 0.6115 - val_acc: 0.4172\n",
      "Epoch 54/100\n",
      "8143/8143 [==============================] - 0s 16us/step - loss: 0.6132 - acc: 0.4361 - val_loss: 0.6090 - val_acc: 0.4473\n",
      "Epoch 55/100\n",
      "8143/8143 [==============================] - 0s 15us/step - loss: 0.6105 - acc: 0.4369 - val_loss: 0.6086 - val_acc: 0.4202\n",
      "Epoch 56/100\n",
      "8143/8143 [==============================] - 0s 18us/step - loss: 0.6088 - acc: 0.4407 - val_loss: 0.6050 - val_acc: 0.4399\n",
      "Epoch 57/100\n",
      "8143/8143 [==============================] - 0s 17us/step - loss: 0.6080 - acc: 0.4426 - val_loss: 0.6071 - val_acc: 0.3813\n",
      "Epoch 58/100\n",
      "8143/8143 [==============================] - 0s 24us/step - loss: 0.6080 - acc: 0.4400 - val_loss: 0.6043 - val_acc: 0.4384\n",
      "Epoch 59/100\n",
      "8143/8143 [==============================] - 0s 17us/step - loss: 0.6069 - acc: 0.4434 - val_loss: 0.6025 - val_acc: 0.4448\n",
      "Epoch 60/100\n",
      "8143/8143 [==============================] - 0s 15us/step - loss: 0.6048 - acc: 0.4512 - val_loss: 0.6020 - val_acc: 0.4424\n",
      "Epoch 61/100\n",
      "8143/8143 [==============================] - 0s 16us/step - loss: 0.6036 - acc: 0.4528 - val_loss: 0.6005 - val_acc: 0.4276\n",
      "Epoch 62/100\n",
      "8143/8143 [==============================] - 0s 13us/step - loss: 0.6021 - acc: 0.4550 - val_loss: 0.5975 - val_acc: 0.4404\n",
      "Epoch 63/100\n",
      "8143/8143 [==============================] - 0s 13us/step - loss: 0.6007 - acc: 0.4549 - val_loss: 0.5992 - val_acc: 0.4187\n",
      "Epoch 64/100\n",
      "8143/8143 [==============================] - 0s 17us/step - loss: 0.5988 - acc: 0.4570 - val_loss: 0.5980 - val_acc: 0.4562\n",
      "Epoch 65/100\n",
      "8143/8143 [==============================] - 0s 26us/step - loss: 0.5988 - acc: 0.4555 - val_loss: 0.5982 - val_acc: 0.4335\n",
      "Epoch 66/100\n",
      "8143/8143 [==============================] - 0s 15us/step - loss: 0.5978 - acc: 0.4563 - val_loss: 0.5963 - val_acc: 0.4443\n",
      "Epoch 67/100\n",
      "8143/8143 [==============================] - 0s 13us/step - loss: 0.5979 - acc: 0.4522 - val_loss: 0.5957 - val_acc: 0.4700\n",
      "Epoch 68/100\n",
      "8143/8143 [==============================] - 0s 22us/step - loss: 0.5974 - acc: 0.4570 - val_loss: 0.5960 - val_acc: 0.4236\n",
      "Epoch 69/100\n",
      "8143/8143 [==============================] - 0s 18us/step - loss: 0.5959 - acc: 0.4601 - val_loss: 0.5938 - val_acc: 0.4389\n",
      "Epoch 70/100\n",
      "8143/8143 [==============================] - 0s 24us/step - loss: 0.5946 - acc: 0.4631 - val_loss: 0.5953 - val_acc: 0.4488\n",
      "Epoch 71/100\n",
      "8143/8143 [==============================] - 0s 12us/step - loss: 0.5953 - acc: 0.4601 - val_loss: 0.5934 - val_acc: 0.4389\n",
      "Epoch 72/100\n",
      "8143/8143 [==============================] - 0s 15us/step - loss: 0.5936 - acc: 0.4615 - val_loss: 0.5917 - val_acc: 0.4714\n",
      "Epoch 73/100\n",
      "8143/8143 [==============================] - 0s 25us/step - loss: 0.5932 - acc: 0.4675 - val_loss: 0.5900 - val_acc: 0.4808\n",
      "Epoch 74/100\n",
      "8143/8143 [==============================] - 0s 17us/step - loss: 0.5922 - acc: 0.4658 - val_loss: 0.5902 - val_acc: 0.4433\n",
      "Epoch 75/100\n",
      "8143/8143 [==============================] - 0s 14us/step - loss: 0.5922 - acc: 0.4686 - val_loss: 0.5898 - val_acc: 0.4517\n",
      "Epoch 76/100\n",
      "8143/8143 [==============================] - 0s 18us/step - loss: 0.5920 - acc: 0.4630 - val_loss: 0.5906 - val_acc: 0.4709\n",
      "Epoch 77/100\n",
      "8143/8143 [==============================] - 0s 18us/step - loss: 0.5904 - acc: 0.4657 - val_loss: 0.5898 - val_acc: 0.4650\n",
      "Epoch 78/100\n",
      "8143/8143 [==============================] - 0s 15us/step - loss: 0.5920 - acc: 0.4649 - val_loss: 0.5883 - val_acc: 0.4552\n",
      "Epoch 79/100\n",
      "8143/8143 [==============================] - 0s 14us/step - loss: 0.5901 - acc: 0.4710 - val_loss: 0.5882 - val_acc: 0.4700\n",
      "Epoch 80/100\n",
      "8143/8143 [==============================] - 0s 17us/step - loss: 0.5893 - acc: 0.4745 - val_loss: 0.5884 - val_acc: 0.4704\n",
      "Epoch 81/100\n",
      "8143/8143 [==============================] - 0s 16us/step - loss: 0.5893 - acc: 0.4710 - val_loss: 0.5881 - val_acc: 0.4621\n",
      "Epoch 82/100\n",
      "8143/8143 [==============================] - 0s 16us/step - loss: 0.5902 - acc: 0.4577 - val_loss: 0.5889 - val_acc: 0.4660\n",
      "Epoch 83/100\n",
      "8143/8143 [==============================] - 0s 14us/step - loss: 0.5875 - acc: 0.4718 - val_loss: 0.5863 - val_acc: 0.4729\n",
      "Epoch 84/100\n",
      "8143/8143 [==============================] - 0s 16us/step - loss: 0.5868 - acc: 0.4760 - val_loss: 0.5867 - val_acc: 0.4670\n",
      "Epoch 85/100\n",
      "8143/8143 [==============================] - 0s 15us/step - loss: 0.5862 - acc: 0.4744 - val_loss: 0.5857 - val_acc: 0.4709\n",
      "Epoch 86/100\n",
      "8143/8143 [==============================] - 0s 16us/step - loss: 0.5862 - acc: 0.4766 - val_loss: 0.5852 - val_acc: 0.4626\n",
      "Epoch 87/100\n",
      "8143/8143 [==============================] - 0s 17us/step - loss: 0.5865 - acc: 0.4764 - val_loss: 0.5858 - val_acc: 0.4631\n",
      "Epoch 88/100\n",
      "8143/8143 [==============================] - 0s 18us/step - loss: 0.5850 - acc: 0.4784 - val_loss: 0.5845 - val_acc: 0.4690\n",
      "Epoch 89/100\n",
      "8143/8143 [==============================] - 0s 15us/step - loss: 0.5860 - acc: 0.4705 - val_loss: 0.5882 - val_acc: 0.4749\n",
      "Epoch 90/100\n",
      "8143/8143 [==============================] - 0s 15us/step - loss: 0.5854 - acc: 0.4766 - val_loss: 0.5836 - val_acc: 0.4729\n",
      "Epoch 91/100\n",
      "8143/8143 [==============================] - 0s 16us/step - loss: 0.5843 - acc: 0.4782 - val_loss: 0.5831 - val_acc: 0.4680\n",
      "Epoch 92/100\n",
      "8143/8143 [==============================] - 0s 16us/step - loss: 0.5840 - acc: 0.4766 - val_loss: 0.5843 - val_acc: 0.4739\n",
      "Epoch 93/100\n",
      "8143/8143 [==============================] - 0s 18us/step - loss: 0.5828 - acc: 0.4818 - val_loss: 0.5834 - val_acc: 0.4724\n",
      "Epoch 94/100\n",
      "8143/8143 [==============================] - 0s 16us/step - loss: 0.5829 - acc: 0.4836 - val_loss: 0.5839 - val_acc: 0.4591\n",
      "Epoch 95/100\n",
      "8143/8143 [==============================] - 0s 16us/step - loss: 0.5822 - acc: 0.4859 - val_loss: 0.5813 - val_acc: 0.4798\n",
      "Epoch 96/100\n",
      "8143/8143 [==============================] - 0s 15us/step - loss: 0.5834 - acc: 0.4719 - val_loss: 0.5829 - val_acc: 0.4773\n",
      "Epoch 97/100\n",
      "8143/8143 [==============================] - 0s 16us/step - loss: 0.5817 - acc: 0.4807 - val_loss: 0.5798 - val_acc: 0.4616\n",
      "Epoch 98/100\n",
      "8143/8143 [==============================] - 0s 16us/step - loss: 0.5804 - acc: 0.4858 - val_loss: 0.5824 - val_acc: 0.4877\n",
      "Epoch 99/100\n",
      "8143/8143 [==============================] - 0s 15us/step - loss: 0.5803 - acc: 0.4824 - val_loss: 0.5789 - val_acc: 0.4670\n",
      "Epoch 100/100\n",
      "8143/8143 [==============================] - 0s 16us/step - loss: 0.5798 - acc: 0.4820 - val_loss: 0.5795 - val_acc: 0.4655\n"
     ]
    }
   ],
   "source": [
    "autoencoder.compile(metrics=['accuracy'],\n",
    "                    loss='mean_squared_error',\n",
    "                    optimizer='adam')\n",
    "\n",
    "cp = ModelCheckpoint(filepath=\"autoencoder_classifier.h5\",\n",
    "                               save_best_only=True,\n",
    "                               verbose=0)\n",
    "\n",
    "tb = TensorBoard(log_dir='./logs',\n",
    "                histogram_freq=0,\n",
    "                write_graph=True,\n",
    "                write_images=True)\n",
    "\n",
    "history = autoencoder.fit(df_train_0_x_rescaled, df_train_0_x_rescaled,\n",
    "                    epochs=nb_epoch,\n",
    "                    batch_size=batch_size,\n",
    "                    shuffle=True,\n",
    "                    validation_data=(df_valid_0_x_rescaled, df_valid_0_x_rescaled),\n",
    "                    verbose=1,\n",
    "                    callbacks=[cp, tb]).history"
   ]
  },
  {
   "cell_type": "markdown",
   "metadata": {},
   "source": [
    "## Validate "
   ]
  },
  {
   "cell_type": "code",
   "execution_count": 28,
   "metadata": {
    "ExecuteTime": {
     "end_time": "2019-05-27T22:04:45.949468Z",
     "start_time": "2019-05-27T22:04:45.769509Z"
    }
   },
   "outputs": [
    {
     "data": {
      "image/png": "[encoded data removed]",
      "text/plain": [
       "<Figure size 432x288 with 1 Axes>"
      ]
     },
     "metadata": {
      "needs_background": "light"
     },
     "output_type": "display_data"
    }
   ],
   "source": [
    "valid_x_predictions = autoencoder.predict(df_valid_x_rescaled)\n",
    "mse = np.mean(np.power(df_valid_x_rescaled - valid_x_predictions, 2), axis=1)\n",
    "error_df = pd.DataFrame({'Reconstruction_error': mse,\n",
    "                        'True_class': df_valid['ATT_FLAG'] == 1})\n",
    "\n",
    "precision_rt, recall_rt, threshold_rt = precision_recall_curve(error_df.True_class, error_df.Reconstruction_error)\n",
    "plt.plot(threshold_rt, precision_rt[1:], label=\"Precision\",linewidth=5)\n",
    "plt.plot(threshold_rt, recall_rt[1:], label=\"Recall\",linewidth=5)\n",
    "plt.title('Precision and recall for different threshold values')\n",
    "plt.xlabel('Threshold / reconstruction error')\n",
    "plt.ylabel('Precision/Recall')\n",
    "plt.legend()\n",
    "plt.show()"
   ]
  },
  {
   "cell_type": "markdown",
   "metadata": {},
   "source": [
    "## Evaluate on testing\n",
    "\n",
    "based on the above plot, choose a fixed threshold when the reconstruction error is too large"
   ]
  },
  {
   "cell_type": "code",
   "execution_count": 29,
   "metadata": {
    "ExecuteTime": {
     "end_time": "2019-05-27T22:04:46.125354Z",
     "start_time": "2019-05-27T22:04:45.951432Z"
    }
   },
   "outputs": [
    {
     "data": {
      "image/png": "[encoded data removed]",
      "text/plain": [
       "<Figure size 432x288 with 1 Axes>"
      ]
     },
     "metadata": {
      "needs_background": "light"
     },
     "output_type": "display_data"
    }
   ],
   "source": [
    "threshold_fixed = 1.5\n",
    "\n",
    "\n",
    "test_x_predictions = autoencoder.predict(df_test_x_rescaled)\n",
    "mse = np.mean(np.power(df_test_x_rescaled - test_x_predictions, 2), axis=1)\n",
    "error_df_test = pd.DataFrame({'Reconstruction_error': mse,\n",
    "                        'True_class': df_test['ATT_FLAG']})\n",
    "error_df_test = error_df_test.reset_index()\n",
    "\n",
    "groups = error_df_test.groupby('True_class')\n",
    "\n",
    "fig, ax = plt.subplots()\n",
    "\n",
    "for name, group in groups:\n",
    "    ax.plot(group.index, group.Reconstruction_error, marker='o', ms=3.5, linestyle='',\n",
    "            label= \"Attack\" if name == 1 else \"Normal\")\n",
    "ax.hlines(threshold_fixed, ax.get_xlim()[0], ax.get_xlim()[1], colors=\"r\", zorder=100, label='Threshold')\n",
    "ax.legend()\n",
    "plt.title(\"Reconstruction error for different classes\")\n",
    "plt.ylabel(\"Reconstruction error\")\n",
    "plt.xlabel(\"Data point index\")\n",
    "plt.show();"
   ]
  },
  {
   "cell_type": "markdown",
   "metadata": {},
   "source": [
    "### Use autoencoder to predict outliers\n",
    "\n",
    "Predict *attack* label if reconstruction error larger than the chosen threshold"
   ]
  },
  {
   "cell_type": "code",
   "execution_count": 30,
   "metadata": {
    "ExecuteTime": {
     "end_time": "2019-05-27T22:04:46.261639Z",
     "start_time": "2019-05-27T22:04:46.126878Z"
    }
   },
   "outputs": [
    {
     "data": {
      "image/png": "[encoded data removed]",
      "text/plain": [
       "<Figure size 864x864 with 2 Axes>"
      ]
     },
     "metadata": {
      "needs_background": "light"
     },
     "output_type": "display_data"
    }
   ],
   "source": [
    "pred_y = [1 if e > threshold_fixed else 0 for e in error_df.Reconstruction_error.values]\n",
    "\n",
    "conf_matrix = confusion_matrix(error_df.True_class, pred_y)\n",
    "\n",
    "plt.figure(figsize=(12, 12))\n",
    "sns.heatmap(conf_matrix, xticklabels=LABELS, yticklabels=LABELS, annot=True, fmt=\"d\");\n",
    "plt.title(\"Confusion matrix\")\n",
    "plt.ylabel('True class')\n",
    "plt.xlabel('Predicted class')\n",
    "plt.show()"
   ]
  },
  {
   "cell_type": "markdown",
   "metadata": {},
   "source": [
    "Plot the ROC curve for the chosen threshold"
   ]
  },
  {
   "cell_type": "code",
   "execution_count": 31,
   "metadata": {
    "ExecuteTime": {
     "end_time": "2019-05-27T22:04:46.390614Z",
     "start_time": "2019-05-27T22:04:46.265629Z"
    }
   },
   "outputs": [
    {
     "data": {
      "image/png": "[encoded data removed]",
      "text/plain": [
       "<Figure size 432x288 with 1 Axes>"
      ]
     },
     "metadata": {
      "needs_background": "light"
     },
     "output_type": "display_data"
    }
   ],
   "source": [
    "false_pos_rate, true_pos_rate, thresholds = roc_curve(error_df.True_class, error_df.Reconstruction_error)\n",
    "roc_auc = auc(false_pos_rate, true_pos_rate,)\n",
    "\n",
    "plt.plot(false_pos_rate, true_pos_rate, linewidth=5, label='AUC = %0.3f'% roc_auc)\n",
    "plt.plot([0,1],[0,1], linewidth=5)\n",
    "\n",
    "plt.xlim([-0.01, 1])\n",
    "plt.ylim([0, 1.01])\n",
    "plt.legend(loc='lower right')\n",
    "plt.title('Receiver operating characteristic curve (ROC)')\n",
    "plt.ylabel('True Positive Rate')\n",
    "plt.xlabel('False Positive Rate')\n",
    "plt.show()"
   ]
  },
  {
   "cell_type": "code",
   "execution_count": null,
   "metadata": {},
   "outputs": [],
   "source": []
  }
 ],
 "metadata": {
  "kernelspec": {
   "display_name": "Python 3",
   "language": "python",
   "name": "python3"
  },
  "language_info": {
   "codemirror_mode": {
    "name": "ipython",
    "version": 3
   },
   "file_extension": ".py",
   "mimetype": "text/x-python",
   "name": "python",
   "nbconvert_exporter": "python",
   "pygments_lexer": "ipython3",
   "version": "3.7.0"
  }
 },
 "nbformat": 4,
 "nbformat_minor": 2
}
